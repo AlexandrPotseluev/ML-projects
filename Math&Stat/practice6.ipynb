{
 "cells": [
  {
   "cell_type": "markdown",
   "metadata": {},
   "source": [
    "# Урок 6\n",
    "\n",
    "## Взаимосвязь величин. Показатели корреляции. Корреляционный анализ. Проверка на нормальность"
   ]
  },
  {
   "cell_type": "markdown",
   "metadata": {},
   "source": [
    "Часто в статистике анализируют _многомерные_ наблюдения, т.е. имеющие несколько признаков.\n",
    "\n",
    "Для этого применяют многомерный статистический анализ. Особенно часто его используют, когда нужно:\n",
    "\n",
    "* изучить зависимость между признаками и их влияние на некоторую переменную,\n",
    "* классифицировать объекты с множеством признаков,\n",
    "* понизить размерность пространства признаков (если их слишком много и нет возможности отсеять часть)."
   ]
  },
  {
   "cell_type": "markdown",
   "metadata": {
    "colab_type": "text",
    "id": "Kd6T723GKP4U"
   },
   "source": [
    "### Корреляция\n",
    "\n",
    "__Корреляция__ — математический показатель, по которому можно судить, есть ли статистическая взаимосвязь между двумя и более случайными величинами.\n",
    "\n",
    "__Коэффициент корреляции__ принимает значения из отрезка $[-1, 1]$.\n",
    "\n",
    "Если коэффициент корреляции близок к $1$, то между величинами наблюдается прямая связь: увеличение одной величины сопровождается увеличением другой, а уменьшение одной — уменьшением другой.\n",
    "\n",
    "Если же коэффициент корреляции близок к $-1$, то между величинами есть обратная корреляционная связь: увеличение одной величины сопровождается уменьшением другой и наоборот.\n",
    "\n",
    "Коэффициент корреляции, равный $0$, говорит о том, что между величинами нет связи, то есть величины изменяются независимо друг от друга."
   ]
  },
  {
   "cell_type": "markdown",
   "metadata": {},
   "source": [
    "__Пример 1__\n",
    "\n",
    "Посчитаем корреляцию роста с весом хоккеистов из рассмотренного ранее датасета. Это можно сделать с помощью метода `.corr`, который есть у объектов `DataFrame`."
   ]
  },
  {
   "cell_type": "code",
   "execution_count": 1,
   "metadata": {
    "colab": {},
    "colab_type": "code",
    "id": "O04IbTLXKP4v"
   },
   "outputs": [],
   "source": [
    "import pandas as pd"
   ]
  },
  {
   "cell_type": "code",
   "execution_count": 2,
   "metadata": {
    "colab": {},
    "colab_type": "code",
    "id": "zyT40MYOKP5C"
   },
   "outputs": [
    {
     "data": {
      "text/html": [
       "<div>\n",
       "<style scoped>\n",
       "    .dataframe tbody tr th:only-of-type {\n",
       "        vertical-align: middle;\n",
       "    }\n",
       "\n",
       "    .dataframe tbody tr th {\n",
       "        vertical-align: top;\n",
       "    }\n",
       "\n",
       "    .dataframe thead th {\n",
       "        text-align: right;\n",
       "    }\n",
       "</style>\n",
       "<table border=\"1\" class=\"dataframe\">\n",
       "  <thead>\n",
       "    <tr style=\"text-align: right;\">\n",
       "      <th></th>\n",
       "      <th>year</th>\n",
       "      <th>country</th>\n",
       "      <th>no</th>\n",
       "      <th>name</th>\n",
       "      <th>position</th>\n",
       "      <th>side</th>\n",
       "      <th>height</th>\n",
       "      <th>weight</th>\n",
       "      <th>birth</th>\n",
       "      <th>club</th>\n",
       "      <th>age</th>\n",
       "      <th>cohort</th>\n",
       "      <th>bmi</th>\n",
       "    </tr>\n",
       "  </thead>\n",
       "  <tbody>\n",
       "    <tr>\n",
       "      <th>0</th>\n",
       "      <td>2001</td>\n",
       "      <td>RUS</td>\n",
       "      <td>10</td>\n",
       "      <td>tverdovsky oleg</td>\n",
       "      <td>D</td>\n",
       "      <td>L</td>\n",
       "      <td>185</td>\n",
       "      <td>84.0</td>\n",
       "      <td>1976-05-18</td>\n",
       "      <td>anaheim mighty ducks</td>\n",
       "      <td>24.952772</td>\n",
       "      <td>1976</td>\n",
       "      <td>24.543462</td>\n",
       "    </tr>\n",
       "    <tr>\n",
       "      <th>1</th>\n",
       "      <td>2001</td>\n",
       "      <td>RUS</td>\n",
       "      <td>2</td>\n",
       "      <td>vichnevsky vitali</td>\n",
       "      <td>D</td>\n",
       "      <td>L</td>\n",
       "      <td>188</td>\n",
       "      <td>86.0</td>\n",
       "      <td>1980-03-18</td>\n",
       "      <td>anaheim mighty ducks</td>\n",
       "      <td>21.119781</td>\n",
       "      <td>1980</td>\n",
       "      <td>24.332277</td>\n",
       "    </tr>\n",
       "    <tr>\n",
       "      <th>2</th>\n",
       "      <td>2001</td>\n",
       "      <td>RUS</td>\n",
       "      <td>26</td>\n",
       "      <td>petrochinin evgeni</td>\n",
       "      <td>D</td>\n",
       "      <td>L</td>\n",
       "      <td>182</td>\n",
       "      <td>95.0</td>\n",
       "      <td>1976-02-07</td>\n",
       "      <td>severstal cherepovetal</td>\n",
       "      <td>25.229295</td>\n",
       "      <td>1976</td>\n",
       "      <td>28.680111</td>\n",
       "    </tr>\n",
       "    <tr>\n",
       "      <th>3</th>\n",
       "      <td>2001</td>\n",
       "      <td>RUS</td>\n",
       "      <td>28</td>\n",
       "      <td>zhdan alexander</td>\n",
       "      <td>D</td>\n",
       "      <td>R</td>\n",
       "      <td>178</td>\n",
       "      <td>85.0</td>\n",
       "      <td>1971-08-28</td>\n",
       "      <td>ak bars kazan</td>\n",
       "      <td>29.675565</td>\n",
       "      <td>1971</td>\n",
       "      <td>26.827421</td>\n",
       "    </tr>\n",
       "    <tr>\n",
       "      <th>4</th>\n",
       "      <td>2001</td>\n",
       "      <td>RUS</td>\n",
       "      <td>32</td>\n",
       "      <td>orekhovsky oleg</td>\n",
       "      <td>D</td>\n",
       "      <td>R</td>\n",
       "      <td>175</td>\n",
       "      <td>88.0</td>\n",
       "      <td>1977-11-03</td>\n",
       "      <td>dynamo moscow</td>\n",
       "      <td>23.490760</td>\n",
       "      <td>1977</td>\n",
       "      <td>28.734694</td>\n",
       "    </tr>\n",
       "  </tbody>\n",
       "</table>\n",
       "</div>"
      ],
      "text/plain": [
       "   year country  no                 name position side  height  weight  \\\n",
       "0  2001     RUS  10     tverdovsky oleg         D    L     185    84.0   \n",
       "1  2001     RUS   2   vichnevsky vitali         D    L     188    86.0   \n",
       "2  2001     RUS  26  petrochinin evgeni         D    L     182    95.0   \n",
       "3  2001     RUS  28     zhdan alexander         D    R     178    85.0   \n",
       "4  2001     RUS  32     orekhovsky oleg         D    R     175    88.0   \n",
       "\n",
       "        birth                     club        age  cohort        bmi  \n",
       "0  1976-05-18    anaheim mighty ducks   24.952772    1976  24.543462  \n",
       "1  1980-03-18    anaheim mighty ducks   21.119781    1980  24.332277  \n",
       "2  1976-02-07  severstal cherepovetal   25.229295    1976  28.680111  \n",
       "3  1971-08-28           ak bars kazan   29.675565    1971  26.827421  \n",
       "4  1977-11-03           dynamo moscow   23.490760    1977  28.734694  "
      ]
     },
     "execution_count": 2,
     "metadata": {},
     "output_type": "execute_result"
    }
   ],
   "source": [
    "df = pd.read_csv('hockey_players.csv')\n",
    "df.head()"
   ]
  },
  {
   "cell_type": "code",
   "execution_count": 3,
   "metadata": {
    "colab": {},
    "colab_type": "code",
    "id": "IDixqzBQKP5b",
    "outputId": "62ae15a0-6cea-450a-fb93-87b788ce9637"
   },
   "outputs": [
    {
     "data": {
      "text/html": [
       "<div>\n",
       "<style scoped>\n",
       "    .dataframe tbody tr th:only-of-type {\n",
       "        vertical-align: middle;\n",
       "    }\n",
       "\n",
       "    .dataframe tbody tr th {\n",
       "        vertical-align: top;\n",
       "    }\n",
       "\n",
       "    .dataframe thead th {\n",
       "        text-align: right;\n",
       "    }\n",
       "</style>\n",
       "<table border=\"1\" class=\"dataframe\">\n",
       "  <thead>\n",
       "    <tr style=\"text-align: right;\">\n",
       "      <th></th>\n",
       "      <th>height</th>\n",
       "      <th>weight</th>\n",
       "    </tr>\n",
       "  </thead>\n",
       "  <tbody>\n",
       "    <tr>\n",
       "      <th>height</th>\n",
       "      <td>1.000000</td>\n",
       "      <td>0.693731</td>\n",
       "    </tr>\n",
       "    <tr>\n",
       "      <th>weight</th>\n",
       "      <td>0.693731</td>\n",
       "      <td>1.000000</td>\n",
       "    </tr>\n",
       "  </tbody>\n",
       "</table>\n",
       "</div>"
      ],
      "text/plain": [
       "          height    weight\n",
       "height  1.000000  0.693731\n",
       "weight  0.693731  1.000000"
      ]
     },
     "execution_count": 3,
     "metadata": {},
     "output_type": "execute_result"
    }
   ],
   "source": [
    "df[['height', 'weight']].corr()"
   ]
  },
  {
   "cell_type": "markdown",
   "metadata": {
    "colab_type": "text",
    "id": "54n8mVpfKP5y"
   },
   "source": [
    "В результате получается матрица корреляций. Мы видим, что корреляция роста и веса достаточно высока. Можно сделать вывод, что, как правило, чем выше рост хоккеиста, тем больше его вес.\n",
    "\n",
    "Рассмотрим также корреляцию этих признаков с возрастом хоккеистов:"
   ]
  },
  {
   "cell_type": "code",
   "execution_count": 4,
   "metadata": {},
   "outputs": [
    {
     "data": {
      "text/html": [
       "<div>\n",
       "<style scoped>\n",
       "    .dataframe tbody tr th:only-of-type {\n",
       "        vertical-align: middle;\n",
       "    }\n",
       "\n",
       "    .dataframe tbody tr th {\n",
       "        vertical-align: top;\n",
       "    }\n",
       "\n",
       "    .dataframe thead th {\n",
       "        text-align: right;\n",
       "    }\n",
       "</style>\n",
       "<table border=\"1\" class=\"dataframe\">\n",
       "  <thead>\n",
       "    <tr style=\"text-align: right;\">\n",
       "      <th></th>\n",
       "      <th>height</th>\n",
       "      <th>weight</th>\n",
       "      <th>age</th>\n",
       "    </tr>\n",
       "  </thead>\n",
       "  <tbody>\n",
       "    <tr>\n",
       "      <th>height</th>\n",
       "      <td>1.000000</td>\n",
       "      <td>0.693731</td>\n",
       "      <td>-0.077862</td>\n",
       "    </tr>\n",
       "    <tr>\n",
       "      <th>weight</th>\n",
       "      <td>0.693731</td>\n",
       "      <td>1.000000</td>\n",
       "      <td>0.090665</td>\n",
       "    </tr>\n",
       "    <tr>\n",
       "      <th>age</th>\n",
       "      <td>-0.077862</td>\n",
       "      <td>0.090665</td>\n",
       "      <td>1.000000</td>\n",
       "    </tr>\n",
       "  </tbody>\n",
       "</table>\n",
       "</div>"
      ],
      "text/plain": [
       "          height    weight       age\n",
       "height  1.000000  0.693731 -0.077862\n",
       "weight  0.693731  1.000000  0.090665\n",
       "age    -0.077862  0.090665  1.000000"
      ]
     },
     "execution_count": 4,
     "metadata": {},
     "output_type": "execute_result"
    }
   ],
   "source": [
    "df[['height', 'weight', 'age']].corr()"
   ]
  },
  {
   "cell_type": "code",
   "execution_count": 5,
   "metadata": {},
   "outputs": [
    {
     "data": {
      "text/plain": [
       "count    3294.000000\n",
       "mean       26.379341\n",
       "std         4.247066\n",
       "min        17.642710\n",
       "25%        23.245038\n",
       "50%        25.895962\n",
       "75%        29.135524\n",
       "max        41.505818\n",
       "Name: age, dtype: float64"
      ]
     },
     "execution_count": 5,
     "metadata": {},
     "output_type": "execute_result"
    }
   ],
   "source": [
    "df['age'].describe()"
   ]
  },
  {
   "cell_type": "markdown",
   "metadata": {},
   "source": [
    "Видно, что корреляция возраста достаточно низка как с ростом, так и с весом спортсменов."
   ]
  },
  {
   "cell_type": "markdown",
   "metadata": {},
   "source": [
    "### Взаимосвязь величин\n",
    "\n",
    "Если две величины коррелируют, это может свидетельствовать о наличии _статистической связи_ между ними. Однако, говорить о ней мы можем только для величин из одной выборки. Корреляция величин в одной выборке не гарантирует того, что подобная связь встретится и в другой выборке и должна будет иметь такую же природу. \n",
    "\n",
    "Высокая корреляция между величинами не может быть интерпретирована как наличие причинно-следственной связи между ними.\n",
    "\n",
    "Например, если рассмотреть данные о пожарах в городе, можно увидеть, что между материальными потерями, вызванными пожаром, и количеством пожарных, которые принимали участие в его тушении, есть сильная корреляция. При этом ложным будет вывод о том, что большое количество пожарных, присутствующих на пожаре, приводит к увеличению ущерба от него. \n",
    "\n",
    "Высокая корреляция двух величин может свидетельствовать о том, что у них есть _общая причина_, несмотря на то, что прямого взаимодействия между двумя коррелирующими величинами нет. \n",
    "\n",
    "Например, наступление зимы может быть причиной и  роста заболеваемости простудой, и повышения расходов на отопление. Эти две величины (число заболевших и расходы на отопление) имеют высокую корреляцию между собой, хотя они друг на друга напрямую не влияют.\n",
    "\n",
    "Напротив, отсутствие корреляции между двумя величинами еще не говорит о том, что между показателями нет связи. \n",
    "Вполне возможно, что между признаками есть нелинейная зависимость, которую не может уловить используемый коэффициент корреляции."
   ]
  },
  {
   "cell_type": "markdown",
   "metadata": {},
   "source": [
    "__Пример 2__\n",
    "\n",
    "Посчитаем корреляцию между ростом и BMI (_Body Mass Index_, т.е. _Индекс массы тела_). BMI равен весу, разделённому на квадрат роста:\n",
    "$$BMI = \\dfrac{weight}{height^2}.$$"
   ]
  },
  {
   "cell_type": "code",
   "execution_count": 6,
   "metadata": {},
   "outputs": [
    {
     "data": {
      "text/html": [
       "<div>\n",
       "<style scoped>\n",
       "    .dataframe tbody tr th:only-of-type {\n",
       "        vertical-align: middle;\n",
       "    }\n",
       "\n",
       "    .dataframe tbody tr th {\n",
       "        vertical-align: top;\n",
       "    }\n",
       "\n",
       "    .dataframe thead th {\n",
       "        text-align: right;\n",
       "    }\n",
       "</style>\n",
       "<table border=\"1\" class=\"dataframe\">\n",
       "  <thead>\n",
       "    <tr style=\"text-align: right;\">\n",
       "      <th></th>\n",
       "      <th>height</th>\n",
       "      <th>weight</th>\n",
       "      <th>bmi</th>\n",
       "    </tr>\n",
       "  </thead>\n",
       "  <tbody>\n",
       "    <tr>\n",
       "      <th>height</th>\n",
       "      <td>1.000000</td>\n",
       "      <td>0.693731</td>\n",
       "      <td>-0.067106</td>\n",
       "    </tr>\n",
       "    <tr>\n",
       "      <th>weight</th>\n",
       "      <td>0.693731</td>\n",
       "      <td>1.000000</td>\n",
       "      <td>0.670663</td>\n",
       "    </tr>\n",
       "    <tr>\n",
       "      <th>bmi</th>\n",
       "      <td>-0.067106</td>\n",
       "      <td>0.670663</td>\n",
       "      <td>1.000000</td>\n",
       "    </tr>\n",
       "  </tbody>\n",
       "</table>\n",
       "</div>"
      ],
      "text/plain": [
       "          height    weight       bmi\n",
       "height  1.000000  0.693731 -0.067106\n",
       "weight  0.693731  1.000000  0.670663\n",
       "bmi    -0.067106  0.670663  1.000000"
      ]
     },
     "execution_count": 6,
     "metadata": {},
     "output_type": "execute_result"
    }
   ],
   "source": [
    "df[['height', 'weight', 'bmi']].corr()"
   ]
  },
  {
   "cell_type": "code",
   "execution_count": 7,
   "metadata": {},
   "outputs": [
    {
     "data": {
      "text/html": [
       "<div>\n",
       "<style scoped>\n",
       "    .dataframe tbody tr th:only-of-type {\n",
       "        vertical-align: middle;\n",
       "    }\n",
       "\n",
       "    .dataframe tbody tr th {\n",
       "        vertical-align: top;\n",
       "    }\n",
       "\n",
       "    .dataframe thead th {\n",
       "        text-align: right;\n",
       "    }\n",
       "</style>\n",
       "<table border=\"1\" class=\"dataframe\">\n",
       "  <thead>\n",
       "    <tr style=\"text-align: right;\">\n",
       "      <th></th>\n",
       "      <th>year</th>\n",
       "      <th>no</th>\n",
       "      <th>height</th>\n",
       "      <th>weight</th>\n",
       "      <th>age</th>\n",
       "      <th>cohort</th>\n",
       "      <th>bmi</th>\n",
       "    </tr>\n",
       "  </thead>\n",
       "  <tbody>\n",
       "    <tr>\n",
       "      <th>count</th>\n",
       "      <td>3294.000000</td>\n",
       "      <td>3294.000000</td>\n",
       "      <td>3294.000000</td>\n",
       "      <td>3294.000000</td>\n",
       "      <td>3294.000000</td>\n",
       "      <td>3294.000000</td>\n",
       "      <td>3294.000000</td>\n",
       "    </tr>\n",
       "    <tr>\n",
       "      <th>mean</th>\n",
       "      <td>2006.860959</td>\n",
       "      <td>28.520036</td>\n",
       "      <td>183.829387</td>\n",
       "      <td>87.464633</td>\n",
       "      <td>26.379341</td>\n",
       "      <td>1980.365513</td>\n",
       "      <td>25.865320</td>\n",
       "    </tr>\n",
       "    <tr>\n",
       "      <th>std</th>\n",
       "      <td>4.453502</td>\n",
       "      <td>22.776900</td>\n",
       "      <td>5.467629</td>\n",
       "      <td>7.043294</td>\n",
       "      <td>4.247066</td>\n",
       "      <td>6.802670</td>\n",
       "      <td>1.498745</td>\n",
       "    </tr>\n",
       "    <tr>\n",
       "      <th>min</th>\n",
       "      <td>2001.000000</td>\n",
       "      <td>1.000000</td>\n",
       "      <td>165.000000</td>\n",
       "      <td>65.000000</td>\n",
       "      <td>17.642710</td>\n",
       "      <td>1963.000000</td>\n",
       "      <td>19.460881</td>\n",
       "    </tr>\n",
       "    <tr>\n",
       "      <th>25%</th>\n",
       "      <td>2004.000000</td>\n",
       "      <td>12.000000</td>\n",
       "      <td>180.000000</td>\n",
       "      <td>83.000000</td>\n",
       "      <td>23.245038</td>\n",
       "      <td>1975.000000</td>\n",
       "      <td>24.901982</td>\n",
       "    </tr>\n",
       "    <tr>\n",
       "      <th>50%</th>\n",
       "      <td>2006.000000</td>\n",
       "      <td>23.000000</td>\n",
       "      <td>184.000000</td>\n",
       "      <td>87.000000</td>\n",
       "      <td>25.895962</td>\n",
       "      <td>1980.000000</td>\n",
       "      <td>25.811182</td>\n",
       "    </tr>\n",
       "    <tr>\n",
       "      <th>75%</th>\n",
       "      <td>2010.000000</td>\n",
       "      <td>37.000000</td>\n",
       "      <td>188.000000</td>\n",
       "      <td>92.000000</td>\n",
       "      <td>29.135524</td>\n",
       "      <td>1985.000000</td>\n",
       "      <td>26.861207</td>\n",
       "    </tr>\n",
       "    <tr>\n",
       "      <th>max</th>\n",
       "      <td>2016.000000</td>\n",
       "      <td>98.000000</td>\n",
       "      <td>205.000000</td>\n",
       "      <td>117.000000</td>\n",
       "      <td>41.505818</td>\n",
       "      <td>1998.000000</td>\n",
       "      <td>30.930438</td>\n",
       "    </tr>\n",
       "  </tbody>\n",
       "</table>\n",
       "</div>"
      ],
      "text/plain": [
       "              year           no       height       weight          age  \\\n",
       "count  3294.000000  3294.000000  3294.000000  3294.000000  3294.000000   \n",
       "mean   2006.860959    28.520036   183.829387    87.464633    26.379341   \n",
       "std       4.453502    22.776900     5.467629     7.043294     4.247066   \n",
       "min    2001.000000     1.000000   165.000000    65.000000    17.642710   \n",
       "25%    2004.000000    12.000000   180.000000    83.000000    23.245038   \n",
       "50%    2006.000000    23.000000   184.000000    87.000000    25.895962   \n",
       "75%    2010.000000    37.000000   188.000000    92.000000    29.135524   \n",
       "max    2016.000000    98.000000   205.000000   117.000000    41.505818   \n",
       "\n",
       "            cohort          bmi  \n",
       "count  3294.000000  3294.000000  \n",
       "mean   1980.365513    25.865320  \n",
       "std       6.802670     1.498745  \n",
       "min    1963.000000    19.460881  \n",
       "25%    1975.000000    24.901982  \n",
       "50%    1980.000000    25.811182  \n",
       "75%    1985.000000    26.861207  \n",
       "max    1998.000000    30.930438  "
      ]
     },
     "execution_count": 7,
     "metadata": {},
     "output_type": "execute_result"
    }
   ],
   "source": [
    "df.describe()"
   ]
  },
  {
   "cell_type": "markdown",
   "metadata": {},
   "source": [
    "Как мы видим, коэффициент корреляции не улавливает зависимость между ростом и BMI. Это можно объяснить тем, что зависимость между ними не линейная, а квадратичная."
   ]
  },
  {
   "cell_type": "markdown",
   "metadata": {},
   "source": [
    "### Показатели корреляции\n",
    "\n",
    "__Ковариация__ — мера линейной зависимости случайных величин. Её формула похожа на формулу дисперсии (_variance_). \n",
    "\n",
    "Формула ковариации случайных величин $X$ и $Y$:\n",
    "$$\\operatorname{cov}(X, Y) = M\\left( (X - M(X)) (Y - M(Y)) \\right).$$\n",
    "\n",
    "Оценка ковариации бывает смещённой и несмещённой. Несмещённую оценку можно посчитать следующим образом:\n",
    "$$\\sigma_{XY} = \\dfrac{1}{n - 1} \\displaystyle\\sum_{i = 1}^n (x_i - \\overline{X}) \\cdot (y_i - \\overline{Y})$$\n",
    "\n",
    "Здесь $X$, $Y$ — выборки размера $n$."
   ]
  },
  {
   "cell_type": "markdown",
   "metadata": {},
   "source": [
    "__Пример 3__\n",
    "\n",
    "Посчитаем ковариацию между ростом и весом хоккеистов."
   ]
  },
  {
   "cell_type": "code",
   "execution_count": 8,
   "metadata": {},
   "outputs": [
    {
     "data": {
      "text/plain": [
       "26.715646388698516"
      ]
     },
     "execution_count": 8,
     "metadata": {},
     "output_type": "execute_result"
    }
   ],
   "source": [
    "X = df['height']\n",
    "Y = df['weight']\n",
    "\n",
    "MX = X.mean()\n",
    "MY = Y.mean()\n",
    "\n",
    "cov = ((X - MX) * (Y - MY)).sum() / (X.shape[0] - 1)\n",
    "cov"
   ]
  },
  {
   "cell_type": "markdown",
   "metadata": {},
   "source": [
    "Также с помощью `numpy`:"
   ]
  },
  {
   "cell_type": "code",
   "execution_count": 10,
   "metadata": {},
   "outputs": [],
   "source": [
    "import numpy as np"
   ]
  },
  {
   "cell_type": "code",
   "execution_count": 11,
   "metadata": {},
   "outputs": [
    {
     "data": {
      "text/plain": [
       "array([[29.89496367, 26.71564639],\n",
       "       [26.71564639, 49.60799566]])"
      ]
     },
     "execution_count": 11,
     "metadata": {},
     "output_type": "execute_result"
    }
   ],
   "source": [
    "np.cov(X, Y, ddof=1)"
   ]
  },
  {
   "cell_type": "markdown",
   "metadata": {},
   "source": [
    "Эта функция возвращает не значение ковариации, а т.н. __матрицу ковариаций__. В ней по диагонали стоят вариации (т.е. дисперсии) каждой из выборок, а вне диагонали — попарные ковариации."
   ]
  },
  {
   "cell_type": "code",
   "execution_count": 12,
   "metadata": {},
   "outputs": [
    {
     "data": {
      "text/plain": [
       "(29.894963668771, 49.60799565913306)"
      ]
     },
     "execution_count": 12,
     "metadata": {},
     "output_type": "execute_result"
    }
   ],
   "source": [
    "X.var(), Y.var()"
   ]
  },
  {
   "cell_type": "markdown",
   "metadata": {},
   "source": [
    "Значение ковариации случайных величин сильно зависит от уровня разброса каждой из величин. Например, если в предыдущем примере домножить одну из выборок на какую-то константу, коэффициент ковариации также увеличится:"
   ]
  },
  {
   "cell_type": "code",
   "execution_count": 13,
   "metadata": {},
   "outputs": [
    {
     "data": {
      "text/plain": [
       "array([[2989.49636688,  267.15646389],\n",
       "       [ 267.15646389,   49.60799566]])"
      ]
     },
     "execution_count": 13,
     "metadata": {},
     "output_type": "execute_result"
    }
   ],
   "source": [
    "np.cov(X * 10, Y)"
   ]
  },
  {
   "cell_type": "markdown",
   "metadata": {},
   "source": [
    "Поэтому в качестве числовой характеристики зависимости случайных величин лучше использовать __коэффициент корреляции Пирсона__:\n",
    "$$r_{XY} = \\dfrac{\\sigma_{XY}}{\\sigma_X \\cdot \\sigma_Y}$$\n",
    "\n",
    "Здесь $\\sigma_X$, $\\sigma_Y$ — среднее квадратическое отклонение."
   ]
  },
  {
   "cell_type": "markdown",
   "metadata": {},
   "source": [
    "__Пример 4__\n",
    "\n",
    "Посчитаем коэффициент корреляции для выборок из предыдущего примера. Для вычисления средних квадратических отклонений воспользуемся методом `.std`, который по умолчанию вычисляет несмещённую оценку."
   ]
  },
  {
   "cell_type": "code",
   "execution_count": 14,
   "metadata": {},
   "outputs": [
    {
     "data": {
      "text/plain": [
       "0.6937305679663021"
      ]
     },
     "execution_count": 14,
     "metadata": {},
     "output_type": "execute_result"
    }
   ],
   "source": [
    "corr = cov / (X.std() * Y.std())\n",
    "corr"
   ]
  },
  {
   "cell_type": "markdown",
   "metadata": {},
   "source": [
    "Коэффициент корреляции Пирсона считается по умолчанию с помощью метода `.corr` объектов `pandas.DataFrame`, с помощью которого мы вычисляли корреляцию ранее:"
   ]
  },
  {
   "cell_type": "code",
   "execution_count": 15,
   "metadata": {},
   "outputs": [
    {
     "data": {
      "text/html": [
       "<div>\n",
       "<style scoped>\n",
       "    .dataframe tbody tr th:only-of-type {\n",
       "        vertical-align: middle;\n",
       "    }\n",
       "\n",
       "    .dataframe tbody tr th {\n",
       "        vertical-align: top;\n",
       "    }\n",
       "\n",
       "    .dataframe thead th {\n",
       "        text-align: right;\n",
       "    }\n",
       "</style>\n",
       "<table border=\"1\" class=\"dataframe\">\n",
       "  <thead>\n",
       "    <tr style=\"text-align: right;\">\n",
       "      <th></th>\n",
       "      <th>height</th>\n",
       "      <th>weight</th>\n",
       "    </tr>\n",
       "  </thead>\n",
       "  <tbody>\n",
       "    <tr>\n",
       "      <th>height</th>\n",
       "      <td>1.000000</td>\n",
       "      <td>0.693731</td>\n",
       "    </tr>\n",
       "    <tr>\n",
       "      <th>weight</th>\n",
       "      <td>0.693731</td>\n",
       "      <td>1.000000</td>\n",
       "    </tr>\n",
       "  </tbody>\n",
       "</table>\n",
       "</div>"
      ],
      "text/plain": [
       "          height    weight\n",
       "height  1.000000  0.693731\n",
       "weight  0.693731  1.000000"
      ]
     },
     "execution_count": 15,
     "metadata": {},
     "output_type": "execute_result"
    }
   ],
   "source": [
    "df[['height', 'weight']].corr()"
   ]
  },
  {
   "cell_type": "markdown",
   "metadata": {},
   "source": [
    "Ту же самую матрицу корреляций можно получить с помощью функции `numpy.corrcoef`."
   ]
  },
  {
   "cell_type": "code",
   "execution_count": 16,
   "metadata": {},
   "outputs": [
    {
     "data": {
      "text/plain": [
       "array([[1.        , 0.69373057],\n",
       "       [0.69373057, 1.        ]])"
      ]
     },
     "execution_count": 16,
     "metadata": {},
     "output_type": "execute_result"
    }
   ],
   "source": [
    "np.corrcoef(X, Y)"
   ]
  },
  {
   "cell_type": "markdown",
   "metadata": {},
   "source": [
    "Плюсы использования коэффициента Пирсона:\n",
    "* Использует много информации (средние и отклонения выборок),\n",
    "* Позволяет проводить тесты на значимость корреляции: статистика\n",
    "$$t = \\frac{r \\sqrt{n - 2}}{\\sqrt{1 - r^2}}$$\n",
    "имеет распределение Стьюдента с $n - 2$ степенями свободы.\n",
    "\n",
    "Минусы:\n",
    "* Выборки должны иметь нормальное распределение,\n",
    "* Измеряет уровень _линейной зависимости_."
   ]
  },
  {
   "cell_type": "markdown",
   "metadata": {},
   "source": [
    "__Ранговая корреляция__\n",
    "\n",
    "Помимо линейной зависимости существует также понятие __ранговой__ (или __порядковой__) зависимости. Это тип зависимости, при котором увеличение значения одной случайной величины соответствует увеличению второй, а уменьшение первой — уменьшению второй. Однако, в отличие от линейной зависимости, при ранговой зависимости не требуется чтобы степень увеличения или уменьшения двух значений были линейно зависимы.\n",
    "\n",
    "Высокое значение ранговой корреляции означает, что если отсортировать два массива по возрастанию первого, то второй также будет возрастать."
   ]
  },
  {
   "cell_type": "markdown",
   "metadata": {},
   "source": [
    "__Пример 5__\n",
    "\n",
    "Сгенерируем выборку из экспоненциального распределения размера $100$. Вторую выборку получим, возведя первую в пятую степень. (Т.е. в этом случае имеем прямую зависимость между выборками.)"
   ]
  },
  {
   "cell_type": "code",
   "execution_count": 17,
   "metadata": {},
   "outputs": [],
   "source": [
    "from matplotlib import pyplot as plt\n",
    "plt.style.use('seaborn-whitegrid')"
   ]
  },
  {
   "cell_type": "code",
   "execution_count": 20,
   "metadata": {},
   "outputs": [
    {
     "data": {
      "text/plain": [
       "<matplotlib.collections.PathCollection at 0x11854cd60>"
      ]
     },
     "execution_count": 20,
     "metadata": {},
     "output_type": "execute_result"
    },
    {
     "data": {
      "image/png": "[encoded data removed]",
      "text/plain": [
       "<Figure size 432x288 with 1 Axes>"
      ]
     },
     "metadata": {},
     "output_type": "display_data"
    }
   ],
   "source": [
    "x = np.random.exponential(size=100)\n",
    "y = x ** 5\n",
    "\n",
    "plt.scatter(x, y)"
   ]
  },
  {
   "cell_type": "markdown",
   "metadata": {},
   "source": [
    "Посчитаем коэффициент корреляции Пирсона:"
   ]
  },
  {
   "cell_type": "code",
   "execution_count": 21,
   "metadata": {},
   "outputs": [
    {
     "data": {
      "text/plain": [
       "array([[1.        , 0.77919672],\n",
       "       [0.77919672, 1.        ]])"
      ]
     },
     "execution_count": 21,
     "metadata": {},
     "output_type": "execute_result"
    }
   ],
   "source": [
    "np.corrcoef(x, y)"
   ]
  },
  {
   "cell_type": "markdown",
   "metadata": {},
   "source": [
    "Несмотря на наличие прямой зависимости между переменными, коэффициент корреляции Пирсона оказался не очень высоким. Причина в том, что, как мы уже отмечали, коэффициент Пирсона отражает уровень именно линейной зависимости.\n",
    "\n",
    "Если нас интересует уровень зависимости вообще, ранговые показатели оказываются более полезными."
   ]
  },
  {
   "cell_type": "markdown",
   "metadata": {},
   "source": [
    "Популярными коэффициентами ранговой корреляции являются коэффициент Кендалла и коэффициент Спирмана. Мы здесь рассмотрим первый из них.\n",
    "\n",
    "Допустим, $(x_1, y_1)$, ..., $(x_m, y_m)$ — все пары значений двух выборок. Две пары $(x_i, y_i)$ и $(x_j, y_j)$ называются __согласованными__, если $x_i < x_j$ и $y_i < y_j$, или наоборот $x_i > x_j$ и $y_i > y_j$. В противном случае они называются __несогласованными__. \n",
    "\n",
    "Пусть $P$ — число всех согласованных комбинаций из двух пар, а $Q$ — число всех несогласованных комбинаций двух пар. __Коэффициент корреляции Кендалла__:\n",
    "$$\\tau = \\dfrac{P - Q}{P + Q}$$\n",
    "\n",
    "_Замечание_. Такое определение коэффициента Кендалла возможно только если выборки $X$ и $Y$ не имеют повторов. Существуют уточнённые версии коэффициента Кендалла, допускающие повторы, но мы их здесь не приводим."
   ]
  },
  {
   "cell_type": "markdown",
   "metadata": {},
   "source": [
    "__Пример 5 (продолжение)__\n",
    "\n",
    "Посчитаем коэффициент Кендалла для сравнения. Сперва сделаем это вручную."
   ]
  },
  {
   "cell_type": "code",
   "execution_count": 26,
   "metadata": {},
   "outputs": [],
   "source": [
    "def is_concordant(pair1: tuple, pair2: tuple) -> bool:\n",
    "    \"\"\"Являются ли две пары согласованными.\n",
    "    \"\"\"\n",
    "    \n",
    "    \n",
    "    return (pair1[0] - pair2[0]) * (pair1[1] - pair2[1]) > 0"
   ]
  },
  {
   "cell_type": "markdown",
   "metadata": {},
   "source": [
    "Число согласованных и несогласованных пар посчитаем с использованием функции `combinations` из библиотеки `itertools`. Она возвращает итератор по всем сочетаниям из заданного набора."
   ]
  },
  {
   "cell_type": "code",
   "execution_count": 22,
   "metadata": {},
   "outputs": [],
   "source": [
    "from itertools import combinations"
   ]
  },
  {
   "cell_type": "code",
   "execution_count": 23,
   "metadata": {},
   "outputs": [
    {
     "data": {
      "text/plain": [
       "[(0, 1),\n",
       " (0, 2),\n",
       " (0, 3),\n",
       " (0, 4),\n",
       " (0, 5),\n",
       " (1, 2),\n",
       " (1, 3),\n",
       " (1, 4),\n",
       " (1, 5),\n",
       " (2, 3),\n",
       " (2, 4),\n",
       " (2, 5),\n",
       " (3, 4),\n",
       " (3, 5),\n",
       " (4, 5)]"
      ]
     },
     "execution_count": 23,
     "metadata": {},
     "output_type": "execute_result"
    }
   ],
   "source": [
    "list(combinations(range(6), r=2))"
   ]
  },
  {
   "cell_type": "code",
   "execution_count": 24,
   "metadata": {},
   "outputs": [
    {
     "data": {
      "text/plain": [
       "[(0.7065043898221218, 0.17602498795672986),\n",
       " (1.3892297328949517, 5.174523319548499),\n",
       " (0.2937400755258958, 0.0021868349743233437),\n",
       " (0.5562780307551091, 0.053267160041067234),\n",
       " (0.12074833320801542, 2.5668809249094807e-05),\n",
       " (0.3655259161977354, 0.006525155590427973),\n",
       " (1.5234943091058948, 8.207373193049305),\n",
       " (0.7150917753936187, 0.18698592419283347),\n",
       " (0.03347330397798619, 4.202356644856421e-08),\n",
       " (2.145543746328435, 45.46601279231207)]"
      ]
     },
     "execution_count": 24,
     "metadata": {},
     "output_type": "execute_result"
    }
   ],
   "source": [
    "list(zip(x, y))[:10]"
   ]
  },
  {
   "cell_type": "code",
   "execution_count": 27,
   "metadata": {},
   "outputs": [
    {
     "data": {
      "text/plain": [
       "(4950, 0)"
      ]
     },
     "execution_count": 27,
     "metadata": {},
     "output_type": "execute_result"
    }
   ],
   "source": [
    "P = 0\n",
    "Q = 0\n",
    "\n",
    "for pair1, pair2 in combinations(zip(x, y), r=2):\n",
    "    if is_concordant(pair1, pair2):\n",
    "        P += 1\n",
    "    else:\n",
    "        Q += 1\n",
    "        \n",
    "P, Q"
   ]
  },
  {
   "cell_type": "markdown",
   "metadata": {},
   "source": [
    "Итак, коэффициент:"
   ]
  },
  {
   "cell_type": "code",
   "execution_count": 28,
   "metadata": {},
   "outputs": [
    {
     "data": {
      "text/plain": [
       "1.0"
      ]
     },
     "execution_count": 28,
     "metadata": {},
     "output_type": "execute_result"
    }
   ],
   "source": [
    "tau = (P - Q) / (P + Q)\n",
    "tau"
   ]
  },
  {
   "cell_type": "markdown",
   "metadata": {},
   "source": [
    "Готовая реализация коэффициента Кендалла есть в библиотеке `pandas`. В метод `.corr` нужно подать аргумент `method='kendall'`."
   ]
  },
  {
   "cell_type": "code",
   "execution_count": 29,
   "metadata": {},
   "outputs": [
    {
     "data": {
      "text/html": [
       "<div>\n",
       "<style scoped>\n",
       "    .dataframe tbody tr th:only-of-type {\n",
       "        vertical-align: middle;\n",
       "    }\n",
       "\n",
       "    .dataframe tbody tr th {\n",
       "        vertical-align: top;\n",
       "    }\n",
       "\n",
       "    .dataframe thead th {\n",
       "        text-align: right;\n",
       "    }\n",
       "</style>\n",
       "<table border=\"1\" class=\"dataframe\">\n",
       "  <thead>\n",
       "    <tr style=\"text-align: right;\">\n",
       "      <th></th>\n",
       "      <th>x</th>\n",
       "      <th>y</th>\n",
       "    </tr>\n",
       "  </thead>\n",
       "  <tbody>\n",
       "    <tr>\n",
       "      <th>x</th>\n",
       "      <td>1.0</td>\n",
       "      <td>1.0</td>\n",
       "    </tr>\n",
       "    <tr>\n",
       "      <th>y</th>\n",
       "      <td>1.0</td>\n",
       "      <td>1.0</td>\n",
       "    </tr>\n",
       "  </tbody>\n",
       "</table>\n",
       "</div>"
      ],
      "text/plain": [
       "     x    y\n",
       "x  1.0  1.0\n",
       "y  1.0  1.0"
      ]
     },
     "execution_count": 29,
     "metadata": {},
     "output_type": "execute_result"
    }
   ],
   "source": [
    "pd.DataFrame({'x': x, 'y': y}).corr(method='kendall')"
   ]
  },
  {
   "cell_type": "markdown",
   "metadata": {},
   "source": [
    "Про уточнённые версии коэффициента Кендалла можно почитать, например, [здесь](https://en.wikipedia.org/wiki/Kendall_rank_correlation_coefficient)."
   ]
  },
  {
   "cell_type": "markdown",
   "metadata": {},
   "source": [
    "Плюсы использования коэффициента Кендалла:\n",
    "* Не требует нормальности распределений,\n",
    "* Порядковая зависимость является обобщением линейной.\n",
    "\n",
    "Минусы:\n",
    "* Использует меньше информации, чем коэффициент Пирсона (соответствие значений между парами элементов),\n",
    "* Прямое проведение тестов на значимость корреляции малореально."
   ]
  },
  {
   "cell_type": "code",
   "execution_count": null,
   "metadata": {},
   "outputs": [],
   "source": [
    "df[['height', 'weight', 'bmi', 'age']].corr(method='kendall')"
   ]
  },
  {
   "cell_type": "markdown",
   "metadata": {},
   "source": [
    "### Проверка на нормальность\n",
    "\n",
    "Ранее мы неоднократно отмечали, что применимость того или иного метода сильно зависит от того, является ли распределение в нашей выборке нормальным. \n",
    "\n",
    "Методы проверки на нормальность делятся на 3 класса:\n",
    "1. Графические методы:\n",
    "    * Гистограмма,\n",
    "    * Q-Q кривая,\n",
    "2. Методы на основании правил разброса (стандартное отклонение, 2 сигмы, 3 сигмы),\n",
    "3. Статистические методы:\n",
    "    * Колмогорова-Смирнова,\n",
    "    * Шапиро-Уилка,\n",
    "    * ...\n",
    "\n",
    "Как следует из названия, __графическе методы__ используют для проверки на нормальность различные графики и диаграммы.\n",
    "\n",
    "Например, по выборке можно построить гистограмму и оценить, насколько она «похожа» на гистограмму нормального распределения."
   ]
  },
  {
   "cell_type": "markdown",
   "metadata": {},
   "source": [
    "__Пример 6__\n",
    "\n",
    "Построим гистограммы некоторых признаков из нашего датасета о хоккеистах. Поверх них нарисуем функции плотностей для нормальных распределений с соответствующими параметрами."
   ]
  },
  {
   "cell_type": "code",
   "execution_count": 31,
   "metadata": {},
   "outputs": [],
   "source": [
    "from scipy import stats"
   ]
  },
  {
   "cell_type": "code",
   "execution_count": 33,
   "metadata": {},
   "outputs": [
    {
     "data": {
      "image/png": "[encoded data removed]",
      "text/plain": [
       "<Figure size 864x288 with 3 Axes>"
      ]
     },
     "metadata": {},
     "output_type": "display_data"
    }
   ],
   "source": [
    "keys = ['age', 'weight', 'height']\n",
    "\n",
    "fig, axes = plt.subplots(ncols=len(keys))\n",
    "fig.set_size_inches(4 * len(keys), 4)\n",
    "axes = axes.flatten()\n",
    "\n",
    "for key, ax in zip(keys, axes):\n",
    "    ax.hist(df[key], density=True, bins=15)\n",
    "    \n",
    "    loc = df[key].mean()\n",
    "    scale = df[key].std()\n",
    "    \n",
    "    x_left, x_right = ax.get_xlim()\n",
    "    x = np.linspace(x_left, x_right, 10000)\n",
    "    y = stats.norm.pdf(x, loc=loc, scale=scale)\n",
    "    \n",
    "    ax.plot(x, y, linestyle='dashed')\n",
    "    ax.set_title(key)"
   ]
  },
  {
   "cell_type": "markdown",
   "metadata": {},
   "source": [
    "Другой способ графически оценить нормальность выборки — __Q-Q кривая__ (или __кривая квантиль-квантиль__):\n",
    "1. По данной выборке считаем выборочные среднее $a$ и среднее квадратическое отклонение $\\sigma$.\n",
    "2. Для каждого значения $\\alpha \\in (0, 1)$ откладываем по оси $x$ квантиль порядка $\\alpha$ для нормального распределения с параметрами $a$, $\\sigma$, а по оси $y$ — выборочный квантиль порядка $\\alpha$.\n",
    "\n",
    "Получившийся набор точек должен лежать на прямой $f(x) = x$. Оценить близость получившихся точек к данной прямой можно с помощью _парной регрессии_ (об этом — на следующем занятии).\n",
    "\n",
    "__Пример 7__\n",
    "\n",
    "Построим Q-Q кривую для выборок из предыдущего примера."
   ]
  },
  {
   "cell_type": "code",
   "execution_count": 34,
   "metadata": {},
   "outputs": [
    {
     "data": {
      "image/png": "[encoded data removed]",
      "text/plain": [
       "<Figure size 864x288 with 3 Axes>"
      ]
     },
     "metadata": {},
     "output_type": "display_data"
    }
   ],
   "source": [
    "fig, axes = plt.subplots(ncols=len(keys))\n",
    "fig.set_size_inches(4 * len(keys), 4)\n",
    "axes = axes.flatten()\n",
    "\n",
    "for key, ax in zip(keys, axes):\n",
    "    samples = df[key]\n",
    "    \n",
    "    loc = samples.mean()\n",
    "    scale = samples.std()\n",
    "    \n",
    "    interval = np.linspace(0, 1, samples.shape[0])[1:-1]\n",
    "    x = stats.norm.ppf(interval, loc=loc, scale=scale)\n",
    "    y = np.quantile(samples, interval)\n",
    "    \n",
    "    ax.scatter(x, y, s=5)\n",
    "    ax.plot(x, x, color='C1', linestyle='dashed')\n",
    "    \n",
    "    ax.set_title(key)\n",
    "    ax.set_xlabel('теоретические квантили')\n",
    "    ax.set_ylabel('квантили выборки')"
   ]
  },
  {
   "cell_type": "code",
   "execution_count": 35,
   "metadata": {},
   "outputs": [
    {
     "data": {
      "text/html": [
       "<div>\n",
       "<style scoped>\n",
       "    .dataframe tbody tr th:only-of-type {\n",
       "        vertical-align: middle;\n",
       "    }\n",
       "\n",
       "    .dataframe tbody tr th {\n",
       "        vertical-align: top;\n",
       "    }\n",
       "\n",
       "    .dataframe thead th {\n",
       "        text-align: right;\n",
       "    }\n",
       "</style>\n",
       "<table border=\"1\" class=\"dataframe\">\n",
       "  <thead>\n",
       "    <tr style=\"text-align: right;\">\n",
       "      <th></th>\n",
       "      <th>year</th>\n",
       "      <th>country</th>\n",
       "      <th>no</th>\n",
       "      <th>name</th>\n",
       "      <th>position</th>\n",
       "      <th>side</th>\n",
       "      <th>height</th>\n",
       "      <th>weight</th>\n",
       "      <th>birth</th>\n",
       "      <th>club</th>\n",
       "      <th>age</th>\n",
       "      <th>cohort</th>\n",
       "      <th>bmi</th>\n",
       "    </tr>\n",
       "  </thead>\n",
       "  <tbody>\n",
       "    <tr>\n",
       "      <th>0</th>\n",
       "      <td>2001</td>\n",
       "      <td>RUS</td>\n",
       "      <td>10</td>\n",
       "      <td>tverdovsky oleg</td>\n",
       "      <td>D</td>\n",
       "      <td>L</td>\n",
       "      <td>185</td>\n",
       "      <td>84.0</td>\n",
       "      <td>1976-05-18</td>\n",
       "      <td>anaheim mighty ducks</td>\n",
       "      <td>24.952772</td>\n",
       "      <td>1976</td>\n",
       "      <td>24.543462</td>\n",
       "    </tr>\n",
       "    <tr>\n",
       "      <th>1</th>\n",
       "      <td>2001</td>\n",
       "      <td>RUS</td>\n",
       "      <td>2</td>\n",
       "      <td>vichnevsky vitali</td>\n",
       "      <td>D</td>\n",
       "      <td>L</td>\n",
       "      <td>188</td>\n",
       "      <td>86.0</td>\n",
       "      <td>1980-03-18</td>\n",
       "      <td>anaheim mighty ducks</td>\n",
       "      <td>21.119781</td>\n",
       "      <td>1980</td>\n",
       "      <td>24.332277</td>\n",
       "    </tr>\n",
       "    <tr>\n",
       "      <th>2</th>\n",
       "      <td>2001</td>\n",
       "      <td>RUS</td>\n",
       "      <td>26</td>\n",
       "      <td>petrochinin evgeni</td>\n",
       "      <td>D</td>\n",
       "      <td>L</td>\n",
       "      <td>182</td>\n",
       "      <td>95.0</td>\n",
       "      <td>1976-02-07</td>\n",
       "      <td>severstal cherepovetal</td>\n",
       "      <td>25.229295</td>\n",
       "      <td>1976</td>\n",
       "      <td>28.680111</td>\n",
       "    </tr>\n",
       "    <tr>\n",
       "      <th>3</th>\n",
       "      <td>2001</td>\n",
       "      <td>RUS</td>\n",
       "      <td>28</td>\n",
       "      <td>zhdan alexander</td>\n",
       "      <td>D</td>\n",
       "      <td>R</td>\n",
       "      <td>178</td>\n",
       "      <td>85.0</td>\n",
       "      <td>1971-08-28</td>\n",
       "      <td>ak bars kazan</td>\n",
       "      <td>29.675565</td>\n",
       "      <td>1971</td>\n",
       "      <td>26.827421</td>\n",
       "    </tr>\n",
       "    <tr>\n",
       "      <th>4</th>\n",
       "      <td>2001</td>\n",
       "      <td>RUS</td>\n",
       "      <td>32</td>\n",
       "      <td>orekhovsky oleg</td>\n",
       "      <td>D</td>\n",
       "      <td>R</td>\n",
       "      <td>175</td>\n",
       "      <td>88.0</td>\n",
       "      <td>1977-11-03</td>\n",
       "      <td>dynamo moscow</td>\n",
       "      <td>23.490760</td>\n",
       "      <td>1977</td>\n",
       "      <td>28.734694</td>\n",
       "    </tr>\n",
       "  </tbody>\n",
       "</table>\n",
       "</div>"
      ],
      "text/plain": [
       "   year country  no                 name position side  height  weight  \\\n",
       "0  2001     RUS  10     tverdovsky oleg         D    L     185    84.0   \n",
       "1  2001     RUS   2   vichnevsky vitali         D    L     188    86.0   \n",
       "2  2001     RUS  26  petrochinin evgeni         D    L     182    95.0   \n",
       "3  2001     RUS  28     zhdan alexander         D    R     178    85.0   \n",
       "4  2001     RUS  32     orekhovsky oleg         D    R     175    88.0   \n",
       "\n",
       "        birth                     club        age  cohort        bmi  \n",
       "0  1976-05-18    anaheim mighty ducks   24.952772    1976  24.543462  \n",
       "1  1980-03-18    anaheim mighty ducks   21.119781    1980  24.332277  \n",
       "2  1976-02-07  severstal cherepovetal   25.229295    1976  28.680111  \n",
       "3  1971-08-28           ak bars kazan   29.675565    1971  26.827421  \n",
       "4  1977-11-03           dynamo moscow   23.490760    1977  28.734694  "
      ]
     },
     "execution_count": 35,
     "metadata": {},
     "output_type": "execute_result"
    }
   ],
   "source": [
    "df.head()"
   ]
  },
  {
   "cell_type": "markdown",
   "metadata": {},
   "source": [
    "Ещё один способ оценить нормальность выборки — известные нам правила разброса для нормального распределения:\n",
    "* Вероятность попасть в интервал от $\\mu - \\sigma$ до $\\mu + \\sigma$ равна $0.68$,\n",
    "* В интервал от $\\mu - 2\\sigma$ до $\\mu + 2\\sigma$ — $0.95$,\n",
    "* В интервал от $\\mu - 3\\sigma$ до $\\mu + 3\\sigma$ — $0.997$.\n",
    "\n",
    "Данные правила должны приблизительно выполняться для выборки из нормального распределения.\n",
    "\n",
    "__Пример 8__\n",
    "\n",
    "Применим перечисленные выше правила для всё тех же двух выборок."
   ]
  },
  {
   "cell_type": "code",
   "execution_count": 36,
   "metadata": {},
   "outputs": [
    {
     "name": "stdout",
     "output_type": "stream",
     "text": [
      "age\n",
      "1 sigma(s)\n",
      "\ttheoretical:\t0.6826894921370859\n",
      "\tsample:\t\t0.6675774134790529\n",
      "2 sigma(s)\n",
      "\ttheoretical:\t0.9544997361036416\n",
      "\tsample:\t\t0.9638737097753491\n",
      "3 sigma(s)\n",
      "\ttheoretical:\t0.9973002039367398\n",
      "\tsample:\t\t0.9963570127504554\n",
      "\n",
      "weight\n",
      "1 sigma(s)\n",
      "\ttheoretical:\t0.6826894921370859\n",
      "\tsample:\t\t0.664541590771099\n",
      "2 sigma(s)\n",
      "\ttheoretical:\t0.9544997361036416\n",
      "\tsample:\t\t0.9553734061930783\n",
      "3 sigma(s)\n",
      "\ttheoretical:\t0.9973002039367398\n",
      "\tsample:\t\t0.9963570127504554\n",
      "\n",
      "height\n",
      "1 sigma(s)\n",
      "\ttheoretical:\t0.6826894921370859\n",
      "\tsample:\t\t0.680327868852459\n",
      "2 sigma(s)\n",
      "\ttheoretical:\t0.9544997361036416\n",
      "\tsample:\t\t0.9556769884638737\n",
      "3 sigma(s)\n",
      "\ttheoretical:\t0.9973002039367398\n",
      "\tsample:\t\t0.9942319368548876\n",
      "\n"
     ]
    }
   ],
   "source": [
    "for key in keys:\n",
    "    print(key)\n",
    "    \n",
    "    samples = df[key]\n",
    "    \n",
    "    loc = samples.mean()\n",
    "    scale = samples.std()\n",
    "\n",
    "    for i in range(1, 4):\n",
    "        true_value = stats.norm.cdf(i) - stats.norm.cdf(-i)\n",
    "        sample_value = ((samples >= loc - i * scale) & (samples <= loc + i * scale)).sum() / samples.shape[0]\n",
    "        \n",
    "        print(f'{i} sigma(s)')\n",
    "        print(f'\\ttheoretical:\\t{true_value}')\n",
    "        print(f'\\tsample:\\t\\t{sample_value}')\n",
    "        \n",
    "    print()"
   ]
  },
  {
   "cell_type": "markdown",
   "metadata": {},
   "source": [
    "Наконец, существует несколько статистических методов, позволяющих «по-честному» проверить гипотезу о нормальности распределения. Например, часто для таких задач используются [метод Колмогорова-Смирнова](https://en.wikipedia.org/wiki/Kolmogorov–Smirnov_test) или [метод Шапиро-Уилка](https://en.wikipedia.org/wiki/Shapiro–Wilk_test).\n",
    "\n",
    "Однако, как правило, такие методы основаны на использовании статистик, имеющих в предположении верности нулевой гипотезы крайне сложные распределения, квантили которых невозможно посчитать напрямую, а только лишь с помощью приближённых методов."
   ]
  },
  {
   "cell_type": "markdown",
   "metadata": {},
   "source": [
    "## Упражнения"
   ]
  },
  {
   "cell_type": "markdown",
   "metadata": {},
   "source": [
    "__Задача 1__\n",
    "\n",
    "Даны значения величины заработной платы заемщиков банка (`salary`) и значения их поведенческого кредитного скоринга (`scoring`):\n",
    "```\n",
    "salary = [35, 45, 190, 200, 40, 70, 54, 150, 120, 110]\n",
    "scoring = [401, 574, 874, 919, 459, 739, 653, 902, 746, 832]\n",
    "```\n",
    "Используя только встроенные питоновские функции и структуры данных (т.е. без библиотек `numpy`, `pandas` и др.) найдите:\n",
    "1. ковариацию этих двух величин,\n",
    "2. коэффициент корреляции Пирсона.\n",
    "\n",
    "Можно затем посчитать те же значения с использованием библиотек, чтобы проверить себя.\n",
    "\n",
    "__Задача 2__\n",
    "\n",
    "Проведите тест на значимость коэффициента корреляции Пирсона, найденного в предыдущей задаче. Что для этого нужно знать:\n",
    "* Нулевая гипотеза: реальный коэффициент корреляции равен 0. Альтернативная гипотеза двухсторонняя.\n",
    "* Статистика: `t = r * sqrt(n - 2) / sqrt(1 - r ** 2)`, где `r` - коэффициент корреляции Пирсона, посчитанный по выборке.\n",
    "* В предположении верности нулевой гипотезы эта статистика имеет распределение Стьюдента с параметром `df = n - 2`.\n",
    "\n",
    "__Задача 3__\n",
    "\n",
    "Измерены значения IQ выборки студентов, обучающихся в местных технических вузах:\n",
    "```\n",
    "131, 125, 115, 122, 131, 115, 107, 99, 125, 111\n",
    "```\n",
    "Известно, что в генеральной совокупности IQ распределен нормально. Найдите доверительный интервал для математического ожидания с надежностью 0.95.\n",
    "\n",
    "__Задача 4__\n",
    "\n",
    "Выберите тему для проектной работы по курсу Теории вероятностей и математической статистики и напишите ее в комментарии к Практическому заданию."
   ]
  },
  {
   "cell_type": "markdown",
   "metadata": {},
   "source": [
    "## Курсовая работа\n",
    "\n",
    "В рамках курсовой работы вам предстоит:\n",
    "* выбрать интересующий вас датасет,\n",
    "* поставить себе одну или несколько (в зависимости от ваших сил) задач, которые можно было бы на этих данных решить с помощью изученных на этом курсе методик,\n",
    "* реализовать решение этих задач,\n",
    "* потренироваться в оформлении результатов своего исследования.\n",
    "\n",
    "Какие у нас были методы?\n",
    "* Статистические характеристики: выборочные среднее и дисперсия, медиана, квартили (занятие 3)\n",
    "* Визуализация: гистограммы, боксплоты (занятие 3)\n",
    "* Проверка статистических гипотез о математическом ожидании и дисперсии, P-значения (занятие 5)\n",
    "* Корреляционный анализ, проверка на значимость корреляции (занятие 6)\n",
    "* Проверка на нормальность (занятие 6)\n",
    "\n",
    "Какие методы ещё будут?\n",
    "* Дисперсионный анализ (занятия 7 и 8). Позволяет анализировать влияние категориальной переменной на количественную. Пример: влияет ли город проживания на зарплату?\n",
    "* Линейная регрессия, регрессионный анализ (занятие 7). Показывают характер зависимости количественной переменной от одной или нескольких других переменных. Также можно оценить вклад каждой переменной в эту зависимость. Пример: модель зависимости цены на квартиру от её площади и расстояния от центра.\n",
    "* Факторный анализ (занятие 8). Позволяет проанализировать уровень линейной зависимости в данных и, в случае её наличия, преобразовать данные и избавиться от лишней информации. Пример: имеется выборка из сеансов фильмов. Признаки \"время начала\" и \"время окончания\" сильно линейно зависимы, поэтому имеет смысл один из них выкинуть.\n",
    "* Логистическая регрессия (занятие 8). Модель зависимости бинарной (т.е. имеющей лишь 2 значения) переменной от одной или нескольких количественных переменных. Пример: по кредитному скорингу клиента определить, вернёт ли он кредит.\n",
    "\n",
    "Что вообще делать?\n",
    "1. Выбрать интересующий ваш датасет.\n",
    "2. Подумать о том, какие задачки можно поставить себе на этом датасете (можно обсудить эти вопросы с сокурсниками или со мной).\n",
    "3. Согласовать со мной получившийся перечень задач.\n",
    "4. Реализовать решение этих задач, оформить результаты.\n",
    "5. Сдать курсач, получить фидбек.\n",
    "\n",
    "Примеры тем (просто для референса, рекомендуется всё же придумать что-то своё):\n",
    "* Проверить гипотезу: комедийные фильмы, снятые до 1990 года, в среднем имеют более высокую оценку, чем комедийные фильмы снятые позже.\n",
    "* Статистическое сопоставление цены биткоина с курсами фиатных активов (USD,EUR,RUR), ценами на нефть, драг металлы или с ценами других криптовалют по отношению к биткоину. (Это не по `imdb`, но допускается, если хотите.)\n",
    "* Исследование статистической связи между бюджетом фильма и полученной прибылью.\n",
    "* Анализ по Странам по данным `imdb.com`: По странам расчитать основные статистические показатели: Мода, медиана, квартили, дисперсию. Проверить, работает ли нормальное распределение и Паретто. Проверить есть ли зависимость бюджетов, рейтингов, жанров от страны выпуска фильмов. Посмотреть поведение стран во времени. Сделать прогноз на 2020 год: какие страны с какой вероятностью выпустят определенное количество фильмов с определенным бюджетом определенного жанра.\n",
    "\n",
    "Где искать данные?\n",
    "* на [kaggle](https://www.kaggle.com/)\n",
    "* на `google bigquery`\n",
    "* тупо гуглить\n",
    "\n",
    "Оформление:\n",
    "1. Оформляйте подробно. Суть проекта и основные шаги должны быть понятны человеку, который эти данные никогда раньше не видел.\n",
    "2. Структурировать можно, например, так:\n",
    "    1. Тема проекта, ваши цели\n",
    "    2. Краткое описание датасета и признаков, которые вы собираетесь использовать в работе\n",
    "    3. Описание основных шагов:\n",
    "        * Препроцессинг, работа с данными\n",
    "        * Математический аппарат, если используете не самые базовые концепции\n",
    "        \n",
    "Дедлайн: 1-2 недели после 8 занятия."
   ]
  },
  {
   "cell_type": "code",
   "execution_count": null,
   "metadata": {},
   "outputs": [],
   "source": []
  }
 ],
 "metadata": {
  "colab": {
   "name": "Матстат - Урок 6.ipynb",
   "provenance": [],
   "version": "0.3.2"
  },
  "kernelspec": {
   "display_name": "Python 3",
   "language": "python",
   "name": "python3"
  },
  "language_info": {
   "codemirror_mode": {
    "name": "ipython",
    "version": 3
   },
   "file_extension": ".py",
   "mimetype": "text/x-python",
   "name": "python",
   "nbconvert_exporter": "python",
   "pygments_lexer": "ipython3",
   "version": "3.7.6"
  }
 },
 "nbformat": 4,
 "nbformat_minor": 4
}
