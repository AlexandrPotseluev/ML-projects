{
 "cells": [
  {
   "cell_type": "markdown",
   "metadata": {
    "colab_type": "text",
    "id": "4H6xxKNJyZlv"
   },
   "source": [
    "# Урок 5\n",
    "\n",
    "## Проверка статистических гипотез. P-значения. Доверительные интервалы"
   ]
  },
  {
   "cell_type": "markdown",
   "metadata": {},
   "source": [
    "### Проверка статистических гипотез\n",
    "\n",
    "__Статистическая гипотеза__ — предположение о виде распределения и свойствах случайной величины, которое можно подтвердить или опровергнуть на основании имеющихся данных.\n",
    "\n",
    "Например,\n",
    "1. Гипотеза: математическое ожидание случайной величины равно $10$.\n",
    "2. Гипотеза: случайная величина имеет нормальное распределение.\n",
    "3. Гипотеза: две случайные величины имеют одинаковое математическое ожидание.\n",
    "\n",
    "Проверяемую гипотезу принято называть __нулевой__ и обозначать $H_0$."
   ]
  },
  {
   "cell_type": "markdown",
   "metadata": {},
   "source": [
    "__Пример 1__\n",
    "\n",
    "Имеется станок, изготавливающий шарики для подшипников, который настроен делать шарики с диаметром $1$ мм. На основании выборки из значений диаметров таких шариков мы можем проверить, правильно ли станок откалиброван (т.е. делает ли он такие шарики, которые он настроен делать). \n",
    "\n",
    "В таком случае в качестве нулевой гипотезы $H_0$ берётся гипотеза о том, что математическое ожидание диаметра шарика равно $1$ мм."
   ]
  },
  {
   "cell_type": "markdown",
   "metadata": {},
   "source": [
    "Параллельно с нулевой гипотезой рассматривается противоречащая ей гипотеза $H_1$, называемая __альтернативной__ или __конкурирующей__.\n",
    "\n",
    "В нашем примере в качестве альтернативной гипотезы будет выступать гипотеза о том, что математическое ожидание диаметра шарика не равно $1$ мм."
   ]
  },
  {
   "cell_type": "markdown",
   "metadata": {},
   "source": [
    "В зависимости от задачи альтернативные гипотезы бывают __левосторонние__, __правосторонние__ или __двухсторонние__. \n",
    "    \n",
    "Например, в примере выше альтернативная гипотеза двухсторонняя, поскольку в соответствии с ней математическое ожидание может быть как больше $1$, так и меньше. \n",
    "\n",
    "Односторонние гипотезы, возникают, например, при проверке нулевой гипотезы о равенстве математических ожиданий. В таких случаях используются функции, измеряющие _уровень отличия_ двух значений (подробнее на занятии 7), которые равны $0$, если нулевая гипотеза верна, и больше $0$, если гипотеза неверна.\n",
    "\n",
    "В любом случае альтернативная гипотеза представляет собой _дополнение к нулевой_ (т.е. хотя бы одна из них всегда верна)."
   ]
  },
  {
   "cell_type": "markdown",
   "metadata": {},
   "source": [
    "Проверяя нулевую гипотезу, мы по выборке считаем некоторое значение (зависит от вида гипотезы) и сравниваем его с теоретическим.\n",
    "\n",
    "При проверке данной гипотезы наша задача установить, какое отклонение полученного значения от теоретического мы можем принять как допустимое (т.\\,е. __незначимое__), а какое отклонение уже нельзя списать на случайность (__значимое__).\n",
    "\n",
    "Если отклонение значимо, то гипотеза $H_0$ отвергается в пользу альтернативной. Если же отклонение не является значимым, то гипотеза $H_0$ остаётся в силе."
   ]
  },
  {
   "cell_type": "markdown",
   "metadata": {},
   "source": [
    "__Этапы проверки гипотез__\n",
    "\n",
    "1. Формулируются нулевая и альтернативная гипотезы.\n",
    "2. Задаётся некоторая __статистика__ (функция от выборки) $S(X)$, которая в условиях справедливости нулевой гипотезы $H_0$ имеет _известное распределение_ (в частности, известна её функция распределения $F_S(x) = P(S < x)$).\n",
    "3. Фиксируется __уровень значимости__ $\\alpha$ — допустимая для данной задачи вероятность _ошибки первого рода_ (чаще всего $0.01$, $0.05$ или $0.1$).\n",
    "4. Определяется __критическая область__ $\\Omega_\\alpha$, такая, что $P(S \\in \\Omega_\\alpha | H_0) = \\alpha$.\n",
    "5. Проводится __статистический тест__: для конкретной выборки $X$ считается значение $S(X)$, и если оно принадлежит $\\Omega_\\alpha$, то заключаем, что данные противоречат гипотезе $H_0$, и принимается гипотеза $H_1$."
   ]
  },
  {
   "cell_type": "markdown",
   "metadata": {},
   "source": [
    "__Пример 1 (продолжение)__\n",
    "\n",
    "Продолжим развивать приведённый выше пример 1. Дана выборка из диаметров подшипников, изготовленных станком."
   ]
  },
  {
   "cell_type": "code",
   "execution_count": 5,
   "metadata": {},
   "outputs": [],
   "source": [
    "import numpy as np"
   ]
  },
  {
   "cell_type": "code",
   "execution_count": 2,
   "metadata": {},
   "outputs": [],
   "source": [
    "samples = np.array([0.6603, 0.9466, 0.5968, 1.3792, 1.5481, 0.7515, 1.0681, 1.1134,\n",
    "                    1.2088, 1.701 , 1.0282, 1.3579, 1.0191, 1.1784, 1.1168, 1.1372,\n",
    "                    0.7273, 1.3958, 0.8665, 1.5112, 1.161 , 1.0232, 1.0865, 1.02  ])"
   ]
  },
  {
   "cell_type": "markdown",
   "metadata": {},
   "source": [
    "Нулевая гипотеза утверждает: математическое ожидание диаметра подшипника равно $1$ мм. Альтернативная гипотеза заключается в том, что математическое ожидание отлично от $1$."
   ]
  },
  {
   "cell_type": "code",
   "execution_count": 3,
   "metadata": {},
   "outputs": [
    {
     "data": {
      "text/plain": [
       "1.1084541666666665"
      ]
     },
     "execution_count": 3,
     "metadata": {},
     "output_type": "execute_result"
    }
   ],
   "source": [
    "samples.mean()"
   ]
  },
  {
   "cell_type": "code",
   "execution_count": 4,
   "metadata": {},
   "outputs": [
    {
     "data": {
      "text/plain": [
       "0.27348323071559416"
      ]
     },
     "execution_count": 4,
     "metadata": {},
     "output_type": "execute_result"
    }
   ],
   "source": [
    "samples.std()"
   ]
  },
  {
   "cell_type": "markdown",
   "metadata": {},
   "source": [
    "__Выбор статистики $S$__\n",
    "\n",
    "Выбор статистики $T$ зависит от того, какого рода гипотеза проверяется, какое распределение имеется и что нам известно.\n",
    "\n",
    "Например, если проверяется гипотеза относительно математического ожидания нормально распределённой случайной величины с _известной_ дисперсией, то используется __Z-статистика__:\n",
    "$$Z = \\dfrac{\\overline{X} - \\mu}{\\sigma / \\sqrt{n}},$$\n",
    "где $X$ — выборка, $\\overline{X}$ — выборочное среднее, $\\mu$ — утверждаемое гипотезой $H_0$ значение математического ожидания, $\\sigma$ — известное среднее квадратическое отклонение, $n$ — число элементов в выборке.\n",
    "\n",
    "В предположении вероности гипотезы $H_0$ статистика $Z$ имеет _стандартное нормальное распределение_ (т.е. нормальное распределение с параметрами $\\mu = 0$, $\\sigma = 1$)."
   ]
  },
  {
   "cell_type": "markdown",
   "metadata": {},
   "source": [
    "Если же дисперсия _неизвестна_, используется __t-статистика__:\n",
    "$$t = \\dfrac{\\overline{X} - \\mu}{\\sigma_X / \\sqrt{n}},$$\n",
    "где $\\sigma_X$ — несмещённая оценка среднего квадратического отклонения.\n",
    "\n",
    "В предположении вероности гипотезы $H_0$ t-статистика имеет __распределение Стьюдента__ или __t-распределение__ с параметром $df = n - 1$."
   ]
  },
  {
   "cell_type": "markdown",
   "metadata": {},
   "source": [
    "Описанные выше принципы позволяют всегда получить наиболее точный результат. Однако, на практике, как правило, справедливо следующее:\n",
    "1. При $n > 100$ статистики $Z$ и $t$, как правило, практически не различаются, поэтому можно использовать любую из них.\n",
    "2. Даже если распределение имеющейся выборки отличается от нормального, при достаточно больших $n$ в силу Центральной предельной теоремы распределение выборочного среднего достаточно близко к нормальному, и в этих случаях также можно использовать Z-статистику или t-статистику.\n",
    "\n",
    "Сказанное выше справедливо при проверке гипотез о математическом ожидании. Для проверки других гипотез, как правило, используются другие распределения и другие статистики, а также накладываются свои ограничения.\n",
    "\n",
    "Для проверки гипотез о дисперсии нормального распределения используют _распределение хи-квадрат_."
   ]
  },
  {
   "cell_type": "markdown",
   "metadata": {},
   "source": [
    "__Пример 1 (продолжение)__\n",
    "\n",
    "Будем считать, что в нашем случае среднее квадратическое отклонение известно и равно $0.25$. Значит, надо использовать статистику\n",
    "$$Z = \\dfrac{\\overline{X} - \\mu}{\\sigma / \\sqrt{n}},$$\n",
    "и при условии верности нулевой гипотезы она имеет стандартное нормальное распределение. В нашем случае:\n",
    "$$Z = \\dfrac{\\overline{X} - 1}{0.25/ \\sqrt{n}}$$\n",
    "\n",
    "Остальные значения пока подставлять не будем. Сделаем это в конце, когда пройдём остальные этапы."
   ]
  },
  {
   "cell_type": "code",
   "execution_count": 5,
   "metadata": {},
   "outputs": [],
   "source": [
    "def statistic(samples: np.ndarray) -> float:\n",
    "    return (samples.mean() - 1) / (0.25 / np.sqrt(samples.shape[0]))"
   ]
  },
  {
   "cell_type": "markdown",
   "metadata": {},
   "source": [
    "__Выбор уровня значимости__\n",
    "\n",
    "Ошибки первого и второго рода возникают в задачах, в которых требуется определить, произошло какое-то событие или нет.\n",
    "\n",
    "__Ошибка первого рода__ (т.н. __false positive__) соответствует ситуации, когда было определено, что событие произошло, тогда как реально оно не произошло.\n",
    "\n",
    "__Ошибка второго рода__ (т.н. __false negative__) — обратная ситуация: мы определили, что событие не произошло, а реально оно произошло.\n",
    "\n",
    "Например, на входе в каждый аэропорт стоит рамка-металлодетектор. Её задача — выявлять людей, которые пытаются пронести в аэропорт что-то опасное. \n",
    "\n",
    "В этом случае:\n",
    "* ошибка первого рода: рамка сработала на человеке, который ничего опасного не несёт,\n",
    "* ошибка второго рода: рамка не сработала на человеке, который несёт что-то опасное.\n",
    "\n",
    "Как правило, между вероятностями ошибок первого и второго рода __приходится балансировать__, т.е. уменьшение одной вероятности приводит к увеличению другой.\n",
    "\n",
    "Например, в примере с рамкой вероятность ошибки первого рода будет невероятно высокой, поскольку ошибки второго рода в этом случае недопустимы."
   ]
  },
  {
   "cell_type": "markdown",
   "metadata": {},
   "source": [
    "В контексте проверки статистических гипотез под __событием__ мы понимаем то, что __нулевая гипотеза была отвергнута__.\n",
    "\n",
    "__Уровень значимости__ — это вероятность ошибки первого рода, т.е. вероятность отвергнуть верную нулевую гипотезу.\n",
    "\n",
    "Низкие значения уровня значимости $\\alpha$ делают проводимый тест __более осторожным__: верояность ошибки первого рода мала, значит, если по результатам теста мы отвергаем нулевую гипотезу, то мы можем быть более уверены в том, что она и правда неверна.\n",
    "\n",
    "Однако, вместе с тем повышается и вероятность не отвергнуть ложную нулевую гипотезу. Т.е. если нулевая гипотеза не была отвергнута, то далеко не факт, что она и впрямь верна."
   ]
  },
  {
   "cell_type": "markdown",
   "metadata": {},
   "source": [
    "__Пример 1 (продолжение)__\n",
    "\n",
    "В продолжающемся примере про подшипники возьмём уровень значимости $\\alpha = 0.05$."
   ]
  },
  {
   "cell_type": "code",
   "execution_count": 6,
   "metadata": {},
   "outputs": [],
   "source": [
    "alpha = 0.05"
   ]
  },
  {
   "cell_type": "markdown",
   "metadata": {},
   "source": [
    "__Критическая область__\n",
    "\n",
    "При проведении статистического теста мы строим критическую область для статистики $S(X)$, построенной ранее. Мы можем это сделать, потому что знаем распределение этой статистики, в частности, её функцию распределения $F_S(x)$.\n",
    "\n",
    "Кроме того, к этому моменту мы уже зафиксировали уровень значимости $\\alpha$. Это значение является вероятностью попасть в критическую область.\n",
    "\n",
    "Как правило, используемые в статистике распределения имеют функцию плотности в форме «колокола»: ярко выраженный пик в центре и хвосты по краям. \n",
    "\n",
    "Некоторые распределения имеют два хвоста, некоторые — один. Кроме того, хвосты могут быть как конечными, так и уходить в бесконечность.\n",
    "\n",
    "\n",
    "Критические области представляют собой как раз вот эти «хвосты» распределения. Число хвостов критической области определяется числом «сторон» у альтернативной гипотезы.\n",
    "\n",
    "Например, если альтернативная гипотеза заключается в том, что мат. ожидание _не равно_ какому-то числу, то в соответствии с этой гипотезой оно может быть как больше, так и меньше, т.е. альтернативная гипотеза _двухсторонняя_. В этом случае и критическая область будет двухсторонней, т.е. будет иметь два «хвоста».\n",
    "\n",
    "Как правило, критические области строят следующим образом:\n",
    "* Левосторонняя область: $\\Omega_\\alpha = (-\\infty, t_\\alpha)$.\n",
    "* Правосторонняя область: $\\Omega_\\alpha = (t_{1 - \\alpha} , \\infty)$.\n",
    "* Двусторонняя область: $\\Omega_\\alpha = \\left( -\\infty, t_{\\alpha / 2}\\right) \\cup \\left( t_{1 - \\alpha / 2} , \\infty \\right)$.\n",
    "\n",
    "Здесь $t_\\beta$ обозначает квантиль порядка $\\beta$, т.е. $F_S(t_\\beta) = \\beta$."
   ]
  },
  {
   "cell_type": "markdown",
   "metadata": {},
   "source": [
    "__Пример 1 (продолжение)__\n",
    "\n",
    "Ранее мы выбрали в нашей задаче про подшипники статистику\n",
    "$$Z = \\dfrac{\\overline{X} - 1}{0.25/ \\sqrt{n}}$$\n",
    "\n",
    "Эта статистика имеет стандартное нормальное распределение, т.е. нормальное распределение с параметрами $\\mu = 0$, $\\sigma = 1$.\n",
    "Поскольку альтернативная гипотеза двухсторонняя (мат. ожидание может быть как больше, так и меньше $1$), критическая область также будет двухсторонней. Для её построения нам понадобятся квантили $t_{\\alpha / 2}$ и $t_{1 - \\alpha / 2}$ стандартного нормального распределения. Найдём их с помощью `scipy.stats`."
   ]
  },
  {
   "cell_type": "code",
   "execution_count": 2,
   "metadata": {},
   "outputs": [],
   "source": [
    "from scipy import stats"
   ]
  },
  {
   "cell_type": "code",
   "execution_count": 8,
   "metadata": {},
   "outputs": [
    {
     "data": {
      "text/plain": [
       "(-1.9599639845400545, 1.959963984540054)"
      ]
     },
     "execution_count": 8,
     "metadata": {},
     "output_type": "execute_result"
    }
   ],
   "source": [
    "t1 = stats.norm.ppf(alpha / 2)\n",
    "t2 = stats.norm.ppf(1 - alpha / 2)\n",
    "\n",
    "t1, t2"
   ]
  },
  {
   "cell_type": "markdown",
   "metadata": {},
   "source": [
    "Итак, критическая область:\n",
    "$$\\Omega_\\alpha = (-\\infty, -1.96) \\cup (1.96, \\infty)$$"
   ]
  },
  {
   "cell_type": "code",
   "execution_count": 9,
   "metadata": {},
   "outputs": [],
   "source": [
    "from matplotlib import pyplot as plt\n",
    "\n",
    "plt.style.use('seaborn-whitegrid')"
   ]
  },
  {
   "cell_type": "code",
   "execution_count": 10,
   "metadata": {},
   "outputs": [
    {
     "data": {
      "text/plain": [
       "<matplotlib.collections.PolyCollection at 0x128e77ca0>"
      ]
     },
     "execution_count": 10,
     "metadata": {},
     "output_type": "execute_result"
    },
    {
     "data": {
      "image/png": "[encoded data removed]",
      "text/plain": [
       "<Figure size 432x288 with 1 Axes>"
      ]
     },
     "metadata": {},
     "output_type": "display_data"
    }
   ],
   "source": [
    "ox = np.linspace(-4, 4, 500)\n",
    "oy = stats.norm.pdf(ox)\n",
    "\n",
    "ox_left = np.linspace(-4, t1, 100)\n",
    "oy_left = stats.norm.pdf(ox_left)\n",
    "\n",
    "ox_right = np.linspace(t2, 4, 100)\n",
    "oy_right = stats.norm.pdf(ox_right)\n",
    "\n",
    "plt.plot(ox, oy)\n",
    "plt.fill_between(ox_left, oy_left, alpha=0.5, color='C0')\n",
    "plt.fill_between(ox_right, oy_right, alpha=0.5, color='C0')"
   ]
  },
  {
   "cell_type": "markdown",
   "metadata": {},
   "source": [
    "__Статистический тест__\n",
    "\n",
    "Итак, осталось лишь провести статистический тест. У нас есть:\n",
    "1. зафиксированная нами статистика $S(X)$,\n",
    "2. построенная нами критическая область $\\Omega_\\alpha$.\n",
    "\n",
    "Считаем значение статистики от нашей выборки. Если это значение попадает в критическую область, то заключаем, что данные противоречат нулевой гипотезе, и её следует отвергнуть.\n",
    "\n",
    "Если значение в критическую область не попало, то заключаем, что данные нулевой гипотезе не противоречат.\n",
    "\n",
    "_Замечание_. То, что данные не противоречат нулевой гипотезе, не означает, что она верна."
   ]
  },
  {
   "cell_type": "markdown",
   "metadata": {},
   "source": [
    "__Пример 1 (продолжение)__\n",
    "\n",
    "Проводим статистический тест."
   ]
  },
  {
   "cell_type": "code",
   "execution_count": 11,
   "metadata": {},
   "outputs": [
    {
     "data": {
      "text/plain": [
       "2.1252589504967747"
      ]
     },
     "execution_count": 11,
     "metadata": {},
     "output_type": "execute_result"
    }
   ],
   "source": [
    "S = statistic(samples)\n",
    "S"
   ]
  },
  {
   "cell_type": "markdown",
   "metadata": {},
   "source": [
    "Значение попало в критическую область. Нулевая гипотеза отвергается."
   ]
  },
  {
   "cell_type": "markdown",
   "metadata": {},
   "source": [
    "__Пример 2__\n",
    "\n",
    "В реальности у нас редко есть что-то кроме самой выборки. В частности, дисперсию случайной величины мы скорее всего не знаем. Как мы уже отмечали ранее, в таком случае мы тоже можем провести статистический тест, однако, нам нужно будет для этого взять другую статистику, а именно\n",
    "$$t = \\dfrac{\\overline{X} - \\mu}{\\sigma_X / \\sqrt{n}},$$\n",
    "где $\\sigma_X$ — несмещённая оценка среднего квадратического отклонения. В нашем случае это:\n",
    "$$t = \\dfrac{\\overline{X} - 1}{\\sigma_X / \\sqrt{n}}$$"
   ]
  },
  {
   "cell_type": "code",
   "execution_count": 12,
   "metadata": {},
   "outputs": [],
   "source": [
    "def statistic(samples: np.ndarray) -> float:\n",
    "    return (samples.mean() - 1) / (samples.std(ddof=1) / np.sqrt(samples.shape[0]))"
   ]
  },
  {
   "cell_type": "markdown",
   "metadata": {},
   "source": [
    "Кроме того, распределение этой статистики тоже будет другое: t-распределение Стьюдента. Значит, квантили тоже придётся считать заново."
   ]
  },
  {
   "cell_type": "code",
   "execution_count": 13,
   "metadata": {},
   "outputs": [
    {
     "data": {
      "text/plain": [
       "(-2.068657610419041, 2.0686576104190406)"
      ]
     },
     "execution_count": 13,
     "metadata": {},
     "output_type": "execute_result"
    }
   ],
   "source": [
    "n = samples.shape[0]\n",
    "\n",
    "t1 = stats.t.ppf(alpha / 2, df=n - 1)\n",
    "t2 = stats.t.ppf(1 - alpha / 2, df=n - 1)\n",
    "\n",
    "t1, t2"
   ]
  },
  {
   "cell_type": "markdown",
   "metadata": {},
   "source": [
    "Итак, теперь критическая область немного шире:\n",
    "$$\\Omega_\\alpha = (-\\infty, -2.07) \\cup (2.07, \\infty)$$\n",
    "\n",
    "(Кстати, отметим, что более широкая критическая область означает, что тест стал более осторожным: в эту область теперь немного _сложнее_ попасть. Это согласуется с интуицией, что когда у нас меньше информации, мы делаем более осторожные выводы.)"
   ]
  },
  {
   "cell_type": "code",
   "execution_count": 14,
   "metadata": {},
   "outputs": [
    {
     "data": {
      "text/plain": [
       "<matplotlib.collections.PolyCollection at 0x128f72cd0>"
      ]
     },
     "execution_count": 14,
     "metadata": {},
     "output_type": "execute_result"
    },
    {
     "data": {
      "image/png": "[encoded data removed]",
      "text/plain": [
       "<Figure size 432x288 with 1 Axes>"
      ]
     },
     "metadata": {},
     "output_type": "display_data"
    }
   ],
   "source": [
    "ox = np.linspace(-4, 4, 500)\n",
    "oy = stats.t.pdf(ox, df=n - 1)\n",
    "\n",
    "ox_left = np.linspace(-4, t1, 100)\n",
    "oy_left = stats.t.pdf(ox_left, df=n - 1)\n",
    "\n",
    "ox_right = np.linspace(t2, 4, 100)\n",
    "oy_right = stats.t.pdf(ox_right, df=n - 1)\n",
    "\n",
    "plt.plot(ox, oy)\n",
    "plt.fill_between(ox_left, oy_left, alpha=0.5, color='C0')\n",
    "plt.fill_between(ox_right, oy_right, alpha=0.5, color='C0')"
   ]
  },
  {
   "cell_type": "markdown",
   "metadata": {},
   "source": [
    "Итак, статистический тест:"
   ]
  },
  {
   "cell_type": "code",
   "execution_count": 15,
   "metadata": {},
   "outputs": [
    {
     "data": {
      "text/plain": [
       "1.9018640008517087"
      ]
     },
     "execution_count": 15,
     "metadata": {},
     "output_type": "execute_result"
    }
   ],
   "source": [
    "S = statistic(samples)\n",
    "S"
   ]
  },
  {
   "cell_type": "markdown",
   "metadata": {},
   "source": [
    "Значение статистики не попало в критическую область, значит, гипотеза остаётся в силе."
   ]
  },
  {
   "cell_type": "markdown",
   "metadata": {},
   "source": [
    "__(Дополнительно) Статистическая мощность__\n",
    "\n",
    "При обсуждении этапов проверки статистических гипотез мы говорили про __уровень значимости__ $\\alpha$. Это вероятность ошибки первого рода, т.е. вероятность попасть в критическую область при условии, что нулевая гипотеза на самом деле верна:\n",
    "$$P(S \\in \\Omega_\\alpha \\mid H_0) = \\alpha$$\n",
    "\n",
    "А что с ошибками второго рода? Вероятность ошибки второго рода можно задать аналогично, это вероятность __не__ попасть в критическую область (т.е. принять нулевую гипотезу) при условии, что на самом деле верна альтернативная гипотеза. Такая вероятность обозначается $\\beta$:\n",
    "$$P(S \\not\\in \\Omega_\\alpha \\mid H_1) = \\beta$$\n",
    "\n",
    "В отличие от значения $\\alpha$, которое мы задаём сами, значение $\\beta$ уже не в наших руках. Для хорошего теста желательно, чтобы $\\beta$ было как можно меньше. Отсюда понятие __статистической мощности__:\n",
    "$$power = 1 - \\beta$$\n",
    "\n",
    "Таким образом, мощность теста представляет собой _вероятность отвергнуть нулевую гипотезу, если она и в действительности ложна_."
   ]
  },
  {
   "cell_type": "markdown",
   "metadata": {},
   "source": [
    "В теории на этом всё и заканчивается. Однако, на практике альтернативные гипотезы, как правило, являются __сложными__, т.е. включают в себя много возможных исходов. Например, при проверке гипотезы о том, что математическое ожидание равно $10$, альтернативная гипотеза заключается в том, что математическое ожидание в реальности равно __чему годно__, кроме $10$.\n",
    "\n",
    "Для сложных альтернативных гипотез аналитическое вычисление значения $\\beta$ (а с ним и статистической мощности), как правило, невозможно. Поэтому зачастую при вычислении статистической мощности теста используют более конкретную альтернативную гипотезу.\n",
    "\n",
    "Для примера рассмотрим всё ту же задачу о диаметре подшипников. Проверяемая гипотеза заключается в том, что математическое ожидание диаметра подшипника равно $\\mu = 1$. При этом среднее квадратическое отклонение известно и равно $\\sigma = 0.25$. В этом случае мы используем Z-статистику:\n",
    "$$Z = \\dfrac{\\overline{X} - \\mu}{\\sigma / \\sqrt{n}}$$\n",
    "\n",
    "Допустим, уровнь значимости в нашем случае равен $\\alpha = 0.05$. Для того, чтобы немного упростить математическую задачу, предположим, что рассматривается правосторонняя критическая область:\n",
    "$$\\Omega_\\alpha = (t_{1 - \\alpha}, \\infty)$$\n",
    "\n",
    "Зафиксируем конкретную альтернативную гипотезу. Пусть в соответствии с $H_1$ математическое ожидание равно какому-то числу $\\theta > 1$. Разложим наше значение $Z$ на два слагаемых: \n",
    "$$Z = \\dfrac{\\overline{X} - \\mu + \\theta - \\theta}{\\sigma / \\sqrt{n}} = \\dfrac{\\overline{X} - \\theta}{\\sigma / \\sqrt{n}} + \\dfrac{\\theta - \\mu}{\\sigma / \\sqrt{n}}$$\n",
    "\n",
    "Напомним, что, в соответствии с альтернативной гипотезой, математическое ожидание равно $\\theta$. Поэтому если альтернативная гипотеза верна, то первое слагаемое из выражения выше (обозначим его $Z_1$) представляет собой Z-статистику и (опять же в предположении вероности альтернативной гипотезы) имеет стандартное нормальное распределение. Второе слагаемое, в свою очередь, является константой (обозначим его $C$).\n",
    "\n",
    "Итак, по определению ошибки второго рода имеем:\n",
    "$$\\beta = P(Z \\not\\in \\Omega_\\alpha \\mid H_1) = P(Z_1 \\leq t_{1 - \\alpha} - C \\mid H_1) = F(t_{1 - \\alpha} - C),$$\n",
    "где $F(x)$ — функция распределения для стандартного нормального распределения. __Финальная формула для статистической мощности__:\n",
    "$$power = 1 - F\\left( t_{1 - \\alpha} - \\dfrac{\\theta - \\mu}{\\sigma / \\sqrt{n}} \\right)$$"
   ]
  },
  {
   "cell_type": "markdown",
   "metadata": {},
   "source": [
    "Зачем всё это нужно? Приведённая выше формула выражает зависимость между тремя значениями:\n",
    "1. размер выборки $n$,\n",
    "2. значение альтернативной гипотезы $\\theta$,\n",
    "3. мощность теста.\n",
    "\n",
    "Например, с помощью этой формулы можно оценить, какой размер выборки нам нужен, чтобы получить результаты, которым можно доверять. Допустим, мы проверяем нулевую гипотезу относительно альтернативной с $\\theta = 1.01$ и при этом хотим получить мощность $0.95$. Имеем:\n",
    "$$power = 1 - F\\left( t_{1 - \\alpha} - \\dfrac{\\theta - \\mu}{\\sigma / \\sqrt{n}} \\right)$$\n",
    "\n",
    "$$F\\left( t_{1 - \\alpha} - \\dfrac{\\theta - \\mu}{\\sigma / \\sqrt{n}} \\right) = 1 - power = \\beta$$\n",
    "\n",
    "$$t_{1 - \\alpha} - \\dfrac{\\theta - \\mu}{\\sigma / \\sqrt{n}} = F^{-1} (\\beta) = t_\\beta,$$\n",
    "где $F^{-1}(x)$ — квантильная функция (обратная к функции распределения) для стандартного нормального распределения. Далее,\n",
    "$$t_{1 - \\alpha} - t_\\beta = \\dfrac{\\theta - \\mu}{\\sigma / \\sqrt{n}}$$\n",
    "\n",
    "$$\\sqrt{n} = \\dfrac{\\sigma}{\\theta - \\mu} \\cdot \\left( t_{1 - \\alpha} - t_\\beta \\right)$$\n",
    "\n",
    "Итак, отсюда получаем соотношение:\n",
    "$$n = \\left( \\dfrac{\\sigma}{\\theta - \\mu} \\cdot \\left( t_{1 - \\alpha} - t_\\beta \\right) \\right) ^ 2$$"
   ]
  },
  {
   "cell_type": "code",
   "execution_count": 3,
   "metadata": {},
   "outputs": [
    {
     "data": {
      "text/plain": [
       "59.6775824743294"
      ]
     },
     "execution_count": 3,
     "metadata": {},
     "output_type": "execute_result"
    }
   ],
   "source": [
    "sigma = 0.25\n",
    "mu = 1\n",
    "theta = 1.01\n",
    "\n",
    "alpha = 0.05\n",
    "beta = 0.05\n",
    "\n",
    "t1 = stats.norm.cdf(beta)\n",
    "t2 = stats.norm.cdf(1 - alpha)\n",
    "\n",
    "(sigma * (t2 - t1) / (theta - mu)) ** 2"
   ]
  },
  {
   "cell_type": "markdown",
   "metadata": {},
   "source": [
    "Получаем, что чтобы иметь мощность не менее $0.95$ для такого теста, необходимо иметь выборку размера не менее $60$."
   ]
  },
  {
   "cell_type": "markdown",
   "metadata": {},
   "source": [
    "Другой подход: найдём самое маленькое значение $\\theta$, при котором, имеея выборку размера $n = 25$, можно получить тест с мощностью $0.9$. В этом случае преобразуем полученное выше соотношение и получим:\n",
    "$$\\theta = \\dfrac{\\sigma \\cdot (t_{1 - \\alpha} - t_\\beta)}{\\sqrt{n}} + \\mu$$"
   ]
  },
  {
   "cell_type": "code",
   "execution_count": 6,
   "metadata": {},
   "outputs": [
    {
     "data": {
      "text/plain": [
       "1.0154502533926573"
      ]
     },
     "execution_count": 6,
     "metadata": {},
     "output_type": "execute_result"
    }
   ],
   "source": [
    "n = 25\n",
    "\n",
    "sigma * (t2 - t1) / np.sqrt(n) + mu"
   ]
  },
  {
   "cell_type": "markdown",
   "metadata": {},
   "source": [
    "Другими словами, если у нас есть выборка размера $25$, то с мощностью $0.9$ (т.е. с такой вероятностью отвергнуть нулевую гипотезу, если она действительно ложна) мы сможем __отличить__ нулевую гипотезу $M(X) = 1$ от альтернативной гипотезы $M(X) = 1.015$. Если альтернативная гипотеза ближе к нулевой, чем $1.015$, то нам понадобится увеличить размер выборки, чтобы достичь желаемой мощности.\n",
    "\n",
    "_Замечание._ В представленном выше рассуждении мы использовали несколько допущений. Во-первых, мы предполагали, что параметр $\\sigma$ известен нам. Это допущение является существенным, поскольку если вместо Z-статистики использовать t-статистику, то значение $C$ перестаёт быть константой, и дальнейшие рассуждения, вообще говоря, неверны. Однако, провести аналогичное рассуждение для t-статистики аналитически невозможно, поэтому в случае неизвестного среднего квадратического отклонения $\\sigma$ мы можем лишь использовать вместо него его оценку $\\sigma_X$ и смириться с погрешностью, которую это решение вызовет.\n",
    "\n",
    "Во-вторых, мы подменили двухстороннюю гипотезу на одностороннюю. Данное допущение является менее существенным, и без него можно обойтись, однако, в этом случае дальнейшая математика становится ощутимо сложнее (хотя, её тоже можно расписать). \n",
    "\n",
    "Тем не менее, важно отметить, что на практике исключительная точность этих вычислений и не нужна. Например, если нам нужно оценить размер выборки для проведения теста, то описанные выше погрешности могут привести, например, к тому, что нам потребуется иметь выборку на 1-2 элемента больше, чем, возможно, теоретически необходимо. Но это не конец света."
   ]
  },
  {
   "cell_type": "markdown",
   "metadata": {},
   "source": [
    "__P-значения__\n",
    "\n",
    "P-значения позволяют получить результат проверки статистических гипотез сразу для многих уровней значимости. \n",
    "\n",
    "Как мы теперь знаем, уменьшение уровня значимости приводит к расширению границ критической области: чем меньше уровень значимости, тем сложнее попасть в критическую область и, как следствие, отвергнуть нулевую гипотезу. __P-значение__ представляет собой наибольшее значение уровня значимости $\\alpha$, при котором гипотезу можно принять, т.е. при котором значение статистики, посчитанной по выборке, ещё не попадает в критическую область."
   ]
  },
  {
   "cell_type": "markdown",
   "metadata": {},
   "source": [
    "__Пример 3__\n",
    "\n",
    "В примере 2 мы проверяли гипотезу о математическом ожидании диаметра подшипника. Реализуем этот тест для различных $\\alpha$ и посмотрим, как это влияет на результат."
   ]
  },
  {
   "cell_type": "code",
   "execution_count": 16,
   "metadata": {},
   "outputs": [
    {
     "data": {
      "text/plain": [
       "(24, 1.9018640008517087)"
      ]
     },
     "execution_count": 16,
     "metadata": {},
     "output_type": "execute_result"
    }
   ],
   "source": [
    "n = samples.shape[0]\n",
    "S = statistic(samples)\n",
    "\n",
    "n, S"
   ]
  },
  {
   "cell_type": "code",
   "execution_count": 17,
   "metadata": {},
   "outputs": [
    {
     "name": "stdout",
     "output_type": "stream",
     "text": [
      "alpha\tresult\n",
      "-------------\n",
      "0.0 \t True\n",
      "0.0107 \t True\n",
      "0.0214 \t True\n",
      "0.0321 \t True\n",
      "0.0429 \t True\n",
      "0.0536 \t True\n",
      "0.0643 \t True\n",
      "0.075 \t False\n",
      "0.0857 \t False\n",
      "0.0964 \t False\n",
      "0.1071 \t False\n",
      "0.1179 \t False\n",
      "0.1286 \t False\n",
      "0.1393 \t False\n",
      "0.15 \t False\n"
     ]
    }
   ],
   "source": [
    "print('alpha\\tresult')\n",
    "print('-------------')\n",
    "\n",
    "for alpha in np.linspace(0, 0.15, 15):\n",
    "    t1 = stats.t.ppf(alpha / 2, df=n - 1)\n",
    "    t2 = stats.t.ppf(1 - alpha / 2, df=n - 1)\n",
    "    \n",
    "    print(round(alpha, 4), '\\t', t1 <= S <= t2)"
   ]
  },
  {
   "cell_type": "markdown",
   "metadata": {},
   "source": [
    "Как мы видим, при малых $\\alpha$ имеем довольно широкую критическую область, в которую сложнее попасть. На нескольких первых шагах критическая область достаточно широка, что значение статистики в неё не попадает. Но в какой-то момент критическая область сужается настолько, что поглощает значение статистики. С этого момента гипотеза начинает отвергаться.\n",
    "\n",
    "P-значением будет то значение $\\alpha$, при котором происходит этот переход, т.е. когда одна из границ критической области совпадает со значением статистики.\n",
    "\n",
    "Пусть $F_S(x)$ — функция распределения рассматриваемой статистики, а $t_{\\beta}$ — квантиль порядка $\\beta$ для этого распределения. Как считать P-значение:\n",
    "\n",
    "1. Для правосторонней области $\\Omega_\\alpha = \\left( t_{1 - \\alpha}, \\infty \\right)$ имеем условие $t_{1 - \\alpha} = S$, откуда $$P_r = 1 - F_S(S)$$\n",
    "\n",
    "2. Для левосторонней области $\\Omega_\\alpha = \\left( -\\infty, t_\\alpha \\right)$, условие $t_\\alpha = S$, откуда $$P_l = F_S(S)$$\n",
    "\n",
    "3. Для двухсторонней области $\\Omega_\\alpha = \\left( -\\infty, t_{\\alpha / 2} \\right) \\cup \\left( t_{1 - \\alpha / 2} , \\infty \\right)$ нужна комбинация двух: $$P = 2 \\cdot \\min (P_l, P_r)$$"
   ]
  },
  {
   "cell_type": "markdown",
   "metadata": {},
   "source": [
    "В нашем случае область двухсторонняя, так что найдём P-значение по последней формуле."
   ]
  },
  {
   "cell_type": "code",
   "execution_count": 18,
   "metadata": {},
   "outputs": [
    {
     "data": {
      "text/plain": [
       "0.06978674686298825"
      ]
     },
     "execution_count": 18,
     "metadata": {},
     "output_type": "execute_result"
    }
   ],
   "source": [
    "p_left = stats.t.cdf(S, df=n - 1)\n",
    "p_right = 1 - stats.t.cdf(S, df=n - 1)\n",
    "\n",
    "pvalue = 2 * min(p_left, p_right)\n",
    "\n",
    "pvalue"
   ]
  },
  {
   "cell_type": "markdown",
   "metadata": {},
   "source": [
    "На практике использовать P-значения можно так: если выбранный нами уровень значимости меньше P-значения, полученного в результате теста, то гипотезу можно принять. В противном случае, гипотезу следует отвергнуть.\n",
    "\n",
    "Например, для текущей задачи мы использовали уровень значимости $\\alpha = 0.05$. Это меньше, чем получившееся P-значение, поэтому гипотеза принимается."
   ]
  },
  {
   "cell_type": "markdown",
   "metadata": {},
   "source": [
    "### Доверительные интервалы\n",
    "\n",
    "Ранее мы познакомились со способами оценивать параметры распределения по выборке. Всё это были __точечные__ оценки, т.е. мы оценивали параметр каким-то единственным числом.  \n",
    "\n",
    "Минус таких оценок в том, что у нас нет возможности понять, насколько хорошей такая оценка получилась (т.е. насколько близко мы оказались к реальному значению оцениваемого параметра).\n",
    "\n",
    "Для исправления этого недостатка используют доверительные интервалы. __Доверительный интервал__ — это интервал, который с некоторой вероятностью (заданной заранее) содержит значение оцениваемого параметра.\n",
    "\n",
    "Более строго: пусть задано число $p$, называемое __уровнем доверия__ или __доверительной вероятностью__. Доверительным интервалом для параметра $\\theta$ называется пара статистик $L$ и $U$, таких, что\n",
    "$$P(L \\leq \\theta \\leq U) = p$$"
   ]
  },
  {
   "cell_type": "markdown",
   "metadata": {},
   "source": [
    "Доверительные интервалы используют ту же математическую базу, что и статистические тесты.\n",
    "\n",
    "Например, пусть дана выборка $X$ из __нормально распределённой__ случайной величины с __известной дисперсией__ $\\sigma ^ 2$, и требуется построить доверительный интервал для математического ожидания $\\mu$ с доверительной вероятностью $p$. Мы знаем, что в этом случае статистика\n",
    "$$Z = \\dfrac{\\overline{X} - \\mu}{\\sigma / \\sqrt{n}}$$\n",
    "имеет стандартное нормальное распределение. \n",
    "\n",
    "Обозначим $\\alpha = 1 - p$. Можно убедиться в том, что\n",
    "$$P \\left( t_{\\alpha / 2} \\leq Z \\leq t_{1 - \\alpha / 2} \\right) = p,$$\n",
    "где $t_{\\beta}$ — квантиль порядка $\\beta$ для стандартного нормального распределения. Подставляя сюда $Z$, получаем\n",
    "$$P \\left( t_{\\alpha / 2} \\leq \\dfrac{\\overline{X} - \\mu}{\\sigma / \\sqrt{n}} \\leq t_{1 - \\alpha / 2} \\right) = p$$\n",
    "$$P \\left( t_{\\alpha / 2} \\cdot \\dfrac{\\sigma}{\\sqrt{n}} \\leq \\overline{X} - \\mu \\leq t_{1 - \\alpha / 2} \\cdot \\dfrac{\\sigma}{\\sqrt{n}} \\right) = p$$\n",
    "\n",
    "\n",
    "<center>\n",
    "    <div style=\"width: 350px;border:1px solid black;\">\n",
    "        $P \\left( \\overline{X} + t_{\\alpha / 2} \\cdot \\dfrac{\\sigma}{\\sqrt{n}} \\leq \\mu \\leq \\overline{X} + t_{1 - \\alpha / 2} \\cdot \\dfrac{\\sigma}{\\sqrt{n}} \\right) = p$\n",
    "    </div>\n",
    "</center>"
   ]
  },
  {
   "cell_type": "markdown",
   "metadata": {},
   "source": [
    "В случае __неизвестной дисперсии__ мы используем статистику\n",
    "$$t = \\dfrac{\\overline{X} - \\mu}{\\sigma_X / \\sqrt{n}},$$\n",
    "где $\\sigma_X$ — выборочное среднее квадратическое отклонение. Эта статистика имеет распределение Стьюдента, поэтому\n",
    "$$P \\left( t_{\\alpha / 2, \\: n - 1} \\leq t \\leq t_{1 - \\alpha / 2, \\: n - 1} \\right) = p,$$\n",
    "где $t_{\\beta, \\: n - 1}$ — квантиль порядка $\\beta$ для распределения Стьюдента с параметром $df = n - 1$. Аналогичным способом получаем доверительный интервал:\n",
    "$$P \\left( \\overline{X} + t_{\\alpha / 2, \\: n - 1} \\cdot \\dfrac{\\sigma_X}{\\sqrt{n}} \\leq \\mu \\leq \\overline{X} + t_{1 - \\alpha / 2, \\: n - 1} \\cdot \\dfrac{\\sigma_X}{\\sqrt{n}} \\right) = p$$"
   ]
  },
  {
   "cell_type": "markdown",
   "metadata": {},
   "source": [
    "__Пример 4__\n",
    "\n",
    "Построим доверительный интервал для мат. ожидания диаметра подшипника, используя выборку из примера 1. Будем считать, что дисперсия незивестна, и использовать t-статистику."
   ]
  },
  {
   "cell_type": "code",
   "execution_count": 19,
   "metadata": {},
   "outputs": [
    {
     "data": {
      "text/plain": [
       "(24, 1.1084541666666665, 0.27936526343958135)"
      ]
     },
     "execution_count": 19,
     "metadata": {},
     "output_type": "execute_result"
    }
   ],
   "source": [
    "n = samples.shape[0]\n",
    "\n",
    "mean = samples.mean()\n",
    "std = samples.std(ddof=1)\n",
    "\n",
    "n, mean, std"
   ]
  },
  {
   "cell_type": "markdown",
   "metadata": {},
   "source": [
    "Нужные нам квантили найдём с помощью `scipy`:"
   ]
  },
  {
   "cell_type": "code",
   "execution_count": 20,
   "metadata": {},
   "outputs": [
    {
     "data": {
      "text/plain": [
       "(-2.0686576104190406, 2.0686576104190406)"
      ]
     },
     "execution_count": 20,
     "metadata": {},
     "output_type": "execute_result"
    }
   ],
   "source": [
    "p = 0.95\n",
    "alpha = 1 - p\n",
    "\n",
    "t1 = stats.t.ppf(alpha / 2, df=n - 1)\n",
    "t2 = stats.t.ppf(1 - alpha / 2, df=n - 1)\n",
    "\n",
    "t1, t2"
   ]
  },
  {
   "cell_type": "markdown",
   "metadata": {},
   "source": [
    "Итак, доверительный интервал:"
   ]
  },
  {
   "cell_type": "code",
   "execution_count": 21,
   "metadata": {},
   "outputs": [
    {
     "data": {
      "text/plain": [
       "(0.9904885617884089, 1.226419771544924)"
      ]
     },
     "execution_count": 21,
     "metadata": {},
     "output_type": "execute_result"
    }
   ],
   "source": [
    "(mean + t1 * std / np.sqrt(n), mean + t2 * std / np.sqrt(n))"
   ]
  },
  {
   "cell_type": "markdown",
   "metadata": {},
   "source": [
    "Замечания, сделанные ранее про Z- и t-статистики, справедливы и здесь. В частности, если выборка достаточно велика, то для построения доверительных интервалов можно использовать как Z-статистику, так и t-статистику, а также использовать их в случаях, когда распределение имеющейся выборки не в точности нормальное.\n",
    "\n",
    "Для построения __доверительных интервалов для дисперсии__ пользуются распределением хи-квадрат. Как это делается, описано, например, [здесь](https://ru.wikipedia.org/wiki/%D0%94%D0%BE%D0%B2%D0%B5%D1%80%D0%B8%D1%82%D0%B5%D0%BB%D1%8C%D0%BD%D1%8B%D0%B9_%D0%B8%D0%BD%D1%82%D0%B5%D1%80%D0%B2%D0%B0%D0%BB_%D0%B4%D0%BB%D1%8F_%D0%B4%D0%B8%D1%81%D0%BF%D0%B5%D1%80%D1%81%D0%B8%D0%B8_%D0%BD%D0%BE%D1%80%D0%BC%D0%B0%D0%BB%D1%8C%D0%BD%D0%BE%D0%B9_%D0%B2%D1%8B%D0%B1%D0%BE%D1%80%D0%BA%D0%B8)."
   ]
  },
  {
   "cell_type": "markdown",
   "metadata": {},
   "source": [
    "## Упражнения"
   ]
  },
  {
   "cell_type": "markdown",
   "metadata": {},
   "source": [
    "__Задача 1__\n",
    "\n",
    "Известно, что генеральная совокупность распределена нормально с известным средним квадратическим отклонением 16. Найти доверительный интервал для оценки математического ожидания `mu` с надёжностью 0.95, если выборочное среднее равно 80, а объём равен 256.\n",
    "\n",
    "__Задача 2__\n",
    "\n",
    "Продавец утверждает, что средний вес пачки печенья составляет 200 г. Из партии извлечена выборка из 10 пачек. Вес каждой пачки составляет:\n",
    "```\n",
    "202, 203, 199, 197, 195, 201, 200, 204, 194, 190\n",
    "```\n",
    "Известно, что их веса распределены нормально. \n",
    "1. Верно ли утверждение продавца, если учитывать, что уровень значимости равен 1%? \n",
    "2. Найдите P-значение для данного теста.\n",
    "\n",
    "__Задача 3__\n",
    "\n",
    "Дана выборка диаметров подшипников из примера 1 с занятия 5:\n",
    "```\n",
    "samples = [0.6603, 0.9466, 0.5968, 1.3792, 1.5481, 0.7515, 1.0681, 1.1134,\n",
    "           1.2088, 1.701 , 1.0282, 1.3579, 1.0191, 1.1784, 1.1168, 1.1372,\n",
    "           0.7273, 1.3958, 0.8665, 1.5112, 1.161 , 1.0232, 1.0865, 1.02  ]\n",
    "```\n",
    "Предполагая, что диаметры подшипников распределены нормально, проверьте гипотезу о том, что дисперсия случайной величины равна `0.0625` при уровне значимости `alpha = 0.05`. Что для этого нужно знать:\n",
    "1. Альтернативная гипотеза двухсторонняя.\n",
    "2. Статистика для теста: `H = (n - 1) * sample_variance / variance`, где `n` - число элементов в выборке, `sample_variance` - несмещённая оценка дисперсии, `variance` - утверждаемая нулевой гипотезой дисперсия.\n",
    "3. Эта статистика в предположении верности нулевой гипотезы имеет распределение хи-квадрат с параметром `df = n - 1`. Её квантили можно найти с помощью функции `scipy.stats.chi2.ppf`."
   ]
  }
 ],
 "metadata": {
  "colab": {
   "name": "Матстат - Урок 5.ipynb",
   "provenance": [],
   "version": "0.3.2"
  },
  "kernelspec": {
   "display_name": "Python 3",
   "language": "python",
   "name": "python3"
  },
  "language_info": {
   "codemirror_mode": {
    "name": "ipython",
    "version": 3
   },
   "file_extension": ".py",
   "mimetype": "text/x-python",
   "name": "python",
   "nbconvert_exporter": "python",
   "pygments_lexer": "ipython3",
   "version": "3.7.6"
  }
 },
 "nbformat": 4,
 "nbformat_minor": 4
}
