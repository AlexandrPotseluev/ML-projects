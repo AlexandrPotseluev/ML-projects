{
 "cells": [
  {
   "cell_type": "code",
   "execution_count": 6,
   "metadata": {
    "colab": {},
    "colab_type": "code",
    "id": "_u5bV-OlT34p"
   },
   "outputs": [],
   "source": [
    "import numpy as np\n",
    "import matplotlib.pyplot as plt"
   ]
  },
  {
   "cell_type": "code",
   "execution_count": 7,
   "metadata": {
    "colab": {},
    "colab_type": "code",
    "id": "_n6il-AZaLuA"
   },
   "outputs": [],
   "source": [
    "# К признаку стажа добавим признаки: средняя стоимость занятия,\n",
    "# квалификация репетитора\n",
    "X = np.array([[1, 1, 1, 1, 1, 1, 1, 1, 1, 1],\n",
    "              [1, 1, 2, 1, 3, 0, 5, 10, 1, 2],\n",
    "              [500, 700, 750, 600, 1450,\n",
    "               800, 1500, 2000, 450, 1000],\n",
    "              [1, 1, 2, 1, 2, \n",
    "               1, 3, 3, 1, 2]])"
   ]
  },
  {
   "cell_type": "code",
   "execution_count": 8,
   "metadata": {},
   "outputs": [
    {
     "data": {
      "text/plain": [
       "(10, 4)"
      ]
     },
     "execution_count": 8,
     "metadata": {},
     "output_type": "execute_result"
    }
   ],
   "source": [
    "X.T.shape"
   ]
  },
  {
   "cell_type": "code",
   "execution_count": 9,
   "metadata": {
    "colab": {},
    "colab_type": "code",
    "id": "x8yoci01ni-t"
   },
   "outputs": [],
   "source": [
    "y = [45, 55, 50, 59, 65, 35, 75, 80, 50, 60]"
   ]
  },
  {
   "cell_type": "code",
   "execution_count": 10,
   "metadata": {
    "colab": {
     "base_uri": "https://localhost:8080/",
     "height": 34
    },
    "colab_type": "code",
    "id": "Ei5qeZO_aT6m",
    "outputId": "087819d3-202a-46c9-f87d-49e17953099c"
   },
   "outputs": [
    {
     "data": {
      "text/plain": [
       "(450, 2000)"
      ]
     },
     "execution_count": 10,
     "metadata": {},
     "output_type": "execute_result"
    }
   ],
   "source": [
    "# Нормализация [0, 1]\n",
    "X[2].min(), X[2].max()"
   ]
  },
  {
   "cell_type": "code",
   "execution_count": 11,
   "metadata": {
    "colab": {
     "base_uri": "https://localhost:8080/",
     "height": 121
    },
    "colab_type": "code",
    "id": "E55S9Bzob9Xa",
    "outputId": "4abf56a2-d484-4c24-8520-8ed1b58ccca8"
   },
   "outputs": [],
   "source": [
    "X_norm = X.copy()\n",
    "X_norm = X_norm.astype(np.float64)"
   ]
  },
  {
   "cell_type": "code",
   "execution_count": 12,
   "metadata": {
    "colab": {
     "base_uri": "https://localhost:8080/",
     "height": 121
    },
    "colab_type": "code",
    "id": "izkMRdXFcjyK",
    "outputId": "982b8c8d-629d-4c4a-a3d5-67854cee4a4a"
   },
   "outputs": [
    {
     "data": {
      "text/plain": [
       "array([[ 1.        ,  1.        ,  1.        ,  1.        ,  1.        ,\n",
       "         1.        ,  1.        ,  1.        ,  1.        ,  1.        ],\n",
       "       [ 1.        ,  1.        ,  2.        ,  1.        ,  3.        ,\n",
       "         0.        ,  5.        , 10.        ,  1.        ,  2.        ],\n",
       "       [ 0.03225806,  0.16129032,  0.19354839,  0.09677419,  0.64516129,\n",
       "         0.22580645,  0.67741935,  1.        ,  0.        ,  0.35483871],\n",
       "       [ 1.        ,  1.        ,  2.        ,  1.        ,  2.        ,\n",
       "         1.        ,  3.        ,  3.        ,  1.        ,  2.        ]])"
      ]
     },
     "execution_count": 12,
     "metadata": {},
     "output_type": "execute_result"
    }
   ],
   "source": [
    "X_norm[2] = (X[2] - X[2].min()) / (X[2].max() - X[2].min())\n",
    "X_norm"
   ]
  },
  {
   "cell_type": "code",
   "execution_count": 13,
   "metadata": {
    "colab": {
     "base_uri": "https://localhost:8080/",
     "height": 121
    },
    "colab_type": "code",
    "id": "7x-6IuPOcIo0",
    "outputId": "1668fec7-37ae-4671-ad9f-f093c30a6c72"
   },
   "outputs": [
    {
     "data": {
      "text/plain": [
       "array([[1.        , 1.        , 1.        , 1.        , 1.        ,\n",
       "        1.        , 1.        , 1.        , 1.        , 1.        ],\n",
       "       [0.1       , 0.1       , 0.2       , 0.1       , 0.3       ,\n",
       "        0.        , 0.5       , 1.        , 0.1       , 0.2       ],\n",
       "       [0.03225806, 0.16129032, 0.19354839, 0.09677419, 0.64516129,\n",
       "        0.22580645, 0.67741935, 1.        , 0.        , 0.35483871],\n",
       "       [1.        , 1.        , 2.        , 1.        , 2.        ,\n",
       "        1.        , 3.        , 3.        , 1.        , 2.        ]])"
      ]
     },
     "execution_count": 13,
     "metadata": {},
     "output_type": "execute_result"
    }
   ],
   "source": [
    "X_norm[1] = (X[1] - X[1].min()) / (X[1].max() - X[1].min())\n",
    "X_norm"
   ]
  },
  {
   "cell_type": "code",
   "execution_count": null,
   "metadata": {},
   "outputs": [],
   "source": [
    "X"
   ]
  },
  {
   "cell_type": "code",
   "execution_count": 14,
   "metadata": {
    "colab": {
     "base_uri": "https://localhost:8080/",
     "height": 317
    },
    "colab_type": "code",
    "id": "8i9pB-3-fMD4",
    "outputId": "3cbe76f6-d000-4fcd-fe86-ffe853403356"
   },
   "outputs": [
    {
     "data": {
      "text/plain": [
       "(array([1., 4., 2., 1., 0., 1., 0., 0., 0., 1.]),\n",
       " array([ 0.,  1.,  2.,  3.,  4.,  5.,  6.,  7.,  8.,  9., 10.]),\n",
       " <a list of 10 Patch objects>)"
      ]
     },
     "execution_count": 14,
     "metadata": {},
     "output_type": "execute_result"
    },
    {
     "data": {
      "image/png": "[encoded data removed]",
      "text/plain": [
       "<Figure size 432x288 with 1 Axes>"
      ]
     },
     "metadata": {
      "needs_background": "light"
     },
     "output_type": "display_data"
    }
   ],
   "source": [
    "plt.hist(X[1])"
   ]
  },
  {
   "cell_type": "code",
   "execution_count": 15,
   "metadata": {
    "colab": {
     "base_uri": "https://localhost:8080/",
     "height": 335
    },
    "colab_type": "code",
    "id": "-bnAYQqVfRX-",
    "outputId": "d59b0013-49bc-40fa-cb29-e71403e6e9e0"
   },
   "outputs": [
    {
     "data": {
      "text/plain": [
       "(array([1., 4., 3., 0., 0., 1., 0., 0., 0., 1.]),\n",
       " array([0. , 0.1, 0.2, 0.3, 0.4, 0.5, 0.6, 0.7, 0.8, 0.9, 1. ]),\n",
       " <a list of 10 Patch objects>)"
      ]
     },
     "execution_count": 15,
     "metadata": {},
     "output_type": "execute_result"
    },
    {
     "data": {
      "image/png": "[encoded data removed]",
      "text/plain": [
       "<Figure size 432x288 with 1 Axes>"
      ]
     },
     "metadata": {
      "needs_background": "light"
     },
     "output_type": "display_data"
    }
   ],
   "source": [
    "plt.hist(X_norm[1])"
   ]
  },
  {
   "cell_type": "code",
   "execution_count": 30,
   "metadata": {},
   "outputs": [
    {
     "data": {
      "text/plain": [
       "(1100,)"
      ]
     },
     "execution_count": 30,
     "metadata": {},
     "output_type": "execute_result"
    }
   ],
   "source": [
    "x_norm = np.random.randint(0, 10, size=1000)\n",
    "x_outliers = np.random.randint(100, 200, size=100)\n",
    "\n",
    "x = np.hstack((x_norm, x_outliers))\n",
    "x.shape"
   ]
  },
  {
   "cell_type": "code",
   "execution_count": 33,
   "metadata": {},
   "outputs": [
    {
     "data": {
      "image/png": "[encoded data removed]",
      "text/plain": [
       "<Figure size 1080x576 with 1 Axes>"
      ]
     },
     "metadata": {
      "needs_background": "light"
     },
     "output_type": "display_data"
    }
   ],
   "source": [
    "fig = plt.figure(figsize=(15, 8))\n",
    "plt.hist(x, bins=30)\n",
    "plt.show()"
   ]
  },
  {
   "cell_type": "code",
   "execution_count": 34,
   "metadata": {},
   "outputs": [
    {
     "data": {
      "text/plain": [
       "(1100,)"
      ]
     },
     "execution_count": 34,
     "metadata": {},
     "output_type": "execute_result"
    }
   ],
   "source": [
    "x_ = (x - x.min()) / (x.max() - x.min())\n",
    "x_.shape"
   ]
  },
  {
   "cell_type": "code",
   "execution_count": 35,
   "metadata": {},
   "outputs": [
    {
     "data": {
      "image/png": "[encoded data removed]",
      "text/plain": [
       "<Figure size 1080x576 with 1 Axes>"
      ]
     },
     "metadata": {
      "needs_background": "light"
     },
     "output_type": "display_data"
    }
   ],
   "source": [
    "fig = plt.figure(figsize=(15, 8))\n",
    "plt.hist(x_, bins=30)\n",
    "plt.show()"
   ]
  },
  {
   "cell_type": "code",
   "execution_count": null,
   "metadata": {
    "colab": {},
    "colab_type": "code",
    "id": "Zy63bpFfeqzu"
   },
   "outputs": [],
   "source": [
    "# Стандартизация"
   ]
  },
  {
   "cell_type": "code",
   "execution_count": 16,
   "metadata": {
    "colab": {
     "base_uri": "https://localhost:8080/",
     "height": 34
    },
    "colab_type": "code",
    "id": "eBMYUxGBfeGs",
    "outputId": "3d6031a8-3489-4661-a4a9-62d0c94c7116"
   },
   "outputs": [
    {
     "data": {
      "text/plain": [
       "2.6"
      ]
     },
     "execution_count": 16,
     "metadata": {},
     "output_type": "execute_result"
    }
   ],
   "source": [
    "X1_mean = X[1].mean()\n",
    "X1_mean"
   ]
  },
  {
   "cell_type": "code",
   "execution_count": 17,
   "metadata": {
    "colab": {
     "base_uri": "https://localhost:8080/",
     "height": 34
    },
    "colab_type": "code",
    "id": "KsBCCu-Cf45z",
    "outputId": "e5c534cf-2e3c-4574-f281-3ae73c956783"
   },
   "outputs": [
    {
     "data": {
      "text/plain": [
       "2.8000000000000003"
      ]
     },
     "execution_count": 17,
     "metadata": {},
     "output_type": "execute_result"
    }
   ],
   "source": [
    "X1_std = X[1].std()\n",
    "X1_std"
   ]
  },
  {
   "cell_type": "code",
   "execution_count": 18,
   "metadata": {
    "colab": {},
    "colab_type": "code",
    "id": "M57-Pzl_f_rF"
   },
   "outputs": [],
   "source": [
    "X_st = X.copy().astype(np.float64)"
   ]
  },
  {
   "cell_type": "code",
   "execution_count": 19,
   "metadata": {
    "colab": {
     "base_uri": "https://localhost:8080/",
     "height": 294
    },
    "colab_type": "code",
    "id": "btJMY0YbgKLb",
    "outputId": "40010205-def9-4582-9a5d-e513e85b7a4e"
   },
   "outputs": [
    {
     "data": {
      "text/plain": [
       "array([[ 1.00000000e+00,  1.00000000e+00,  1.00000000e+00,\n",
       "         1.00000000e+00,  1.00000000e+00,  1.00000000e+00,\n",
       "         1.00000000e+00,  1.00000000e+00,  1.00000000e+00,\n",
       "         1.00000000e+00],\n",
       "       [-5.71428571e-01, -5.71428571e-01, -2.14285714e-01,\n",
       "        -5.71428571e-01,  1.42857143e-01, -9.28571429e-01,\n",
       "         8.57142857e-01,  2.64285714e+00, -5.71428571e-01,\n",
       "        -2.14285714e-01],\n",
       "       [ 5.00000000e+02,  7.00000000e+02,  7.50000000e+02,\n",
       "         6.00000000e+02,  1.45000000e+03,  8.00000000e+02,\n",
       "         1.50000000e+03,  2.00000000e+03,  4.50000000e+02,\n",
       "         1.00000000e+03],\n",
       "       [ 1.00000000e+00,  1.00000000e+00,  2.00000000e+00,\n",
       "         1.00000000e+00,  2.00000000e+00,  1.00000000e+00,\n",
       "         3.00000000e+00,  3.00000000e+00,  1.00000000e+00,\n",
       "         2.00000000e+00]])"
      ]
     },
     "execution_count": 19,
     "metadata": {},
     "output_type": "execute_result"
    }
   ],
   "source": [
    "X_st[1] = (X[1] - X1_mean) / X1_std\n",
    "X_st"
   ]
  },
  {
   "cell_type": "code",
   "execution_count": 20,
   "metadata": {},
   "outputs": [
    {
     "data": {
      "text/plain": [
       "(3.3306690738754695e-17, 1.0)"
      ]
     },
     "execution_count": 20,
     "metadata": {},
     "output_type": "execute_result"
    }
   ],
   "source": [
    "np.mean(X_st[1]), np.std(X_st[1])"
   ]
  },
  {
   "cell_type": "code",
   "execution_count": null,
   "metadata": {
    "colab": {
     "base_uri": "https://localhost:8080/",
     "height": 352
    },
    "colab_type": "code",
    "id": "-Y1tzWGCgYjA",
    "outputId": "89dc21fe-180f-4e68-f30f-1cf276c4f154"
   },
   "outputs": [],
   "source": [
    "plt.hist(X_st[1])"
   ]
  },
  {
   "cell_type": "code",
   "execution_count": 36,
   "metadata": {},
   "outputs": [
    {
     "data": {
      "text/plain": [
       "(array([1., 4., 2., 1., 0., 1., 0., 0., 0., 1.]),\n",
       " array([ 0.,  1.,  2.,  3.,  4.,  5.,  6.,  7.,  8.,  9., 10.]),\n",
       " <a list of 10 Patch objects>)"
      ]
     },
     "execution_count": 36,
     "metadata": {},
     "output_type": "execute_result"
    },
    {
     "data": {
      "image/png": "[encoded data removed]",
      "text/plain": [
       "<Figure size 720x360 with 2 Axes>"
      ]
     },
     "metadata": {
      "needs_background": "light"
     },
     "output_type": "display_data"
    }
   ],
   "source": [
    "fig = plt.figure(figsize=(10, 5))\n",
    "plt.subplot(121)\n",
    "plt.hist(X_st[1])\n",
    "plt.subplot(122)\n",
    "plt.hist(X[1])"
   ]
  },
  {
   "cell_type": "code",
   "execution_count": 37,
   "metadata": {
    "colab": {},
    "colab_type": "code",
    "id": "ZlJUBOyzgkJV"
   },
   "outputs": [],
   "source": [
    "# В цикле\n",
    "# Векторные\n",
    "\n",
    "def calc_std_feat(x: np.array):\n",
    "    res = (x - x.mean()) / x.std()\n",
    "    return res"
   ]
  },
  {
   "cell_type": "code",
   "execution_count": 38,
   "metadata": {
    "colab": {},
    "colab_type": "code",
    "id": "6PlDlFY0hGZA"
   },
   "outputs": [],
   "source": [
    "X_st[2] = calc_std_feat(X[2])"
   ]
  },
  {
   "cell_type": "code",
   "execution_count": 39,
   "metadata": {
    "colab": {
     "base_uri": "https://localhost:8080/",
     "height": 155
    },
    "colab_type": "code",
    "id": "LOKhmhJjt9TR",
    "outputId": "2b131d78-9066-462b-dfa9-778758f3d363"
   },
   "outputs": [
    {
     "data": {
      "text/plain": [
       "array([[ 1.        ,  1.        ,  1.        ,  1.        ,  1.        ,\n",
       "         1.        ,  1.        ,  1.        ,  1.        ,  1.        ],\n",
       "       [-0.57142857, -0.57142857, -0.21428571, -0.57142857,  0.14285714,\n",
       "        -0.92857143,  0.85714286,  2.64285714, -0.57142857, -0.21428571],\n",
       "       [-0.97958969, -0.56713087, -0.46401617, -0.77336028,  0.97958969,\n",
       "        -0.36090146,  1.08270439,  2.11385144, -1.08270439,  0.05155735],\n",
       "       [-0.89625816, -0.89625816,  0.38411064, -0.89625816,  0.38411064,\n",
       "        -0.89625816,  1.66447944,  1.66447944, -0.89625816,  0.38411064]])"
      ]
     },
     "execution_count": 39,
     "metadata": {},
     "output_type": "execute_result"
    }
   ],
   "source": [
    "X_st[3] = calc_std_feat(X[3])\n",
    "X_st"
   ]
  },
  {
   "cell_type": "code",
   "execution_count": 46,
   "metadata": {},
   "outputs": [
    {
     "data": {
      "text/plain": [
       "(array([ 1.00000000e+00,  3.33066907e-17, -4.16333634e-17,  8.32667268e-17]),\n",
       " array([0., 1., 1., 1.]))"
      ]
     },
     "execution_count": 46,
     "metadata": {},
     "output_type": "execute_result"
    }
   ],
   "source": [
    "X_st.mean(axis=1), X_st.std(axis=1)"
   ]
  },
  {
   "cell_type": "code",
   "execution_count": 51,
   "metadata": {},
   "outputs": [
    {
     "data": {
      "text/plain": [
       "0    1.000000\n",
       "1   -0.392857\n",
       "2   -0.412459\n",
       "3   -0.256074\n",
       "dtype: float64"
      ]
     },
     "execution_count": 51,
     "metadata": {},
     "output_type": "execute_result"
    }
   ],
   "source": [
    "import pandas as pd\n",
    "pd.DataFrame(X_st).median(axis=1)"
   ]
  },
  {
   "cell_type": "code",
   "execution_count": null,
   "metadata": {},
   "outputs": [],
   "source": [
    "O(d^3);\n",
    "O(n*m); n - кол-во примеров, m - кол-во признаков\n",
    "O(m)\n",
    "\n",
    "weights = weights - eta * gradient; eta ~ 0.01 - 0.0001\n",
    "Важен ли точный gradient?\n",
    "\n",
    "100 * 0.001 = 0.1\n",
    "85 * 0.001 = 0.0085\n",
    "125 * 0.001 0.125"
   ]
  },
  {
   "cell_type": "code",
   "execution_count": 40,
   "metadata": {
    "colab": {
     "base_uri": "https://localhost:8080/",
     "height": 121
    },
    "colab_type": "code",
    "id": "UwiZ4UcOhQXX",
    "outputId": "a4b1c355-12d6-49cf-f097-24af99872ab9"
   },
   "outputs": [
    {
     "data": {
      "text/plain": [
       "array([[-0.50201588, -0.50201588, -0.50201588, -0.50201588, -0.50201588,\n",
       "        -0.50201588, -0.50201588, -0.50201588, -0.50201588, -0.50201588],\n",
       "       [-0.50201588, -0.50201588, -0.49995907, -0.50201588, -0.49790226,\n",
       "        -0.50407269, -0.49378864, -0.48350459, -0.50201588, -0.49995907],\n",
       "       [ 0.52433227,  0.93569425,  1.03853475,  0.73001326,  2.4783017 ,\n",
       "         1.14137525,  2.58114219,  3.60954715,  0.42149177,  1.55273723],\n",
       "       [-0.50201588, -0.50201588, -0.49995907, -0.50201588, -0.49995907,\n",
       "        -0.50201588, -0.49790226, -0.49790226, -0.50201588, -0.49995907]])"
      ]
     },
     "execution_count": 40,
     "metadata": {},
     "output_type": "execute_result"
    }
   ],
   "source": [
    "X_wrong = calc_std_feat(X)\n",
    "X_wrong"
   ]
  },
  {
   "cell_type": "code",
   "execution_count": 41,
   "metadata": {},
   "outputs": [],
   "source": [
    "from sklearn.preprocessing import StandardScaler # Стандартизация\n",
    "from sklearn.preprocessing import MinMaxScaler # [0, 1]"
   ]
  },
  {
   "cell_type": "code",
   "execution_count": 43,
   "metadata": {
    "colab": {},
    "colab_type": "code",
    "id": "UdGy9tjVhZol"
   },
   "outputs": [
    {
     "data": {
      "text/plain": [
       "array([[-5.        , -5.        , -5.        , -5.        , -5.        ,\n",
       "        -5.        , -5.        , -5.        , -5.        , -5.        ],\n",
       "       [-4.        , -4.        , -3.        , -4.        , -2.        ,\n",
       "        -5.        ,  0.        ,  5.        , -4.        , -3.        ],\n",
       "       [-4.67741935, -3.38709677, -3.06451613, -4.03225806,  1.4516129 ,\n",
       "        -2.74193548,  1.77419355,  5.        , -5.        , -1.4516129 ],\n",
       "       [-5.        , -5.        ,  0.        , -5.        ,  0.        ,\n",
       "        -5.        ,  5.        ,  5.        , -5.        ,  0.        ]])"
      ]
     },
     "execution_count": 43,
     "metadata": {},
     "output_type": "execute_result"
    }
   ],
   "source": [
    "scaler = MinMaxScaler(feature_range=(-5, 5))\n",
    "scaler.fit_transform(X.T).Tv"
   ]
  },
  {
   "cell_type": "code",
   "execution_count": null,
   "metadata": {},
   "outputs": [],
   "source": [
    "n_iters = 1000 # число итераций SGD\n",
    "\n",
    "for iter_ in range(n_iters): # N эпох\n",
    "    for idx in range(X.shape[1]): # 1 эпоха обучения\n",
    "        weights = weights - ..."
   ]
  },
  {
   "cell_type": "code",
   "execution_count": null,
   "metadata": {},
   "outputs": [],
   "source": [
    "# выбор объекта \n",
    "idx = np.random.randint(0, X.T.shape[0])\n",
    "X.T[idx]"
   ]
  },
  {
   "cell_type": "code",
   "execution_count": 61,
   "metadata": {
    "colab": {},
    "colab_type": "code",
    "id": "VDpN7UxYnrcS"
   },
   "outputs": [],
   "source": [
    "def calc_mse(y, y_pred):\n",
    "    err = np.mean((y - y_pred)**2)\n",
    "    return err"
   ]
  },
  {
   "cell_type": "code",
   "execution_count": 62,
   "metadata": {
    "colab": {},
    "colab_type": "code",
    "id": "SgEyis2zlJeb"
   },
   "outputs": [],
   "source": [
    "def eval_model(X, y, iterations, alpha=1e-4):\n",
    "    W = np.random.randn(X.shape[0])\n",
    "    n = X.shape[1]\n",
    "    for i in range(1, iterations+1):\n",
    "        y_pred = np.dot(W, X)\n",
    "        err = calc_mse(y, y_pred)\n",
    "        W -= (alpha * (1/n * 2 * np.dot((y_pred - y), X.T)))\n",
    "        if i % (iterations / 10) == 0:\n",
    "            print(i, W, err)\n",
    "    return W"
   ]
  },
  {
   "cell_type": "code",
   "execution_count": 77,
   "metadata": {
    "colab": {
     "base_uri": "https://localhost:8080/",
     "height": 207
    },
    "colab_type": "code",
    "id": "4nsYMAGjmFlB",
    "outputId": "8959a8af-3d27-42a6-afae-5db46c794fe1"
   },
   "outputs": [
    {
     "name": "stdout",
     "output_type": "stream",
     "text": [
      "100 [49.72873569  3.64640589  4.19298512  3.75127821] 102.36776884494336\n",
      "200 [56.38264033  4.12190869  3.75762878  3.75870269] 41.75110946437505\n",
      "300 [57.26507821  4.49364126  3.38009476  3.76912302] 40.409809344605854\n",
      "400 [57.38210673  4.79374236  3.06317379  3.78975185] 40.199109351004964\n",
      "500 [57.397627    5.03659747  2.79730512  3.81599854] 40.06765412090636\n",
      "600 [57.39968529  5.23355691  2.57436787  3.84471604] 39.97780714398543\n",
      "700 [57.39995826  5.39362888  2.38750688  3.8738229 ] 39.916065259355136\n",
      "800 [57.39999446  5.52398157  2.2309422   3.90199306] 39.87352574461379\n",
      "900 [57.39999927  5.63033392  2.09980535  3.92842984] 39.844153818284134\n",
      "1000 [57.3999999   5.71726035  1.98999929  3.95270209] 39.82383761151077\n",
      "100 [49.75825958  4.68093443  2.65558717  4.26947665] 100.95420998835911\n",
      "200 [56.38655578  4.98061612  2.47410498  4.20045528] 41.089530499279846\n",
      "300 [57.26559748  5.20578652  2.3074613   4.14380201] 39.956634323384115\n",
      "400 [57.3821756   5.38471136  2.16683968  4.10699307] 39.88463232412466\n",
      "500 [57.39763614  5.52729359  2.04834129  4.08420307] 39.84917474257127\n",
      "600 [57.39968651  5.64120978  1.94858047  4.0711632 ] 39.825914825395465\n",
      "700 [57.39995842  5.73245594  1.8646651   4.06479033] 39.810405989170185\n",
      "800 [57.39999449  5.80572695  1.79413129  4.06287297] 39.7999929370966\n",
      "900 [57.39999927  5.86470795  1.73488476  4.06383814] 39.792959737528335\n",
      "1000 [57.3999999   5.9122989   1.68514889  4.06657862] 39.78818484021812\n",
      "100 [49.86172924  3.99857868  4.7100512   2.87568272] 100.46805880362407\n",
      "200 [56.40027788  4.36541     4.18072631  3.08427069] 41.87829578773187\n",
      "300 [57.2674173   4.65956315  3.7275846   3.24941439] 40.535076876881604\n",
      "400 [57.38241694  4.90409493  3.34896355  3.38854255] 40.2933824006094\n",
      "500 [57.39766814  5.10748953  3.03265213  3.50567247] 40.13708298175793\n",
      "600 [57.39969075  5.27673087  2.76840649  3.60419928] 40.02831486005233\n",
      "700 [57.39995899  5.41760179  2.54766424  3.68701537] 39.95247549691068\n",
      "800 [57.39999456  5.53489439  2.36326918  3.75657934] 39.899592088514\n",
      "900 [57.39999928  5.63258254  2.20924086  3.8149769 ] 39.862715275867174\n",
      "1000 [57.3999999   5.71396369  2.08058171  3.86397434] 39.836999811315465\n",
      "100 [49.91014957  4.56875275  3.15678271  3.87656338] 98.70570376751934\n",
      "200 [56.40669936  4.87145683  2.88937398  3.88815022] 41.15646013972251\n",
      "300 [57.26826891  5.10371968  2.65254704  3.89567327] 40.03643346035115\n",
      "400 [57.38252988  5.29125572  2.4537377   3.90933927] 39.943349331983384\n",
      "500 [57.39768312  5.44305304  2.28696254  3.92634754] 39.89158825565742\n",
      "600 [57.39969274  5.56619027  2.14712383  3.94476924] 39.85632098418411\n",
      "700 [57.39995925  5.66628686  2.02991888  3.96333273] 39.832080941215416\n",
      "800 [57.3999946   5.74781564  1.93172023  3.98123176] 39.81537585657373\n",
      "900 [57.39999928  5.81434608  1.84947278  3.99798581] 39.80383933562044\n",
      "1000 [57.3999999   5.86873404  1.78060573  4.01333885] 39.79585834782145\n",
      "100 [49.7895534   2.75103277  4.28578465  4.55918516] 102.12560996876104\n",
      "200 [56.39070595  3.43565232  3.84400457  4.36014565] 42.169170384364364\n",
      "300 [57.26614787  3.96749966  3.45954308  4.21679389] 40.67253598445846\n",
      "400 [57.38224859  4.38975477  3.13503774  4.1224515 ] 40.359583291012385\n",
      "500 [57.39764582  4.72590647  2.86147704  4.06281748] 40.16652905322765\n",
      "600 [57.39968779  4.99420921  2.63109229  4.02745317] 40.039351389822926\n",
      "700 [57.39995859  5.20890856  2.43724012  4.0088021 ] 39.95477512419658\n",
      "800 [57.39999451  5.38114829  2.27425535  4.00142903] 39.89812922033458\n",
      "900 [57.39999927  5.51966713  2.13731856  4.00145463] 39.859952671450586\n",
      "1000 [57.3999999   5.63133511  2.02233844  4.00613655] 39.83408317790623\n",
      "100 [49.85693155  4.89983558  3.56150661  3.14085918] 99.65636173584213\n",
      "200 [56.39964161  5.10297924  3.21846058  3.32128593] 41.26095459869915\n",
      "300 [57.26733291  5.26482484  2.92233378  3.45975425] 40.103517211547185\n",
      "400 [57.38240575  5.40149875  2.67524794  3.5735528 ] 39.992327026470925\n",
      "500 [57.39766666  5.51680313  2.46908982  3.66722642] 39.92708790517595\n",
      "600 [57.39969055  5.61397426  2.2970655   3.7444285 ] 39.88184287595102\n",
      "700 [57.39995896  5.69578548  2.15351233  3.80812748] 39.85031420211827\n",
      "800 [57.39999456  5.76460622  2.0337098   3.86074017] 39.82833843731619\n",
      "900 [57.39999928  5.82245542  1.9337221   3.90423808] 39.81301957431469\n",
      "1000 [57.3999999   5.87104943  1.85026719  3.94023227] 39.80234024131284\n",
      "100 [49.831157    3.58355028  3.92209276  4.08622049] 100.6707217022557\n",
      "200 [56.3962234   4.08728197  3.5349989   4.01967496] 41.65799821091233\n",
      "300 [57.26687959  4.47748313  3.19616922  3.9722325 ] 40.356207807547136\n",
      "400 [57.38234563  4.7898636   2.91107731  3.94818867] 40.15746825489662\n",
      "500 [57.39765869  5.04060585  2.67141989  3.93988183] 40.03600545450869\n",
      "600 [57.3996895   5.24236738  2.47009335  3.94181856] 39.95425023370357\n",
      "700 [57.39995882  5.40510446  2.30106968  3.95012482] 39.89879285655347\n",
      "800 [57.39999454  5.53666888  2.15924281  3.96210335] 39.86100058088145\n",
      "900 [57.39999928  5.64326886  2.04029428  3.97590718] 39.8351464251218\n",
      "1000 [57.3999999   5.729826    1.94057683  3.99029953] 39.817401141090556\n",
      "100 [49.64863559  4.03242155  3.7835296   3.78413033] 103.28476598471227\n",
      "200 [56.37201749  4.43331901  3.41293329  3.7962094 ] 41.52293144455804\n",
      "300 [57.26366942  4.7463693   3.09109511  3.80895733] 40.23898441233513\n",
      "400 [57.3819199   4.99927277  2.8209708   3.82943709] 40.081800350847416\n",
      "500 [57.39760222  5.20407285  2.59439373  3.85397868] 39.98702864376958\n",
      "600 [57.39968201  5.37027747  2.40442846  3.88008078] 39.92225555613026\n",
      "700 [57.39995783  5.50543868  2.24522263  3.90610542] 39.87770823600356\n",
      "800 [57.39999441  5.61557079  2.11184342  3.93102465] 39.846994224508975\n",
      "900 [57.39999926  5.70547593  2.00013705  3.95423629] 39.825775057997205\n",
      "1000 [57.3999999   5.77899821  1.90660887  3.97543059] 39.81109095595569\n",
      "100 [49.84835236  4.40637716  3.6925788   3.49935884] 99.9307538103928\n",
      "200 [56.39850384  4.72241344  3.33374729  3.58632957] 41.35767995665444\n",
      "300 [57.26718202  4.96997204  3.02219081  3.65440831] 40.16779314623826\n",
      "400 [57.38238574  5.17256975  2.76133515  3.71599176] 40.036233544262835\n",
      "500 [57.397664    5.33866701  2.54301385  3.77101355] 39.95720133856518\n",
      "600 [57.3996902   5.47504407  2.36033157  3.81967097] 39.902556117204554\n",
      "700 [57.39995891  5.58717561  2.20750067  3.86234657] 39.864595999012444\n",
      "800 [57.39999455  5.67949224  2.07966595  3.899524  ] 39.838205555667074\n",
      "900 [57.39999928  5.75558751  1.97275621  3.93173096] 39.81984802862195\n",
      "1000 [57.3999999   5.81838208  1.88335914  3.95950142] 39.80707234304414\n",
      "100 [49.79222262  4.57897955  4.29376637  2.71669439] 101.18406393645324\n",
      "200 [56.39105994  4.82588112  3.82909635  2.97911182] 41.63056291764407\n",
      "300 [57.26619482  5.02603478  3.43112314  3.18259941] 40.3480979458471\n",
      "400 [57.38225482  5.19651665  3.09926726  3.34857787] 40.16212617087597\n",
      "500 [57.39764664  5.3414252   2.82253185  3.48423228] 40.04518519144986\n",
      "600 [57.3996879   5.46435232  2.59172991  3.59529046] 39.96402347243543\n",
      "700 [57.39995861  5.56845144  2.3992133   3.68635657] 39.90752421443507\n",
      "800 [57.39999451  5.65647202  2.23861319  3.76114054] 39.86817815866651\n",
      "900 [57.39999927  5.73079764  2.10462465  3.82263882] 39.840770416010905\n",
      "1000 [57.3999999   5.79348476  1.99282782  3.87327703] 39.821674630286495\n",
      "100 [49.82348483  4.92138016  3.60465311  3.06398537] 100.21156807648876\n",
      "200 [56.39520592  5.12007567  3.25703167  3.26488686] 41.28897222029927\n",
      "300 [57.26674466  5.27607787  2.95408187  3.41619441] 40.11644811725252\n",
      "400 [57.38232774  5.40860868  2.70140407  3.53983581] 40.00105651290489\n",
      "500 [57.39765631  5.52101634  2.49066389  3.64107428] 39.93307285373054\n",
      "600 [57.39968918  5.61619296  2.31487928  3.72410014] 39.885959313525305\n",
      "700 [57.39995878  5.6966586   2.16823581  3.79229046] 39.85315236144384\n",
      "800 [57.39999453  5.76459686  2.04589019  3.84837339] 39.83029921367898\n",
      "900 [57.39999928  5.82189093  1.9438071   3.89455787] 39.81437647078798\n",
      "1000 [57.3999999   5.87015842  1.85862372  3.93263625] 39.80328054316302\n",
      "100 [49.76004509  4.54352518  2.9867498   4.08988339] 101.03585038212354\n",
      "200 [56.38679257  4.85646655  2.74475011  4.05020453] 41.16940224135356\n",
      "300 [57.26562888  5.09891913  2.53296345  4.02200046] 40.01414963426429\n",
      "400 [57.38217976  5.29307489  2.35478251  4.00805821] 39.925586269635915\n",
      "500 [57.39763669  5.44896539  2.20501038  4.00367939] 39.878211459328746\n",
      "600 [57.39968658  5.57443917  2.0792022   4.00549846] 39.84643502182685\n",
      "700 [57.39995843  5.67567166  1.97358698  4.01114515] 39.8248701161143\n",
      "800 [57.39999449  5.75753443  1.88497105  4.018972  ] 39.81016730262655\n",
      "900 [57.39999927  5.82388051  1.81065386  4.02785344] 39.80010478920781\n",
      "1000 [57.3999999   5.87776531  1.74835491  4.03703814] 39.793195874265145\n",
      "100 [49.95448024  4.57163959  3.85540224  3.16712278] 98.33187489787267\n",
      "200 [56.41257848  4.84090809  3.466872    3.33205967] 41.37236892623436\n",
      "300 [57.2690486   5.05404606  3.13104359  3.45937141] 40.19965858599966\n",
      "400 [57.38263328  5.23156241  2.85048895  3.56615935] 40.05983133757012\n",
      "500 [57.39769683  5.37947615  2.61614767  3.65572009] 39.974247643809605\n",
      "600 [57.39969456  5.50275005  2.4204117   3.73080035] 39.91477556071629\n",
      "700 [57.39995949  5.60550845  2.25692436  3.79371699] 39.87330601080912\n",
      "800 [57.39999463  5.69118049  2.12037489  3.84642232] 39.844386807053866\n",
      "900 [57.39999929  5.76261853  2.00632652  3.89055985] 39.824219547581194\n",
      "1000 [57.39999991  5.82219598  1.91107277  3.92751205] 39.810155524201186\n",
      "100 [49.70126362  3.64829285  3.30384898  4.66754461] 102.56414353104933\n",
      "200 [56.378997    4.16057008  3.01743332  4.4720192 ] 41.548711803192845\n",
      "300 [57.26459504  4.55691864  2.76678068  4.32874777] 40.23998752885607\n",
      "400 [57.38204265  4.86995615  2.55464141  4.22991851] 40.06728083708515\n",
      "500 [57.3976185   5.11786016  2.37537845  4.16309678] 39.96815753149279\n",
      "600 [57.39968417  5.3146984   2.22408904  4.11913641] 39.904124302689326\n",
      "700 [57.39995811  5.47139959  2.09655113  4.09135178] 39.86223934950702\n"
     ]
    },
    {
     "name": "stdout",
     "output_type": "stream",
     "text": [
      "800 [57.39999445  5.59647283  1.98914268  4.07487761] 39.8346016355121\n",
      "900 [57.39999926  5.69655857  1.89876636  4.06619209] 39.816220804528655\n",
      "1000 [57.3999999   5.77685145  1.82278091  4.06276205] 39.8039098575215\n",
      "100 [49.68981967  4.90909159  3.67571294  3.00536925] 102.38268763819104\n",
      "200 [56.37747931  5.10718102  3.31567038  3.21825962] 41.356451016638225\n",
      "300 [57.26439376  5.26358182  3.00278045  3.37926262] 40.13783729304008\n",
      "400 [57.38201596  5.39687177  2.74186912  3.51050749] 40.015393759809086\n",
      "500 [57.39761496  5.51023383  2.52430312  3.61772301] 39.94298864666109\n",
      "600 [57.3996837   5.60644902  2.34285596  3.70545943] 39.892831729863744\n",
      "700 [57.39995805  5.68796404  2.1915121   3.77737181] 39.85792088949803\n",
      "800 [57.39999444  5.75691588  2.0652626   3.83640345] 39.83361096832446\n",
      "900 [57.39999926  5.81515985  1.95993554  3.88493009] 39.816678228227566\n",
      "1000 [57.3999999   5.86429858  1.87205528  3.92487372] 39.804881315934836\n",
      "100 [49.80212533  4.56253385  4.00247181  3.03373602] 100.81141428564561\n",
      "200 [56.39237324  4.82562826  3.58686994  3.22550124] 41.479594200245174\n",
      "300 [57.26636899  5.03692287  3.23056769  3.3754441 ] 40.24587978406028\n",
      "400 [57.38227791  5.21397886  2.93308908  3.49989032] 40.09155023073414\n",
      "500 [57.3976497   5.36231674  2.68474074  3.60325731] 39.99635156730787\n",
      "600 [57.3996883   5.48655434  2.47740256  3.68915846] 39.930186067355045\n",
      "700 [57.39995866  5.59057694  2.3042979   3.76057742] 39.88405062800775\n",
      "800 [57.39999452  5.67765103  2.15977103  3.81998034] 39.851878555678624\n",
      "900 [57.39999927  5.75052094  2.03910145  3.86940749] 39.82944339172102\n",
      "1000 [57.3999999   5.81149092  1.93834905  3.91054823] 39.813798105516575\n",
      "100 [49.75495695  5.76964302  2.70244974  3.1321559 ] 100.90295349053712\n",
      "200 [56.38611779  5.80603087  2.49931972  3.3458956 ] 41.02646301950956\n",
      "300 [57.26553939  5.83270509  2.31879051  3.50268559] 39.916668064052196\n",
      "400 [57.38216789  5.86122832  2.16897076  3.62626873] 39.85938842769518\n",
      "500 [57.39763511  5.88978775  2.04459578  3.72396123] 39.833069319558305\n",
      "600 [57.39968637  5.91721052  1.9412878   3.8013896 ] 39.81553514453444\n",
      "700 [57.39995841  5.94280436  1.85543565  3.86291831] 39.803651460833684\n",
      "800 [57.39999448  5.96620777  1.7840574   3.91194026] 39.79555749773071\n",
      "900 [57.39999927  5.98728212  1.72468832  3.95109904] 39.79002282127493\n",
      "1000 [57.3999999   6.00603472  1.6752893   3.98245919] 39.78622548405052\n",
      "100 [49.94111528  3.2990821   3.89827432  4.40211556] 99.15358773149421\n",
      "200 [56.41080602  3.87050321  3.51693545  4.25575665] 41.745260079994736\n",
      "300 [57.26881353  4.3133535   3.18371452  4.14972047] 40.42359394901794\n",
      "400 [57.38260211  4.66554385  2.9026631   4.08159064] 40.19684647395279\n",
      "500 [57.3976927   4.94639339  2.66589075  4.04011604] 40.05894071819562\n",
      "600 [57.39969401  5.17093216  2.46660481  4.01710451] 39.96766949242773\n",
      "700 [57.39995942  5.35090755  2.29900732  4.0066495 ] 39.906687825100455\n",
      "800 [57.39999462  5.49552369  2.15816192  4.00452311] 39.865674902826285\n",
      "900 [57.39999929  5.6120101   2.03987512  4.0077258 ] 39.83793376628858\n",
      "1000 [57.39999991  5.70605973  1.94059122  4.01415302] 39.8190765407544\n",
      "100 [49.98886412  2.87048236  4.98079972  3.73316034] 99.18791286891432\n",
      "200 [56.41713845  3.49471152  4.41803562  3.71757516] 42.291878503467316\n",
      "300 [57.26965334  3.98617175  3.93413587  3.7158199 ] 40.82504279160292\n",
      "400 [57.38271348  4.38224578  3.52776656  3.73095072] 40.48344714039179\n",
      "500 [57.39770747  4.70222177  3.18672834  3.75612394] 40.262496763419485\n",
      "600 [57.39969597  4.96130379  2.90066183  3.78659671] 40.11171870285217\n",
      "700 [57.39995968  5.17153487  2.6608139   3.81916822] 40.00833435254053\n",
      "800 [57.39999465  5.34247931  2.45979806  3.8517384 ] 39.937237099791744\n",
      "900 [57.39999929  5.48175282  2.29138798  3.88298533] 39.88822393384948\n",
      "1000 [57.39999991  5.59543524  2.15034044  3.91213063] 39.85436619336608\n",
      "100 [49.44683651  4.59044525  3.27736086  3.73766053] 106.18798521041313\n",
      "200 [56.34525499  4.88117733  2.98749032  3.77871263] 41.31316096706372\n",
      "300 [57.26012019  5.10662223  2.73366631  3.81033508] 40.058242565102866\n",
      "400 [57.3814492   5.28975237  2.52086778  3.84263987] 39.957902221900376\n",
      "500 [57.3975398   5.43883729  2.34256106  3.87408908] 39.90222681953652\n",
      "600 [57.39967373  5.56043828  2.19320603  3.90372291] 39.864033514651986\n",
      "700 [57.39995673  5.65980136  2.06813969  3.9310108 ] 39.83762649282001\n",
      "800 [57.39999426  5.74113174  1.9634406   3.95571403] 39.81933810405617\n",
      "900 [57.39999924  5.80780866  1.87581332  3.97778727] 39.80665644759329\n",
      "1000 [57.3999999   5.86255427  1.80249029  3.99730876] 39.7978535846518\n",
      "100 [49.60813772  4.22966228  4.56533849  2.79385657] 104.36664310948075\n",
      "200 [56.36664669  4.54711454  4.05736585  3.02714174] 41.8456237856968\n",
      "300 [57.26295714  4.80346826  3.62334287  3.21081005] 40.46394222281588\n",
      "400 [57.38182544  5.01836533  3.2609914   3.36316877] 40.24295012387475\n",
      "500 [57.3975897   5.19846579  2.95849323  3.48965735] 40.10191274804457\n",
      "600 [57.39968035  5.34935005  2.70595379  3.59472553] 40.003796188621024\n",
      "700 [57.39995761  5.47571702  2.49511609  3.68204395] 39.93538153478244\n",
      "800 [57.39999438  5.58152004  2.31908933  3.75464392] 39.887673857529414\n",
      "900 [57.39999925  5.6700826   2.17212249  3.81503118] 39.85440529723202\n",
      "1000 [57.3999999   5.74419678  2.04941551  3.8652789 ] 39.83120547706248\n",
      "100 [50.0113835   4.64924696  2.9749637   3.98716947] 97.06082019727174\n",
      "200 [56.42012496  4.93945182  2.73608266  3.97564183] 41.074632903415576\n",
      "300 [57.27004941  5.16246768  2.52483534  3.96643826] 39.99741990893501\n",
      "400 [57.38276601  5.34180227  2.34731796  3.96670656] 39.916074180522756\n",
      "500 [57.39771444  5.48638464  2.19826658  3.972952  ] 39.872346933923204\n",
      "600 [57.39969689  5.60322084  2.07318592  3.98270645] 39.842774159056894\n",
      "700 [57.3999598   5.69784753  1.96827292  3.99427373] 39.822560683201985\n",
      "800 [57.39999467  5.77465168  1.88031479  4.0065125 ] 39.80869514771548\n",
      "900 [57.39999929  5.83711845  1.80660073  4.01867706] 39.799156773916216\n",
      "1000 [57.39999991  5.88802381  1.744846    4.030301  ] 39.792579427589686\n",
      "100 [49.87672697  3.21108325  4.23950734  4.15710786] 100.32961201703094\n",
      "200 [56.40226687  3.78479625  3.79685782  4.05745352] 41.893423182433594\n",
      "300 [57.26768108  4.23531776  3.41645843  3.99160549] 40.52071193660911\n",
      "400 [57.38245192  4.59551462  3.09626847  3.95520238] 40.26765980116461\n",
      "500 [57.39767278  4.88424747  2.82699836  3.93883085] 40.110193867753\n",
      "600 [57.39969137  5.11627189  2.60071436  3.93573366] 40.004476660822405\n",
      "700 [57.39995907  5.30317867  2.41067694  3.9411182 ] 39.93296117547807\n",
      "800 [57.39999457  5.45409588  2.251172    3.95162324] 39.88434106019473\n",
      "900 [57.39999928  5.57623075  2.11736294  3.96492503] 39.8511464455964\n",
      "1000 [57.3999999   5.6752887   2.0051619   3.97944726] 39.82840176363711\n",
      "100 [49.72020303  3.49084104  3.47643175  4.63216888] 102.4037338208536\n",
      "200 [56.38150874  4.0371267   3.167076    4.44388248] 41.63809156436481\n",
      "300 [57.26492814  4.45615478  2.89212304  4.30258599] 40.30369731125204\n",
      "400 [57.38208683  4.78754732  2.65958529  4.20604964] 40.11049738740799\n",
      "500 [57.39762436  5.05035142  2.46322087  4.14164033] 39.99757136787535\n",
      "600 [57.39968494  5.25931     2.29759981  4.10006971] 39.924224656049475\n",
      "700 [57.39995822  5.42588961  2.15805571  4.07456352] 39.87602268797798\n",
      "800 [57.39999446  5.55902893  2.04059235  4.06020524] 39.84408077192399\n",
      "900 [57.39999927  5.66571244  1.94179769  4.05344735] 39.822755751214125\n",
      "1000 [57.3999999   5.75141091  1.85876589  4.05174817] 39.80842424003933\n",
      "100 [49.66719754  3.89430357  3.7741156   3.92110496] 103.0491180024762\n",
      "200 [56.37447917  4.33130739  3.40980632  3.90179749] 41.55447547642403\n",
      "300 [57.26399588  4.66889853  3.08969597  3.8881816 ] 40.26066681876804\n",
      "400 [57.38196319  4.9403877   2.82070819  3.88884133] 40.09477169566047\n",
      "500 [57.39760797  5.15927799  2.59485719  3.89849459] 39.994818597961334\n",
      "600 [57.39968277  5.33617092  2.40533015  3.9134173 ] 39.926973851806146\n",
      "700 [57.39995793  5.47944504  2.24636357  3.93105118] 39.88059283071276\n",
      "800 [57.39999442  5.59573948  2.11308863  3.94967572] 39.848775281466004\n",
      "900 [57.39999926  5.69032889  2.00139735  3.96816768] 39.8268861052165\n",
      "1000 [57.3999999   5.76741484  1.9078275   3.98582538] 39.81179132992023\n",
      "100 [49.9781132   3.75112348  4.34326597  3.49683392] 98.47636409418415\n",
      "200 [56.41571267  4.19391072  3.87991588  3.56215071] 41.7109028983169\n",
      "300 [57.26946425  4.54283066  3.48050813  3.61769535] 40.43386414194468\n",
      "400 [57.38268841  4.82657676  3.14574345  3.67287978] 40.21968440255716\n",
      "500 [57.39770414  5.05780353  2.86528998  3.7256239 ] 40.08370798992699\n",
      "600 [57.39969552  5.24658211  2.63041153  3.77469046] 39.989963737316295\n",
      "700 [57.39995962  5.40097551  2.43375828  3.81944989] 39.92508890156013\n",
      "800 [57.39999464  5.52745535  2.26915165  3.85968073] 39.88012882321623\n",
      "900 [57.39999929  5.63122876  2.13140115  3.89542746] 39.84893491691294\n",
      "1000 [57.39999991  5.71649546  2.01614906  3.92690014] 39.827271999082214\n",
      "100 [49.77619502  4.31367654  3.41717157  3.88725198] 100.98792328613054\n",
      "200 [56.38893437  4.66096378  3.1027276   3.88282612] 41.31203839932105\n",
      "300 [57.26591293  4.93377319  2.83161222  3.8844046 ] 40.1175010738787\n",
      "400 [57.38221743  5.15374598  2.60396187  3.89479927] 39.99817636615519\n",
      "500 [57.39764168  5.33154488  2.41293244  3.91033867] 39.92909722449816\n",
      "600 [57.39968724  5.47557711  2.25271147  3.92848574] 39.88207062220797\n",
      "700 [57.39995852  5.59250582  2.11838918  3.94753749] 39.84980628505704\n",
      "800 [57.3999945   5.68762578  2.00582339  3.96638518] 39.827605384118826\n",
      "900 [57.39999927  5.76515546  1.91152335  3.98433919] 39.81229309957859\n",
      "1000 [57.3999999   5.8284645   1.83255003  4.00100166] 39.801711302428984\n",
      "100 [49.86311614  3.77854753  3.50901789  4.32130794] 99.92767369565476\n",
      "200 [56.40046181  4.25192934  3.1876894   4.20725213] 41.477353915126464\n",
      "300 [57.26744169  4.61865051  2.90669617  4.12458664] 40.23350299984957\n",
      "400 [57.38242018  4.91052681  2.66977232  4.07219235] 40.07044676354335\n",
      "500 [57.39766857  5.14346292  2.47023333  4.04100462] 39.97443647211004\n",
      "600 [57.39969081  5.32983959  2.30232921  4.02443244] 39.91081107289021\n",
      "700 [57.39995899  5.47934064  2.16115594  4.01773338] 39.86821386389097\n",
      "800 [57.39999456  5.59955907  2.04254117  4.01752127] 39.83951322118934\n",
      "900 [57.39999928  5.69646349  1.94294258  4.02140122] 39.8200694026789\n",
      "1000 [57.3999999   5.77475763  1.85935824  4.02769953] 39.80683434644005\n",
      "100 [49.79711185  3.92462957  4.18092378  3.48307125] 101.14723391530997\n",
      "200 [56.39170835  4.33441255  3.74470961  3.55841151] 41.65114891629415\n",
      "300 [57.26628081  4.65593187  3.36694195  3.61950118] 40.35994164787242\n",
      "400 [57.38226622  4.91783453  3.0504072   3.67809972] 40.16844834004844\n"
     ]
    },
    {
     "name": "stdout",
     "output_type": "stream",
     "text": [
      "500 [57.39764815  5.13160597  2.78529999  3.73278101] 40.04848436108728\n",
      "600 [57.3996881   5.3064002   2.56332949  3.78277641] 39.96569351380682\n",
      "700 [57.39995864  5.44956196  2.37752524  3.82779222] 39.90833048431989\n",
      "800 [57.39999451  5.56699897  2.22203103  3.86784574] 39.86853680260295\n",
      "900 [57.39999927  5.66347452  2.09192983  3.90314934] 39.84090482361442\n",
      "1000 [57.3999999   5.7428381   1.98309545  3.93402955] 39.82170262096987\n",
      "100 [49.70230257  3.80225021  3.91266908  3.88451958] 102.58577634726453\n",
      "200 [56.37913479  4.25216254  3.52239589  3.86692147] 41.614789324855145\n",
      "300 [57.26461331  4.6035143   3.18382028  3.85820879] 40.30906856667058\n",
      "400 [57.38204508  4.8863284   2.89939553  3.86318005] 40.128415491421585\n",
      "500 [57.39761883  5.11454247  2.66063239  3.87658927] 40.01815297666194\n",
      "600 [57.39968421  5.29912092  2.46030678  3.89476569] 39.94317284544337\n",
      "700 [57.39995812  5.44873724  2.29231054  3.91520501] 39.891847666791705\n",
      "800 [57.39999445  5.57027077  2.15148604  3.93623891] 39.85660031246079\n",
      "900 [57.39999926  5.66919219  2.03348344  3.95679308] 39.83232957019874\n",
      "1000 [57.3999999   5.74986325  1.93463796  3.97621074] 39.815579795582494\n",
      "100 [49.74444519  4.12681118  3.88894439  3.58199781] 101.75716583693195\n",
      "200 [56.38472372  4.50037215  3.49918353  3.64123144] 41.508649376271606\n",
      "300 [57.26535451  4.79344488  3.16173189  3.68990775] 40.2509298197802\n",
      "400 [57.38214338  5.03186127  2.87891102  3.73783732] 40.09245916430535\n",
      "500 [57.39763186  5.22621882  2.64198921  3.78337723] 39.99560688604374\n",
      "600 [57.39968594  5.38495087  2.44357962  3.82556398] 39.928885314183965\n",
      "700 [57.39995835  5.51481245  2.27746863  3.86392713] 39.88269953452653\n",
      "800 [57.39999448  5.62122794  2.13843348  3.89832576] 39.85068406405242\n",
      "900 [57.39999927  5.70856383  2.0220872   3.92883216] 39.82846703900258\n",
      "1000 [57.3999999   5.78034344  1.92474705  3.95564985] 39.81303577136687\n",
      "100 [49.70467699  4.96336419  2.93995377  3.70451138] 101.78645959223914\n",
      "200 [56.37944968  5.18072226  2.70421557  3.76570755] 41.102926792195795\n",
      "300 [57.26465507  5.34751577  2.49566331  3.81023811] 39.96382238857119\n",
      "400 [57.38205062  5.4839441   2.32102493  3.85067129] 39.89405423136738\n",
      "500 [57.39761956  5.59574647  2.17485337  3.88691109] 39.85834971652636\n",
      "600 [57.39968431  5.6875079   2.05253612  3.91903993] 39.83379479201484\n",
      "700 [57.39995813  5.76292823  1.95020106  3.9472765 ] 39.81674315655665\n",
      "800 [57.39999445  5.82499989  1.86459946  3.97191649] 39.804890686505004\n",
      "900 [57.39999926  5.87614857  1.79300686  3.99329208] 39.79664712339443\n",
      "1000 [57.3999999   5.91834468  1.73313948  4.01174488] 39.79091078479759\n",
      "100 [49.81561558  3.64277617  3.80204673  4.15170169] 100.8393556198491\n",
      "200 [56.39416231  4.1371402   3.43410946  4.07212432] 41.60792328352415\n",
      "300 [57.26660625  4.52003556  3.11205739  4.01496169] 40.31768831380217\n",
      "400 [57.38230938  4.82609151  2.84094388  3.98306634] 40.13017526680557\n",
      "500 [57.39765388  5.07138167  2.61293318  3.96840101] 40.01675576679188\n",
      "600 [57.39968886  5.26846164  2.42131272  3.96517725] 39.9407035816199\n",
      "700 [57.39995874  5.42719229  2.26037946  3.96928666] 39.88927619751884\n",
      "800 [57.39999453  5.55533792  2.12529745  3.97784534] 39.85432435939093\n",
      "900 [57.39999927  5.65902784  2.01197295  3.98885727] 39.83046811646133\n",
      "1000 [57.3999999   5.74311329  1.91694563  4.00096637] 39.81412582530273\n",
      "100 [49.77399959  4.02435777  3.66416208  3.91200865] 101.23581031179243\n",
      "200 [56.38864321  4.43299911  3.31460407  3.89643549] 41.454608883305475\n",
      "300 [57.26587431  4.75062654  3.00968734  3.88739824] 40.21314657223443\n",
      "400 [57.38221231  5.00623735  2.75351905  3.89097871] 40.06295922668626\n",
      "500 [57.397641    5.21245888  2.53846572  3.90238376] 39.97318954951232\n",
      "600 [57.39968715  5.37921779  2.35802523  3.91825131] 39.912202798376406\n",
      "700 [57.39995851  5.51436493  2.20669916  3.93628366] 39.87046934724689\n",
      "800 [57.3999945   5.62412576  2.07984423  3.95494659] 39.841816243774204\n",
      "900 [57.39999927  5.71344984  1.97354403  3.97324871] 39.822090324604865\n",
      "1000 [57.3999999   5.7862826   1.88449866  3.99058062] 39.80847941008777\n",
      "100 [49.85553402  4.45052294  3.20402294  3.94644298] 99.61675239589033\n",
      "200 [56.39945627  4.77953299  2.9300871   3.93909753] 41.207289770264104\n",
      "300 [57.26730834  5.03191059  2.68731965  3.93245849] 40.05980357649124\n",
      "400 [57.38240249  5.23502353  2.48335843  3.93571556] 39.95841319374016\n",
      "500 [57.39766623  5.39890937  2.31213758  3.94510064] 39.90149134302983\n",
      "600 [57.3996905   5.53144845  2.16847824  3.95796226] 39.86288680763818\n",
      "700 [57.39995895  5.63887392  2.04800123  3.97249011] 39.83646644059325\n",
      "800 [57.39999456  5.72612913  1.9470087   3.98747697] 39.81832434473816\n",
      "900 [57.39999928  5.79714477  1.86238181  4.00214427] 39.80583312571512\n",
      "1000 [57.3999999   5.85505451  1.79149282  4.01601491] 39.79721330793805\n",
      "100 [49.98750688  4.26406376  3.14114345  4.20093693] 97.62969746945889\n",
      "200 [56.41695845  4.6397438   2.87927235  4.1311286 ] 41.20797735666213\n",
      "300 [57.26962947  4.92786469  2.6468603   4.07806004] 40.07862675203948\n",
      "400 [57.38271032  5.15770422  2.4510627   4.04618109] 39.96843252682268\n",
      "500 [57.39770705  5.34155333  2.286292    4.02896353] 39.90647494118272\n",
      "600 [57.39969591  5.48898771  2.14774229  4.02167424] 39.86521959656533\n",
      "700 [57.39995967  5.60751352  2.03132363  4.02093059] 39.83744394378805\n",
      "800 [57.39999465  5.70302951  1.93356291  4.02433752] 39.81863708276993\n",
      "900 [57.39999929  5.78018305  1.85151631  4.03021885] 39.805841584443264\n",
      "1000 [57.39999991  5.84264518  1.78269273  4.03741897] 39.79710009053821\n",
      "100 [49.7221133   4.33214267  3.32070791  3.9433489 ] 101.8128048838688\n",
      "200 [56.38176208  4.68491915  3.02899612  3.93360636] 41.299119258220784\n",
      "300 [57.26496174  4.95539365  2.77030969  3.9249792 ] 40.097504733960896\n",
      "400 [57.38209129  5.17300265  2.55295578  3.92728608] 39.9836611215409\n",
      "500 [57.39762495  5.34853168  2.37047868  3.93641528] 39.91875035454106\n",
      "600 [57.39968502  5.49044537  2.21736496  3.94946847] 39.87472926256104\n",
      "700 [57.39995823  5.60543681  2.08895169  3.96446177] 39.84461519348592\n",
      "800 [57.39999446  5.69881228  1.98130076  3.98006758] 39.8239446626239\n",
      "900 [57.39999927  5.77478963  1.89109019  3.99542535] 39.80971713786173\n",
      "1000 [57.3999999   5.83673034  1.81552076  4.01000341] 39.79990178061453\n",
      "100 [49.82333337  4.31123743  3.2901297   4.00552596] 100.20475360971045\n",
      "200 [56.39518584  4.66803577  3.00117267  3.97886674] 41.26921258829986\n",
      "300 [57.26674199  4.94381194  2.74745893  3.95982873] 40.09471696504069\n",
      "400 [57.38232738  5.16523549  2.53417012  3.95417417] 39.981399503853204\n",
      "500 [57.39765627  5.3434811   2.35501468  3.95720009] 39.91680660135686\n",
      "600 [57.39968917  5.4873099   2.20461976  3.96556746] 39.87316218137237\n",
      "700 [57.39995878  5.60363418  2.07843541  3.97695746] 39.843402083135565\n",
      "800 [57.39999453  5.69792183  1.97261452  3.98978771] 39.823030330637266\n",
      "900 [57.39999927  5.77450955  1.88390861  4.00300365] 39.80904067354127\n",
      "1000 [57.3999999   5.83684585  1.80957792  4.01592578] 39.79940796569456\n",
      "100 [49.61735041  4.6588066   2.71828414  4.24091044] 103.23427442765862\n",
      "200 [56.36786847  4.95787573  2.52276224  4.17389704] 41.14240966193127\n",
      "300 [57.26311917  5.18624618  2.34799882  4.12223706] 39.966713160384685\n",
      "400 [57.38184693  5.36798771  2.20062911  4.08945578] 39.89133260282536\n",
      "500 [57.39759255  5.51302205  2.07651102  4.06991321] 39.8539227613708\n",
      "600 [57.39968072  5.62906124  1.97206895  4.05949774] 39.82927344074668\n",
      "700 [57.39995766  5.72213705  1.88425314  4.05525052] 39.81277526039263\n",
      "800 [57.39999438  5.79697876  1.81046876  4.05505855] 39.80166058677879\n",
      "900 [57.39999926  5.85730368  1.74851272  4.05742711] 39.794131456024566\n",
      "1000 [57.3999999   5.90604123  1.69651794  4.0613113 ] 39.78900693619585\n",
      "100 [49.64760279  4.72641337  3.3446076   3.52347972] 102.90093228748131\n",
      "200 [56.37188052  4.98374621  3.04412332  3.61812961] 41.25582573167802\n",
      "300 [57.26365125  5.18208488  2.77937875  3.68810168] 40.05961246347434\n",
      "400 [57.38191749  5.34508173  2.55784339  3.74950341] 39.960741409694144\n",
      "500 [57.39760191  5.47924658  2.37253568  3.80305016] 39.90489707499184\n",
      "600 [57.39968197  5.58981493  2.21755662  3.84947834] 39.866281219933526\n",
      "700 [57.39995782  5.68104041  2.08796137  3.88954043] 39.83941293505232\n",
      "800 [57.39999441  5.75638595  1.9796066   3.92396858] 39.82070833244106\n",
      "900 [57.39999926  5.81867616  1.88902177  3.95345242] 39.80768270198299\n",
      "1000 [57.3999999   5.87021917  1.81330072  3.9786268 ] 39.798609437561375\n",
      "100 [49.64983652  4.20562592  4.01107043  3.38826781] 103.31239495985623\n",
      "200 [56.37217676  4.55252129  3.59680353  3.4897015 ] 41.56616590514763\n",
      "300 [57.26369054  4.82865173  3.24194586  3.57304673] 40.27524524619909\n",
      "400 [57.3819227   5.05498035  2.944918    3.64755113] 40.11043203429118\n",
      "500 [57.3976026   5.24079018  2.69637314  3.71348527] 40.00889369953315\n",
      "600 [57.39968206  5.39354996  2.48843895  3.7713476 ] 39.938582165709796\n",
      "700 [57.39995783  5.51930295  2.31451102  3.82177954] 39.88970681962185\n",
      "800 [57.39999441  5.62294982  2.16905124  3.86548656] 39.85570995963527\n",
      "900 [57.39999926  5.708473    2.04741763  3.90318576] 39.83205106959362\n",
      "1000 [57.3999999   5.77911523  1.94572073  3.93557249] 39.81558013364334\n",
      "100 [50.06161133  3.0061653   3.61865093  4.96986706] 97.53732630132362\n",
      "200 [56.42678615  3.6628876   3.2916684   4.69311483] 41.82921033141919\n",
      "300 [57.27093281  4.1656908   2.99961226  4.48507754] 40.475769897566366\n",
      "400 [57.38288317  4.56160862  2.75194092  4.33911631] 40.21739207518136\n",
      "500 [57.39772997  4.87420384  2.54230034  4.23819208] 40.06405310849741\n",
      "600 [57.39969895  5.12165703  2.36511139  4.16971574] 39.96599464412246\n",
      "700 [57.39996007  5.31805733  2.2155444   4.12444508] 39.90254231779514\n",
      "800 [57.39999471  5.47434647  2.08943767  4.09562009] 39.86109209187581\n",
      "900 [57.3999993   5.59904067  1.98321893  4.07831775] 39.83377651373739\n",
      "1000 [57.39999991  5.69878357  1.89383202  4.06897122] 39.81563114800076\n",
      "100 [49.94358946  4.41179137  3.44811324  3.74274012] 98.33539694194825\n",
      "200 [56.41113415  4.73762032  3.1311615   3.7769013 ] 41.252925642708846\n",
      "300 [57.26885705  4.9908131   2.85428128  3.80408662] 40.11030891961051\n",
      "400 [57.38260788  5.19611155  2.62207148  3.83385142] 39.99519414717854\n",
      "500 [57.39769346  5.36295305  2.42743663  3.86405856] 39.927868551774125\n",
      "600 [57.39969411  5.49881254  2.26435722  3.89331779] 39.881691992254915\n",
      "700 [57.39995943  5.60965324  2.12776274  3.92079234] 39.84981386674269\n",
      "800 [57.39999462  5.70024468  2.01338607  3.94602796] 39.827765009986855\n",
      "900 [57.39999929  5.77441138  1.91763904  3.96882959] 39.812492114534976\n",
      "1000 [57.39999991  5.83522767  1.83750657  3.98917329] 39.801899919859125\n",
      "100 [49.54496736  4.0244533   4.18922479  3.3753387 ] 105.17522767854737\n",
      "200 [56.35826906  4.4097667   3.75016923  3.47719026] 41.704633987023264\n"
     ]
    },
    {
     "name": "stdout",
     "output_type": "stream",
     "text": [
      "300 [57.26184611  4.71301983  3.37059011  3.55846177] 40.350543508744494\n",
      "400 [57.38167809  4.96110701  3.05276763  3.63224343] 40.16207755842051\n",
      "500 [57.39757016  5.1644249   2.78675398  3.69834409] 40.04461554087321\n",
      "600 [57.39967776  5.33130627  2.56415385  3.756926  ] 39.963329903804905\n",
      "700 [57.39995726  5.46847578  2.37791979  3.80839645] 39.90687231506072\n",
      "800 [57.39999433  5.58137284  2.222139    3.85330057] 39.8676279575636\n",
      "900 [57.39999925  5.67440696  2.09185302  3.8922481 ] 39.84033240823321\n",
      "1000 [57.3999999   5.75116034  1.98290544  3.92586472] 39.82133831405382\n",
      "100 [49.7213168   5.02893833  2.16255063  4.42949534] 101.37734635939832\n",
      "200 [56.38165644  5.2659717   2.05954202  4.33513263] 40.98635260965033\n",
      "300 [57.26494773  5.44188284  1.96091161  4.25881451] 39.878667649027335\n",
      "400 [57.38208943  5.58021977  1.87717975  4.20496306] 39.83072315561708\n",
      "500 [57.39762471  5.68931462  1.80625326  4.16746734] 39.811910967366586\n",
      "600 [57.39968499  5.77557269  1.74626736  4.14178979] 39.800117287613055\n",
      "700 [57.39995822  5.84395317  1.69560392  4.12459414] 39.79252296288914\n",
      "800 [57.39999446  5.89830361  1.65286585  4.11343588] 39.78758283188403\n",
      "900 [57.39999927  5.94161565  1.61685189  4.10653111] 39.78433991994054\n",
      "1000 [57.3999999   5.97622066  1.5865329   4.10258419] 39.78219328552141\n",
      "100 [49.93411272  5.31259647  2.70900271  3.58689011] 98.04996553503372\n",
      "200 [56.40987734  5.457394    2.50938151  3.68581098] 40.96077904420884\n",
      "300 [57.26869037  5.56695773  2.3311504   3.75701321] 39.908862053121695\n",
      "400 [57.38258578  5.65845004  2.18227711  3.81639573] 39.85697968888233\n",
      "500 [57.39769053  5.73488065  2.05795765  3.86595549] 39.83278762646928\n",
      "600 [57.39969372  5.79872705  1.95414212  3.90731986] 39.81612736309712\n",
      "700 [57.39995938  5.85205962  1.86744856  3.9418459 ] 39.80451248058654\n",
      "800 [57.39999461  5.89660851  1.79505291  3.97066552] 39.79641251804948\n",
      "900 [57.39999929  5.93381945  1.73459696  3.9947229 ] 39.79076373797863\n",
      "1000 [57.39999991  5.96490045  1.68411147  4.01480576] 39.78682437086333\n",
      "100 [49.83489389  4.81067138  3.09855697  3.69964764] 99.79985836843524\n",
      "200 [56.39671899  5.05658653  2.83649925  3.75597496] 41.1232775043005\n",
      "300 [57.26694532  5.2470028   2.60662185  3.79843965] 40.00221088821333\n",
      "400 [57.38235435  5.40238432  2.41405659  3.83805344] 39.920952670937595\n",
      "500 [57.39765984  5.52942888  2.25282311  3.87428977] 39.87694079975951\n",
      "600 [57.39968965  5.63347764  2.11785892  3.90692887] 39.84666055358424\n",
      "700 [57.39995884  5.71882635  2.0049106   3.93597837] 39.82565900150263\n",
      "800 [57.39999454  5.78893839  1.91040682  3.96158881] 39.811076332018544\n",
      "900 [57.39999928  5.84661252  1.83135059  3.9839946 ] 39.80094264198348\n",
      "1000 [57.3999999   5.89411551  1.76522815  4.00347339] 39.79389604026649\n",
      "100 [49.84090136  4.69293425  3.67683449  3.22905749] 99.98775142585384\n",
      "200 [56.39751569  4.940832    3.3169943   3.38400229] 41.3210175602796\n",
      "300 [57.26705098  5.1369367   3.00579304  3.50338952] 40.14264184828484\n",
      "400 [57.38236836  5.30036699  2.7458278   3.6034035 ] 40.01970183144513\n",
      "500 [57.3976617   5.43662019  2.52869664  3.68718796] 39.94625892855149\n",
      "600 [57.3996899   5.55023383  2.34734483  3.7573545 ] 39.89525856475579\n",
      "700 [57.39995887  5.64498332  2.19587873  3.8160999 ] 39.859696305300574\n",
      "800 [57.39999455  5.72401115  2.06937499  3.8652707 ] 39.834896262247824\n",
      "900 [57.39999928  5.78993377  1.96372092  3.90641804] 39.81760136053858\n",
      "1000 [57.3999999   5.84493031  1.87548112  3.94084408] 39.8055403149726\n",
      "100 [49.59398363  4.07457429  2.79981341  4.73390668] 103.95080211365807\n",
      "200 [56.36476958  4.51215081  2.59998237  4.54303401] 41.34867678231819\n",
      "300 [57.2627082   4.84355988  2.417098    4.39618181] 40.08615424213746\n",
      "400 [57.38179242  5.10406868  2.26180311  4.29234842] 39.96325819660557\n",
      "500 [57.39758532  5.30940129  2.13021246  4.21984186] 39.89766565033987\n",
      "600 [57.39967977  5.47166463  2.01888616  4.16999904] 39.85613376775974\n",
      "700 [57.39995753  5.60022838  1.92483598  4.13644639] 39.829436013779734\n",
      "800 [57.39999437  5.70235888  1.84547944  4.11451044] 39.81210267830514\n",
      "900 [57.39999925  5.78370338  1.77859431  4.10077765] 39.80074492198614\n",
      "1000 [57.3999999   5.84866072  1.72227539  4.0927662 ] 39.79323911968423\n",
      "100 [49.80684358  2.91787914  4.85739291  3.81137215] 101.92745429722277\n",
      "200 [56.39299897  3.53632479  4.31519702  3.78027671] 42.26706578859958\n",
      "300 [57.26645197  4.02254163  3.84850788  3.76629864] 40.77248164301544\n",
      "400 [57.38228892  4.41383864  3.4564493   3.77168616] 40.44547947470504\n",
      "500 [57.39765116  4.72952486  3.12731506  3.7890722 ] 40.23560229951355\n",
      "600 [57.3996885   4.98479799  2.85115419  3.81330531] 40.09273211609764\n",
      "700 [57.39995869  5.19167752  2.6195518   3.84086464] 39.994962362749774\n",
      "800 [57.39999452  5.35969439  2.42540171  3.86939882] 39.9278372289089\n",
      "900 [57.39999927  5.49642608  2.26271006  3.89738811] 39.881626306914995\n",
      "1000 [57.3999999   5.6079127   2.12642655  3.923898  ] 39.849741075004964\n",
      "100 [50.04310649  3.5778076   2.74472996  5.29015472] 97.29908718023192\n",
      "200 [56.42433205  4.13634627  2.55974356  4.9613393 ] 41.47465060965514\n",
      "300 [57.27060735  4.55944258  2.38812597  4.71095442] 40.22718442298826\n",
      "400 [57.38284     4.88920364  2.24110062  4.52916951] 40.04514584506371\n",
      "500 [57.39772425  5.14685334  2.11555608  4.39797837] 39.944596700131555\n",
      "600 [57.39969819  5.34864918  2.00863078  4.3039619 ] 39.88306628481557\n",
      "700 [57.39995997  5.50709264  1.91776734  4.23716352] 39.84492455162601\n",
      "800 [57.39999469  5.63181341  1.8407038   4.19021062] 39.82103262778689\n",
      "900 [57.3999993   5.7302424   1.77545598  4.15765651] 39.80590914279887\n",
      "1000 [57.39999991  5.80812475  1.72029515  4.13548795] 39.796236355166876\n",
      "100 [49.42860696  3.96021112  4.6641541   2.96290574] 107.43298483103042\n",
      "200 [56.3428374   4.33783256  4.14261024  3.150702  ] 41.98020603995615\n",
      "300 [57.25979956  4.64032144  3.69634295  3.30048244] 40.522205549041544\n",
      "400 [57.38140668  4.8908831   3.32331915  3.42786763] 40.28275723548701\n",
      "500 [57.39753416  5.09860984  3.01157231  3.53600889] 40.12954612350609\n",
      "600 [57.39967298  5.27093872  2.75105587  3.62764577] 40.02300083701356\n",
      "700 [57.39995663  5.41398838  2.53336557  3.70517279] 39.94873691225749\n",
      "800 [57.39999425  5.53279916  2.35147221  3.77067015] 39.89696630082606\n",
      "900 [57.39999924  5.63152806  2.19949764  3.82593574] 39.86087354871388\n",
      "1000 [57.3999999   5.71360716  2.07252689  3.87251671] 39.835709428731136\n",
      "100 [49.65294507  4.10081165  3.21914232  4.28286133] 103.01402519566759\n",
      "200 [56.37258902  4.51260446  2.94649399  4.19050124] 41.36590406339323\n",
      "300 [57.26374521  4.8280479   2.7039899   4.12025659] 40.121706368143755\n",
      "400 [57.38192995  5.07913734  2.49951802  4.07585041] 39.99514001235579\n",
      "500 [57.39760356  5.27955288  2.32731962  4.04954252] 39.923816520994535\n",
      "600 [57.39968218  5.43993289  2.18242851  4.03569547] 39.87659464551736\n",
      "700 [57.39995785  5.56859948  2.06060972  4.03025454] 39.844968552922964\n",
      "800 [57.39999441  5.67207889  1.95826064  4.03032603] 39.82365270891936\n",
      "900 [57.39999926  5.75550194  1.87232297  4.0338646 ] 39.80920762839641\n",
      "1000 [57.3999999   5.82291271  1.80020523  4.03944198] 39.79937264265513\n",
      "100 [49.7895993   3.48760129  3.71307355  4.40757031] 101.34032381568811\n",
      "200 [56.39071204  4.02087479  3.35962212  4.26460499] 41.66084005071254\n",
      "300 [57.26614868  4.43496769  3.05172031  4.16170121] 40.339917660715734\n",
      "400 [57.3822487   4.76412254  2.79197069  4.0950613 ] 40.140049691548235\n",
      "500 [57.39764583  5.02646917  2.57310179  4.05397765] 40.02049190580348\n",
      "600 [57.39968779  5.23610944  2.38885318  4.03064943] 39.94152005544485\n",
      "700 [57.39995859  5.40406014  2.23387828  4.01944511] 39.88882907797925\n",
      "800 [57.39999451  5.53894886  2.10362297  4.01632753] 39.853434966172244\n",
      "900 [57.39999927  5.64754887  1.99421681  4.018427  ] 39.82951968993738\n",
      "1000 [57.3999999   5.73519121  1.90237695  4.02372527] 39.81327793858523\n",
      "100 [49.94756616  4.84393345  3.27977636  3.4728137 ] 98.1046930316443\n",
      "200 [56.41166153  5.07578767  2.98868336  3.58202987] 41.14025657921728\n",
      "300 [57.26892699  5.25465685  2.73241094  3.66294154] 40.03626955407771\n",
      "400 [57.38261716  5.40245246  2.51811668  3.73225214] 39.94573021678523\n",
      "500 [57.39769469  5.52471902  2.33898011  3.79147783] 39.89459899954197\n",
      "600 [57.39969427  5.62595134  2.18924809  3.84195067] 39.85918670782375\n",
      "700 [57.39995945  5.70983273  2.06410514  3.88486445] 39.834514712874544\n",
      "800 [57.39999462  5.77938626  1.95952163  3.92127754] 39.8173204434697\n",
      "900 [57.39999929  5.83709665  1.87212623  3.95212014] 39.8053359818272\n",
      "1000 [57.39999991  5.88500883  1.79909886  3.97820392] 39.79698192915815\n",
      "100 [49.67826302  3.83458777  4.14960721  3.60766318] 103.06359056983422\n",
      "200 [56.37594667  4.26678023  3.71918489  3.65227656] 41.6942904853759\n",
      "300 [57.2641905   4.60563517  3.34658835  3.69069422] 40.36493121980069\n",
      "400 [57.381989    4.88049408  3.03413677  3.73213216] 40.170152598301065\n",
      "500 [57.39761139  5.10393737  2.77226046  3.77381732] 40.04888369064511\n",
      "600 [57.39968322  5.28594327  2.55285319  3.81396572] 39.96552744586724\n",
      "700 [57.39995799  5.43447524  2.36908781  3.85151666] 39.907962145530746\n",
      "800 [57.39999443  5.55590526  2.21521961  3.88590791] 39.8681364462631\n",
      "900 [57.39999926  5.65534477  2.08641851  3.91691384] 39.8405440952636\n",
      "1000 [57.3999999   5.7369042   1.97862629  3.94452988] 39.82140473193995\n",
      "100 [49.75708378  4.12750102  3.42183808  4.04803633] 101.37750416982922\n",
      "200 [56.38639984  4.52412333  3.11457138  4.00814682] 41.367965760796345\n",
      "300 [57.2655768   4.82912339  2.84302026  3.97791119] 40.148239667540324\n",
      "400 [57.38217285  5.0735938   2.61461743  3.96446808] 40.01691721227134\n",
      "500 [57.39763577  5.27006783  2.42268164  3.96217326] 39.94067024855542\n",
      "600 [57.39968646  5.42835183  2.26149429  3.96698939] 39.88929175416309\n",
      "700 [57.39995842  5.55616922  2.12620709  3.97608621] 39.85435939652339\n",
      "800 [57.39999449  5.65961877  2.01271648  3.98750832] 39.83050633206243\n",
      "900 [57.39999927  5.74352892  1.91755441  3.99993039] 39.81416030736736\n",
      "1000 [57.3999999   5.81173243  1.83779359  4.01247758] 39.802924900404456\n",
      "100 [49.74085124  3.27900291  4.08435619  4.24387778] 102.37343917390412\n",
      "200 [56.38424709  3.84420323  3.66833721  4.12836961] 41.85621021856214\n",
      "300 [57.2652913   4.28640486  3.30936377  4.04911564] 40.467800994123095\n",
      "400 [57.38213499  4.63928843  3.00700747  4.00193687] 40.22958301501265\n",
      "500 [57.39763075  4.92164039  2.7525875   3.97688472] 40.0832193558264\n",
      "600 [57.39968579  5.14812992  2.53867263  3.96677816] 39.985430589198174\n",
      "700 [57.39995833  5.33025908  2.35894038  3.96648996] 39.91954559700143\n",
      "800 [57.39999447  5.47706935  2.20802297  3.97239397] 39.87490959483243\n",
      "900 [57.39999927  5.5956862   2.08137155  3.98195615] 39.844526105364885\n",
      "1000 [57.3999999   5.6917397   1.97513744  3.99343287] 39.82376041911943\n",
      "100 [49.92454977  4.09982113  4.27687867  3.20544673] 99.15004278403389\n"
     ]
    },
    {
     "name": "stdout",
     "output_type": "stream",
     "text": [
      "200 [56.40860911  4.46431164  3.8232679   3.34812061] 41.62433289226823\n",
      "300 [57.26852218  4.75118332  3.430487    3.45927495] 40.36865226574404\n",
      "400 [57.38256347  4.98740559  3.1019187   3.55589098] 40.176926661971784\n",
      "500 [57.39768758  5.18218692  2.8271451   3.63946555] 40.055531105350646\n",
      "600 [57.39969333  5.3429735   2.59739078  3.71143757] 39.97124811565527\n",
      "700 [57.39995933  5.47583272  2.40530379  3.77318379] 39.91256792734976\n",
      "800 [57.39999461  5.58571782  2.24472684  3.82598603] 39.87169860892273\n",
      "900 [57.39999928  5.67667954  2.11050465  3.87101432] 39.843227252167274\n",
      "1000 [57.39999991  5.75203611  1.998322    3.90932081] 39.82338897177366\n",
      "100 [49.79156034  4.2862935   4.34423333  2.95361581] 101.24981156559909\n",
      "200 [56.39097211  4.60220934  3.87582515  3.15624287] 41.6711099918465\n",
      "300 [57.26618317  4.85370452  3.47240436  3.31372328] 40.37747991436542\n",
      "400 [57.38225327  5.06349799  3.13543921  3.44541315] 40.183313670955144\n",
      "500 [57.39764644  5.23855334  2.85401894  3.55555174] 40.0603582540042\n",
      "600 [57.39968787  5.38463416  2.61898953  3.64765243] 39.97483065436666\n",
      "700 [57.39995861  5.50654485  2.42270501  3.72465911] 39.91518922990815\n",
      "800 [57.39999451  5.60829104  2.25877926  3.78903776] 39.87359649445918\n",
      "900 [57.39999927  5.69321295  2.1218785   3.84285337] 39.84459048491134\n",
      "1000 [57.3999999   5.76409627  2.00754794  3.88783472] 39.82436221319843\n",
      "100 [49.7566107   4.57186426  3.52884539  3.50279601] 101.26480638199978\n",
      "200 [56.38633711  4.85506068  3.19538082  3.59371558] 41.302694957599144\n",
      "300 [57.26556848  5.07723505  2.90609187  3.66465092] 40.11278185079487\n",
      "400 [57.38217175  5.25950099  2.66396936  3.72761894] 39.99795567792692\n",
      "500 [57.39763563  5.40927018  2.46139351  3.78304021] 39.93072396717052\n",
      "600 [57.39968644  5.53250237  2.29193665  3.83146081] 39.884217476248494\n",
      "700 [57.39995842  5.63402652  2.1502079   3.87350864] 39.851878713196655\n",
      "800 [57.39999449  5.71776375  2.03168798  3.9098377 ] 39.82937751503171\n",
      "900 [57.39999927  5.78690452  1.93258975  3.94109187] 39.813714671572356\n",
      "1000 [57.3999999   5.84404983  1.84974072  3.96788251] 39.80280820714288\n",
      "100 [49.59738819  4.08306338  4.69415314  2.80583021] 104.66487811659226\n",
      "200 [56.36522109  4.43069599  4.16690143  3.03274815] 41.934853056305414\n",
      "300 [57.26276808  4.70987414  3.71538429  3.21128422] 40.524160825022335\n",
      "400 [57.38180036  4.94293589  3.33828042  3.36039001] 40.28495347938626\n",
      "500 [57.39758637  5.13753328  3.02335778  3.48494373] 40.13122989535897\n",
      "600 [57.39967991  5.30001708  2.76036372  3.58898532] 40.0242558763213\n",
      "700 [57.39995755  5.43568879  2.54073588  3.67589059] 39.949657969643354\n",
      "800 [57.39999437  5.5489742   2.35732362  3.74848032] 39.897634660540945\n",
      "900 [57.39999925  5.64356822  2.20415536  3.80911139] 39.861354441637246\n",
      "1000 [57.3999999   5.72255564  2.07624408  3.85975294] 39.83605319912099\n",
      "100 [49.89123323  5.16592845  2.91097751  3.53436281] 98.79728236608838\n",
      "200 [56.40419069  5.33528115  2.67683829  3.63831659] 41.027728000137685\n",
      "300 [57.26793621  5.46637258  2.4712053   3.71572318] 39.947547220099025\n",
      "400 [57.38248576  5.5755039   2.29940027  3.78069141] 39.88381168131015\n",
      "500 [57.39767727  5.66640575  2.15589027  3.83521695] 39.85149404281053\n",
      "600 [57.39969196  5.74214175  2.03601836  3.88095524] 39.829170992658895\n",
      "700 [57.39995915  5.8052561   1.93589326  3.91930504] 39.8136078288791\n",
      "800 [57.39999458  5.85786276  1.8522637   3.95144684] 39.80275486077379\n",
      "900 [57.39999928  5.90171909  1.78241333  3.9783758 ] 39.79518644109553\n",
      "1000 [57.3999999   5.93828657  1.72407278  4.00092999] 39.78990849712478\n",
      "100 [49.70164014  4.06391837  3.03708908  4.51255791] 102.22997573408792\n",
      "200 [56.37904693  4.49106162  2.79410472  4.36700105] 41.3411472520104\n",
      "300 [57.26460166  4.81862267  2.57805951  4.25767703] 40.10767846240514\n",
      "400 [57.38204353  5.07772794  2.39536142  4.18309677] 39.98204100637594\n",
      "500 [57.39761862  5.28324656  2.24109823  4.13344042] 39.91270657720522\n",
      "600 [57.39968418  5.44668891  2.11099777  4.10148949] 39.8677230205397\n",
      "700 [57.39995812  5.57700888  2.00138967  4.0819811 ] 39.838143098320245\n",
      "800 [57.39999445  5.68118764  1.90913146  4.07109717] 39.81852993834044\n",
      "900 [57.39999926  5.76468109  1.83154056  4.0660841 ] 39.8054289443824\n",
      "1000 [57.3999999   5.83176349  1.76633282  4.06497019] 39.796620317753025\n",
      "100 [49.76557412  4.98281558  2.35354786  4.28147427] 100.69469284362131\n",
      "200 [56.38752583  5.22220042  2.21828819  4.21779255] 40.9930126445429\n",
      "300 [57.26572613  5.40131248  2.09285376  4.1654956 ] 39.89347727415081\n",
      "400 [57.38219266  5.54331137  1.98689194  4.1305538 ] 39.84218137387055\n",
      "500 [57.3976384   5.65620991  1.89751753  4.10798256] 39.82046222818674\n",
      "600 [57.39968681  5.74620646  1.82221349  4.09411491] 39.80639782690518\n",
      "700 [57.39995846  5.81813255  1.75882398  4.08628908] 39.79708301848304\n",
      "800 [57.39999449  5.87576327  1.70550821  4.08258423] 39.79086527782415\n",
      "900 [57.39999927  5.92205537  1.66069839  4.08162388] 39.786687192161715\n",
      "1000 [57.3999999   5.95933045  1.6230623   4.08243016] 39.783863274457204\n",
      "100 [49.86156236  4.33090414  3.65967811  3.60448121] 99.7299467971613\n",
      "200 [56.40025575  4.66745388  3.30849444  3.66716967] 41.356154845883694\n",
      "300 [57.26741436  4.92931095  3.00192165  3.71583858] 40.1678824323812\n",
      "400 [57.38241655  5.1425574   2.74502324  3.76270686] 40.03558446926948\n",
      "500 [57.39766809  5.3165764   2.52985525  3.80656895] 39.9563204706696\n",
      "600 [57.39969074  5.458837    2.34969218  3.84675792] 39.90169808241747\n",
      "700 [57.39995899  5.57533016  2.19887907  3.88300298] 39.86385912462996\n",
      "800 [57.39999456  5.67087331  2.07266455  3.91529381] 39.837612979086515\n",
      "900 [57.39999928  5.74934956  1.96705899  3.94378444] 39.81939006264753\n",
      "1000 [57.3999999   5.81389619  1.87871418  3.96872615] 39.80672755942835\n",
      "100 [49.80460977  4.02555881  3.93941294  3.63352269] 100.8641550946978\n",
      "200 [56.39270272  4.420755    3.54183645  3.67785495] 41.53289081147676\n",
      "300 [57.26641268  4.73090989  3.19796648  3.71589368] 40.27782364705437\n",
      "400 [57.38228371  4.98261903  2.90963497  3.75607275] 40.110600183955384\n",
      "500 [57.39765047  5.18734347  2.66799685  3.79599345] 40.00779847677804\n",
      "600 [57.39968841  5.35417972  2.46556247  3.83413077] 39.93712440874033\n",
      "700 [57.39995868  5.49039213  2.29602541  3.86959703] 39.888295806191955\n",
      "800 [57.39999452  5.60179686  2.15408016  3.90194191] 39.854501845242496\n",
      "900 [57.39999927  5.69306234  2.03526673  3.93100869] 39.831081219450965\n",
      "1000 [57.3999999   5.76794495  1.93583844  3.95683178] 39.81483142704751\n",
      "100 [49.84954529  4.32921047  4.06351366  3.20439865] 100.13426646755447\n",
      "200 [56.39866205  4.64567906  3.6405531   3.35166996] 41.51501309125902\n",
      "300 [57.26720301  4.89754057  3.27709754  3.46814585] 40.27911213707051\n",
      "400 [57.38238852  5.10579081  2.97322571  3.56776017] 40.11464975957528\n",
      "500 [57.39766437  5.27815758  2.71922332  3.65274024] 40.01233092135534\n",
      "600 [57.39969025  5.42093799  2.50692595  3.72505802] 39.94125448849238\n",
      "700 [57.39995892  5.53929712  2.32950086  3.78646888] 39.891726741924614\n",
      "800 [57.39999455  5.63747788  2.18123107  3.83852063] 39.85720742079813\n",
      "900 [57.39999928  5.71897037  2.05733407  3.88256756] 39.83314583059645\n",
      "1000 [57.3999999   5.78664912  1.95380978  3.91978723] 39.816372271072346\n",
      "100 [49.89480665  5.47372452  2.42069401  3.72799704] 98.56986125023278\n",
      "200 [56.40466459  5.59084768  2.26609758  3.79901363] 40.90732977342922\n",
      "300 [57.26799906  5.67963002  2.12816837  3.85010318] 39.864253826445676\n",
      "400 [57.38249409  5.753473    2.01291287  3.89305235] 39.82573736092403\n",
      "500 [57.39767837  5.81493557  1.91663177  3.92915521] 39.8109949497822\n",
      "600 [57.39969211  5.86610946  1.836204    3.95948267] 39.800928032391084\n",
      "700 [57.39995917  5.90872905  1.76902115  3.98494326] 39.79391189904985\n",
      "800 [57.39999458  5.94423341  1.71290351  4.00630648] 39.78901938133725\n",
      "900 [57.39999928  5.97381732  1.6660297   4.0242231 ] 39.78560762089155\n",
      "1000 [57.3999999   5.99847324  1.6268779   4.03924269] 39.7832284285036\n",
      "100 [49.61464286  4.23641211  3.46037781  3.90767499] 103.62669649748098\n",
      "200 [56.36750939  4.60331205  3.1430001   3.89976047] 41.387768641802225\n",
      "300 [57.26307155  4.88807242  2.86563504  3.89573132] 40.13826559641636\n",
      "400 [57.38184061  5.11741449  2.63265995  3.90212705] 40.01151117449345\n",
      "500 [57.39759171  5.30258629  2.43711346  3.91485163] 39.93804565029244\n",
      "600 [57.39968061  5.45243542  2.27306728  3.93104358] 39.88811692111979\n",
      "700 [57.39995764  5.57396535  2.1355106   3.94876075] 39.85391263212189\n",
      "800 [57.39999438  5.67273449  2.02021366  3.96671869] 39.83040644576776\n",
      "900 [57.39999926  5.75316588  1.92361013  3.98409907] 39.814210923947186\n",
      "1000 [57.3999999   5.8187883   1.84269606  4.0004102 ] 39.80302853970394\n",
      "100 [49.65199248  4.84607579  2.44952833  4.32234602] 102.57125502067788\n",
      "200 [56.37246268  5.11350909  2.29904694  4.2448963 ] 41.06174626284026\n",
      "300 [57.26372846  5.31491069  2.16097475  4.18305163] 39.917771909197505\n",
      "400 [57.38192773  5.47444929  2.04429258  4.14138763] 39.85766858158717\n",
      "500 [57.39760326  5.60118471  1.94583932  4.114145  ] 39.83064639651975\n",
      "600 [57.39968215  5.70212547  1.86285834  4.09708657] 39.81315359322374\n",
      "700 [57.39995785  5.78273054  1.79298608  4.08713155] 39.80159756173546\n",
      "800 [57.39999441  5.84726191  1.73420247  4.08205219] 39.79390181693319\n",
      "900 [57.39999926  5.89905506  1.68478572  4.08024822] 39.78874128404453\n",
      "1000 [57.3999999   5.94072682  1.64327164  4.08057931] 39.78525966105467\n",
      "100 [49.92560951  3.80476081  3.9692694   3.8191493 ] 99.08010263222296\n",
      "200 [56.40874965  4.25273697  3.57068032  3.81726606] 41.570001395554996\n",
      "300 [57.26854082  4.60174615  3.22379617  3.81936595] 40.321252904975644\n",
      "400 [57.38256594  4.88315373  2.9325145   3.83271697] 40.13835928187716\n",
      "500 [57.3976879   5.1106113   2.68809035  3.85263794] 40.02550112739475\n",
      "600 [57.39969337  5.29487316  2.48308638  3.87588588] 39.94852509905517\n",
      "700 [57.39995933  5.44446265  2.31122029  3.90028419] 39.8957095348886\n",
      "800 [57.39999461  5.56615286  2.16719203  3.92441602] 39.85936697845354\n",
      "900 [57.39999928  5.66534009  2.04653501  3.94740032] 39.83430073896735\n",
      "1000 [57.39999991  5.74633488  1.9454887   3.96872907] 39.81697817373225\n",
      "100 [49.75508763  4.88901647  2.93532072  3.78796632] 100.99414481328111\n",
      "200 [56.38613512  5.1234029   2.70013042  3.82743705] 41.09656049139664\n"
     ]
    },
    {
     "name": "stdout",
     "output_type": "stream",
     "text": [
      "300 [57.26554169  5.30408399  2.49294003  3.85662312] 39.9682089898288\n",
      "400 [57.3821682   5.45102057  2.31927234  3.88551667] 39.89682771387437\n",
      "500 [57.39763515  5.57077446  2.17378299  3.9130777 ] 39.86002835695391\n",
      "600 [57.39968638  5.66855516  2.05193864  3.93868098] 39.83481861152138\n",
      "700 [57.39995841  5.74853403  1.94992552  3.96201235] 39.81737369067195\n",
      "800 [57.39999448  5.81405966  1.86453776  3.9829663 ] 39.805282988108246\n",
      "900 [57.39999927  5.86782674  1.79308228  4.00157294] 39.796893762825825\n",
      "1000 [57.3999999   5.91200898  1.73329815  4.01794652] 39.79106747691918\n",
      "100 [49.75844806  4.40926581  2.9664973   4.23902064] 101.11692917198465\n",
      "200 [56.38658077  4.75670663  2.73123934  4.16409885] 41.20137944654336\n",
      "300 [57.26560079  5.02363292  2.52293629  4.10779758] 40.032165468712066\n",
      "400 [57.38217604  5.2362469   2.34735096  4.07268074] 39.935883048367955\n",
      "500 [57.39763619  5.40606385  2.19951444  4.05234906] 39.8841070111326\n",
      "600 [57.39968651  5.54204598  2.07514785  4.04214999] 39.849816259860006\n",
      "700 [57.39995843  5.65120853  1.97060469  4.03874334] 39.82681322750129\n",
      "800 [57.39999449  5.73905639  1.8827847   4.03975072] 39.81128664748396\n",
      "900 [57.39999927  5.80992023  1.80905731  4.04349577] 39.80075145034935\n",
      "1000 [57.3999999   5.86721571  1.74719444  4.04881207] 39.7935707344446\n",
      "100 [49.95204418  4.17340786  3.01610221  4.42384757] 98.20989102056708\n",
      "200 [56.41225541  4.57535261  2.77548298  4.30126966] 41.229161902514164\n",
      "300 [57.26900575  4.88361361  2.56166684  4.20906375] 40.080769872382895\n",
      "400 [57.3826276   5.12793102  2.38103742  4.14723281] 39.96636275883863\n",
      "500 [57.39769608  5.32210258  2.228658    4.10705809] 39.90306980621087\n",
      "600 [57.39969446  5.47682452  2.10024845  4.08214686] 39.86173139139123\n",
      "700 [57.39995948  5.60043158  1.99214119  4.06785519] 39.83437864869472\n",
      "800 [57.39999463  5.69943366  1.90120323  4.06082864] 39.816139911319816\n",
      "900 [57.39999929  5.77892765  1.82476531  4.05866065] 39.80389583999131\n",
      "1000 [57.39999991  5.84291402  1.76055844  4.05963908] 39.79562710154301\n",
      "100 [49.99999489  2.83578986  4.30900501  4.44831539] 98.7585774159955\n",
      "200 [56.41861461  3.4995896   3.86283585  4.27679315] 42.06799998772406\n",
      "300 [57.26984911  4.01529086  3.47439732  4.15370484] 40.64765491672485\n",
      "400 [57.38273945  4.42544038  3.14678388  4.074678  ] 40.346530594711716\n",
      "500 [57.39771091  4.7525229   2.87078976  4.02662456] 40.15948813893637\n",
      "600 [57.39969642  5.01403606  2.6384951   4.00001953] 40.03560599194108\n",
      "700 [57.39995974  5.22365648  2.44314011  3.98799615] 39.95282487309109\n",
      "800 [57.39999466  5.39210031  2.27896978  3.98563986] 39.897145136051606\n",
      "900 [57.39999929  5.52778502  2.1410953   3.98946451] 39.859480022404725\n",
      "1000 [57.39999991  5.63733937  2.02537156  3.99702468] 39.83387494680694\n",
      "100 [49.72344937  4.04865999  3.98784586  3.55202675] 102.17079987658825\n",
      "200 [56.38193926  4.43825077  3.58413818  3.61727199] 41.568340760760556\n",
      "300 [57.26498524  4.74229425  3.23279668  3.66907034] 40.28830443225713\n",
      "400 [57.3820944   4.98968785  2.93834143  3.71980571] 40.11831354712954\n",
      "500 [57.39762537  5.1914087   2.69168297  3.76784393] 40.013556765143065\n",
      "600 [57.39968508  5.35618918  2.48512667  3.81223401] 39.94135818502447\n",
      "700 [57.39995824  5.49102593  2.31220058  3.85252533] 39.891372308559404\n",
      "800 [57.39999446  5.60153897  2.16746525  3.88860065] 39.85671776864385\n",
      "900 [57.39999927  5.69225361  2.04635206  3.92055735] 39.83266658126054\n",
      "1000 [57.3999999   5.76682231  1.94502603  3.94862395] 39.815959767817745\n",
      "100 [49.76695753  4.01889243  2.82142601  4.76734361] 101.21057851348758\n",
      "200 [56.3877093   4.46891532  2.61866287  4.56747223] 41.324286461250225\n",
      "300 [57.26575046  4.8098067   2.43306515  4.41385581] 40.10031399384771\n",
      "400 [57.38219589  5.07765454  2.27541359  4.30504648] 39.972537512316165\n",
      "500 [57.39763883  5.28867942  2.14178685  4.22889209] 39.90347659527147\n",
      "600 [57.39968686  5.45536729  2.02870892  4.17638556] 39.85980538492608\n",
      "700 [57.39995847  5.58737792  1.9331573   4.14089685] 39.831780048064914\n",
      "800 [57.39999449  5.69219991  1.85251776  4.11756148] 39.813614358341766\n",
      "900 [57.39999927  5.77565115  1.78453924  4.1028239 ] 39.80172924858308\n",
      "1000 [57.3999999   5.84226158  1.72729067  4.09409686] 39.7938858593537\n",
      "100 [49.61731063  5.02083449  3.02294392  3.56848688] 103.21410114037133\n",
      "200 [56.36786319  5.21924184  2.77062908  3.65956198] 41.14286059312163\n",
      "300 [57.26311847  5.37378235  2.55020027  3.7284454 ] 39.97549900048987\n",
      "400 [57.38184683  5.50143531  2.36587571  3.78753337] 39.90227734479085\n",
      "500 [57.39759254  5.60700356  2.21178585  3.83807959] 39.86429288419329\n",
      "600 [57.39968072  5.69438366  2.08298464  3.88119673] 39.838060798121596\n",
      "700 [57.39995766  5.76676683  1.97533177  3.91788676] 39.81978719402342\n",
      "800 [57.39999438  5.8267708   1.88536234  3.94904134] 39.80705275198393\n",
      "900 [57.39999926  5.876546    1.81017726  3.97544653] 39.7981771879531\n",
      "1000 [57.3999999   5.91786139  1.74735132  3.99778995] 39.79199048372583\n",
      "100 [49.94571745  4.33506538  3.77128989  3.48763008] 98.46770587260815\n",
      "200 [56.41141636  4.6653406   3.40065722  3.57565016] 41.37087775067492\n",
      "300 [57.26889448  4.92348505  3.07825269  3.6441314 ] 40.19491991667202\n",
      "400 [57.38261284  5.1346315   2.80828979  3.70638317] 40.05532002072035\n",
      "500 [57.39769412  5.30765039  2.58232918  3.76221575] 39.97043165409683\n",
      "600 [57.3996942   5.44964385  2.3932418   3.81174078] 39.91173401050175\n",
      "700 [57.39995944  5.5663421   2.2350428   3.85528449] 39.870968779693285\n",
      "800 [57.39999462  5.66237929  2.10271067  3.89329512] 39.84263407097606\n",
      "900 [57.39999929  5.7415114   1.99203424  3.92627946] 39.822927449603135\n",
      "1000 [57.39999991  5.80678913  1.89948338  3.95476062] 39.80921479393956\n",
      "100 [49.77904142  5.03578044  3.01854939  3.54664848] 100.61867301120878\n",
      "200 [56.38931186  5.23346842  2.76988625  3.64599129] 41.095699422625266\n",
      "300 [57.26596299  5.38465055  2.54943104  3.7183121 ] 39.973691767554826\n",
      "400 [57.38222407  5.50974038  2.36511318  3.7799675 ] 39.901601238898216\n",
      "500 [57.39764256  5.61335795  2.21105848  3.83243704] 39.86385299388236\n",
      "600 [57.39968736  5.69925213  2.08230892  3.87699397] 39.83776670683593\n",
      "700 [57.39995854  5.77050227  1.97471601  3.91476097] 39.81958921194742\n",
      "800 [57.3999945   5.82964136  1.88480932  3.9467204 ] 39.80691872209677\n",
      "900 [57.39999927  5.87875557  1.80968618  3.97372646] 39.79808601293295\n",
      "1000 [57.3999999   5.91956517  1.74691919  3.99651795] 39.791928203891686\n",
      "58.6 ms ± 2.5 ms per loop (mean ± std. dev. of 7 runs, 10 loops each)\n"
     ]
    }
   ],
   "source": [
    "%%timeit\n",
    "eval_model(X_st, y, iterations=1000, alpha=1e-2)"
   ]
  },
  {
   "cell_type": "code",
   "execution_count": 75,
   "metadata": {
    "colab": {},
    "colab_type": "code",
    "id": "nCcMmNdQmxDp"
   },
   "outputs": [],
   "source": [
    "def eval_sgd_model(X, y, iterations, qty_in_batch=1, alpha=1e-4):\n",
    "    W = np.random.randn(X.shape[0])\n",
    "    n = X.shape[1]\n",
    "    n_batch = n // qty_in_batch\n",
    "    if n % qty_in_batch != 0:\n",
    "        n_batch += 1\n",
    "\n",
    "    for i in range(1, iterations+1):\n",
    "        # эпоха обучения\n",
    "        for b in range(n_batch):\n",
    "            start_ = qty_in_batch*b\n",
    "            end_ = qty_in_batch*(b+1)\n",
    "\n",
    "            # print(b, n_batch, start_, end_)\n",
    "\n",
    "            X_tmp = X[:, start_ : end_]\n",
    "            y_tmp = y[start_ : end_]\n",
    "            y_pred_tmp = np.dot(W, X_tmp)\n",
    "            err = calc_mse(y_tmp, y_pred_tmp)\n",
    "            W -= (alpha * (1/n * 2 * np.dot((y_pred_tmp - y_tmp), X_tmp.T)))\n",
    "\n",
    "    if i % (iterations / 10) == 0:\n",
    "        print(i, W, err)\n",
    "    return W"
   ]
  },
  {
   "cell_type": "code",
   "execution_count": null,
   "metadata": {},
   "outputs": [],
   "source": [
    "X.T.shape\n",
    "\n",
    "# batch_size = 2\n",
    "# 0-2, 2-4, ..., 8-10 - 5 групп\n",
    "# 1 эпоха"
   ]
  },
  {
   "cell_type": "code",
   "execution_count": 78,
   "metadata": {
    "colab": {
     "base_uri": "https://localhost:8080/",
     "height": 207
    },
    "colab_type": "code",
    "id": "2aXap4Vsm3GV",
    "outputId": "8b666b76-9d01-4b6d-813c-f1d3f5901f5f"
   },
   "outputs": [
    {
     "name": "stdout",
     "output_type": "stream",
     "text": [
      "5000 [57.4         6.12224328  1.42874472  4.11626043] 39.77774604635943\n",
      "5000 [57.4         6.12217569  1.42885424  4.11621704] 39.77774605651116\n",
      "5000 [57.4         6.12217261  1.42885706  4.11621727] 39.77774605683739\n",
      "5000 [57.4         6.12225727  1.42871932  4.1162722 ] 39.777746044498244\n",
      "5000 [57.4         6.12232905  1.42860423  4.11631705] 39.77774603822183\n",
      "5000 [57.4         6.1222238   1.42877496  4.11624927] 39.77774604883932\n",
      "5000 [57.4         6.12226018  1.42871765  4.11627096] 39.77774604436189\n",
      "5000 [57.4         6.12222345  1.42877394  4.11625066] 39.777746048764314\n",
      "5000 [57.4         6.12221449  1.42878949  4.11624385] 39.777746050121436\n",
      "5000 [57.4         6.12223298  1.42876057  4.11625467] 39.77774604762796\n",
      "5000 [57.4         6.12218362  1.42884129  4.11622222] 39.77774605513811\n",
      "5000 [57.4         6.12217573  1.42885399  4.11621725] 39.777746056486265\n",
      "5000 [57.4         6.12214941  1.42889621  4.11620079] 39.77774606129134\n",
      "5000 [57.4         6.12229566  1.42865705  4.11629691] 39.777746040648225\n",
      "5000 [57.4         6.12214165  1.4289081   4.11619649] 39.77774606274094\n",
      "5000 [57.4         6.1221272   1.42893139  4.11618734] 39.77774606567958\n",
      "5000 [57.4         6.12234393  1.42857989  4.11632683] 39.77774603736851\n",
      "5000 [57.4         6.12214493  1.42890424  4.11619712] 39.77774606225258\n",
      "5000 [57.4         6.12224687  1.42873677  4.1162649 ] 39.77774604576618\n",
      "5000 [57.4         6.12225313  1.42872635  4.11626921] 39.77774604499881\n",
      "5000 [57.4         6.12218473  1.42883895  4.11622349] 39.77774605489922\n",
      "5000 [57.4         6.12231054  1.42863437  4.11630501] 39.77774603950691\n",
      "5000 [57.4         6.12232378  1.428615    4.11631139] 39.777746038644274\n",
      "5000 [57.4         6.12232845  1.42860575  4.11631609] 39.77774603827878\n",
      "5000 [57.4         6.12219925  1.42881547  4.11623276] 39.77774605254168\n",
      "5000 [57.4         6.12223929  1.42874995  4.11625913] 39.77774604677689\n",
      "5000 [57.4         6.12229858  1.42865406  4.11629702] 39.77774604048185\n",
      "5000 [57.4         6.12230318  1.42864573  4.11630086] 39.77774604005958\n",
      "5000 [57.4         6.12221101  1.42879612  4.11624061] 39.77774605071585\n",
      "5000 [57.4         6.12224136  1.42874891  4.1162581 ] 39.77774604667903\n",
      "5000 [57.4         6.12221261  1.4287934   4.11624177] 39.777746050468366\n",
      "5000 [57.4         6.12210761  1.42896384  4.11617404] 39.77774607001693\n",
      "5000 [57.4         6.12208666  1.42899591  4.1161625 ] 39.777746074622044\n",
      "5000 [57.4         6.12222479  1.4287735   4.11624977] 39.77774604871265\n",
      "5000 [57.4         6.12224496  1.42874085  4.11626267] 39.77774604606908\n",
      "5000 [57.4         6.12222163  1.42877745  4.11624892] 39.777746049062294\n",
      "5000 [57.4         6.12225735  1.42872267  4.1162687 ] 39.77774604471375\n",
      "5000 [57.4         6.12224009  1.42874858  4.11625972] 39.77774604666932\n",
      "5000 [57.4         6.12217874  1.42884899  4.1162193 ] 39.77774605595142\n",
      "5000 [57.4         6.12219173  1.42882697  4.11622863] 39.77774605368323\n",
      "5000 [57.4         6.1220963   1.42898114  4.11616782] 39.77774607246576\n",
      "5000 [57.4         6.12215166  1.42889297  4.11620181] 39.77774606090172\n",
      "5000 [57.4         6.12218167  1.42884352  4.11622192] 39.77774605538037\n",
      "5000 [57.4         6.12224732  1.42873791  4.11626329] 39.77774604583958\n",
      "5000 [57.4         6.1222441   1.42874115  4.11626324] 39.7777460460998\n",
      "5000 [57.4         6.12219377  1.42882311  4.11623051] 39.77774605330288\n",
      "5000 [57.4         6.12225813  1.42871957  4.11627108] 39.77774604450508\n",
      "5000 [57.4         6.12209289  1.42898826  4.11616401] 39.777746073471306\n",
      "5000 [57.4         6.12223705  1.42875312  4.11625815] 39.77774604703181\n",
      "5000 [57.4         6.122195    1.42882137  4.11623104] 39.7777460531286\n",
      "5000 [57.4         6.12231296  1.42863071  4.11630629] 39.777746039336435\n",
      "5000 [57.4         6.12222489  1.42877361  4.11624955] 39.77774604872043\n",
      "5000 [57.4         6.12235791  1.4285587   4.11633432] 39.77774603675517\n",
      "5000 [57.4         6.12213458  1.42892099  4.11619049] 39.77774606433224\n",
      "5000 [57.4         6.12216697  1.42886785  4.11621196] 39.77774605801032\n",
      "5000 [57.4         6.12216769  1.42886777  4.11621132] 39.77774605799097\n",
      "5000 [57.4         6.12221017  1.42879817  4.11623937] 39.777746050899246\n",
      "5000 [57.4         6.12213533  1.42891907  4.11619169] 39.777746064097514\n",
      "5000 [57.4         6.12209488  1.42898337  4.11616699] 39.777746072785874\n",
      "5000 [57.4         6.12223937  1.42874947  4.11625953] 39.7777460467415\n",
      "5000 [57.4         6.12228088  1.42868252  4.11628587] 39.77774604208447\n",
      "5000 [57.4         6.12219898  1.42881492  4.11623359] 39.77774605249647\n",
      "5000 [57.4         6.12223605  1.4287564   4.11625583] 39.777746047283365\n",
      "5000 [57.4         6.1222749   1.42869268  4.11628156] 39.77774604270804\n",
      "5000 [57.4         6.1221642   1.42887174  4.1162108 ] 39.77774605845342\n",
      "5000 [57.4         6.1222723   1.42869556  4.11628124] 39.777746042898386\n",
      "5000 [57.4         6.12217569  1.4288527   4.1162186 ] 39.777746056360236\n",
      "5000 [57.4         6.1222397   1.42875068  4.11625797] 39.77774604682482\n",
      "5000 [57.4         6.12225344  1.4287285   4.11626671] 39.77774604513722\n",
      "5000 [57.4         6.12235049  1.42857101  4.11632927] 39.77774603709295\n",
      "5000 [57.4         6.12211375  1.42895316  4.11617872] 39.777746068563445\n",
      "5000 [57.4         6.12215069  1.42889362  4.11620213] 39.777746060987745\n",
      "5000 [57.4         6.12228522  1.4286747   4.11628947] 39.77774604162598\n",
      "5000 [57.4         6.12216469  1.42887126  4.11621079] 39.77774605839603\n",
      "5000 [57.4         6.12225447  1.42872317  4.1162711 ] 39.777746044776535\n",
      "5000 [57.4         6.12212229  1.4289392   4.11618433] 39.77774606670083\n",
      "5000 [57.4         6.12232574  1.42861148  4.116313  ] 39.77774603850134\n",
      "5000 [57.4         6.12216441  1.42887132  4.11621101] 39.77774605840724\n",
      "5000 [57.4         6.12218769  1.42883294  4.11622663] 39.77774605429262\n",
      "5000 [57.4         6.12213252  1.42892304  4.11619048] 39.77774606460652\n",
      "5000 [57.4         6.12223141  1.42876253  4.11625426] 39.7777460477933\n",
      "176 ms ± 11.2 ms per loop (mean ± std. dev. of 7 runs, 10 loops each)\n"
     ]
    }
   ],
   "source": [
    "%%timeit\n",
    "eval_sgd_model(X_st, y, iterations=5000, qty_in_batch=64, alpha=1e-2)"
   ]
  },
  {
   "cell_type": "code",
   "execution_count": null,
   "metadata": {},
   "outputs": [],
   "source": [
    "# early_stopping\n",
    "# задаем очень большое число эпозх -> 1e5\n",
    "# n = 25, 50, 100, \n",
    "\n",
    "# 1000\n",
    "# 200\n",
    "# ...\n",
    "# 0.01"
   ]
  },
  {
   "cell_type": "code",
   "execution_count": null,
   "metadata": {},
   "outputs": [],
   "source": [
    "from sklearn.linear_model import LinearRegression\n",
    "from sklearn.linear_model import Lasso, Ridge"
   ]
  },
  {
   "cell_type": "code",
   "execution_count": null,
   "metadata": {},
   "outputs": [],
   "source": [
    "Lasso().fit(X.T, y)"
   ]
  },
  {
   "cell_type": "code",
   "execution_count": null,
   "metadata": {},
   "outputs": [],
   "source": [
    "Ridge().fit(X.T, y)"
   ]
  },
  {
   "cell_type": "code",
   "execution_count": null,
   "metadata": {
    "colab": {},
    "colab_type": "code",
    "id": "DYTxT_6OrZpe"
   },
   "outputs": [],
   "source": [
    "# L1 регуляризация - Lasso"
   ]
  },
  {
   "cell_type": "markdown",
   "metadata": {
    "colab": {},
    "colab_type": "code",
    "id": "Ojkn7xKrsyiw"
   },
   "source": [
    "f(x, W) + (lambda_/2) * np.sum(np.abs(W))"
   ]
  },
  {
   "cell_type": "code",
   "execution_count": null,
   "metadata": {
    "colab": {},
    "colab_type": "code",
    "id": "j38vId7Hvtg0"
   },
   "outputs": [],
   "source": [
    "# L2 регуляризация - Ridge"
   ]
  },
  {
   "cell_type": "markdown",
   "metadata": {
    "colab": {},
    "colab_type": "code",
    "id": "KO5BtZ7svv4k"
   },
   "source": [
    "f(x, W) + (lambda_/2) * np.sum(W**2)"
   ]
  },
  {
   "cell_type": "markdown",
   "metadata": {
    "colab": {},
    "colab_type": "code",
    "id": "VhcEvi875yD4"
   },
   "source": [
    "df/dw1 = d(w1**2 + w2**2 + w3**2) / dw1 = 2*w1 + 0 + 0 = 2*w1"
   ]
  },
  {
   "cell_type": "code",
   "execution_count": null,
   "metadata": {
    "colab": {},
    "colab_type": "code",
    "id": "PKmpPziCv3IC"
   },
   "outputs": [],
   "source": [
    "f'(x, W) + lambda_ * np.sum(W)"
   ]
  },
  {
   "cell_type": "code",
   "execution_count": null,
   "metadata": {
    "colab": {},
    "colab_type": "code",
    "id": "7AVoe1Mswjni"
   },
   "outputs": [],
   "source": [
    "def eval_model_reg2(X, y, iterations, alpha=1e-4, lambda_=1e-8):\n",
    "    np.random.seed(42)\n",
    "    W = np.random.randn(X.shape[0])\n",
    "    n = X.shape[1]\n",
    "    for i in range(1, iterations+1):\n",
    "        y_pred = np.dot(W, X)\n",
    "        err = calc_mse(y, y_pred)\n",
    "        W -= alpha * (1/n * 2 * np.dot((y_pred - y), X.T) + lambda_ * W) \n",
    "    if i % (iterations / 10) == 0:\n",
    "        print(i, W, err)\n",
    "    return W"
   ]
  },
  {
   "cell_type": "code",
   "execution_count": null,
   "metadata": {
    "colab": {
     "base_uri": "https://localhost:8080/",
     "height": 207
    },
    "colab_type": "code",
    "id": "vLJL6j8Lw6OA",
    "outputId": "dac9ef42-5966-4404-9346-aeb18cca83c6"
   },
   "outputs": [],
   "source": [
    "eval_model_reg2(X_st, y, iterations=5000, alpha=1e-2, lambda_=1e-4)"
   ]
  },
  {
   "cell_type": "code",
   "execution_count": null,
   "metadata": {
    "colab": {},
    "colab_type": "code",
    "id": "WLREMakFxQgX"
   },
   "outputs": [],
   "source": [
    "# В некоторых алгоритмах используется обратный коэффициент\n",
    "C = 1/lambda"
   ]
  },
  {
   "cell_type": "code",
   "execution_count": null,
   "metadata": {},
   "outputs": [],
   "source": [
    "X.T"
   ]
  },
  {
   "cell_type": "code",
   "execution_count": null,
   "metadata": {},
   "outputs": [],
   "source": [
    "y"
   ]
  },
  {
   "cell_type": "code",
   "execution_count": null,
   "metadata": {},
   "outputs": [],
   "source": [
    "# X -> X_train, X_valid\n",
    "# 70/30, 80/20\n",
    "# Кросс-валидация\n",
    "\n",
    "\n",
    "# R2 = 0.75\n",
    "# Доверительный интервал: [0.65, 0.85], [0.74, 0.76] 95%"
   ]
  },
  {
   "cell_type": "code",
   "execution_count": null,
   "metadata": {},
   "outputs": [],
   "source": [
    "# X - конечная выборка\n",
    "# Генеральная совокупность\n",
    "\n",
    "# Пример: средняя зарплата в России\n",
    "# Эксперимент 1: X\n",
    "# Эксперименте 2: 1.1*x\n",
    "# Эксперименте 3: 0.98*x"
   ]
  },
  {
   "cell_type": "code",
   "execution_count": null,
   "metadata": {},
   "outputs": [],
   "source": [
    "from sklearn.metrics import r2_score, mean_squared_error"
   ]
  },
  {
   "cell_type": "code",
   "execution_count": null,
   "metadata": {},
   "outputs": [],
   "source": [
    "y_true = [0, 1, 1, 0, 1]\n",
    "y_pred = [10, 5, 2, 1, 0]\n",
    "\n",
    "mean_squared_error(y_true, y_pred)"
   ]
  },
  {
   "cell_type": "code",
   "execution_count": null,
   "metadata": {},
   "outputs": [],
   "source": [
    "r2_score(y_true, y_pred)"
   ]
  },
  {
   "cell_type": "code",
   "execution_count": null,
   "metadata": {},
   "outputs": [],
   "source": [
    "from sklearn.model_selection import KFold, StratifiedKFold, GroupKFold"
   ]
  },
  {
   "cell_type": "code",
   "execution_count": null,
   "metadata": {},
   "outputs": [],
   "source": [
    "scaler.fit_transform(x_train) # #mean #std -> (x - #mean) / #std\n",
    "scaler.transform(x_test) # (x - #mean) / #std"
   ]
  }
 ],
 "metadata": {
  "colab": {
   "collapsed_sections": [],
   "name": "Lesson2.ipynb",
   "provenance": []
  },
  "kernelspec": {
   "display_name": "Python 3 (ipykernel)",
   "language": "python",
   "name": "python3"
  },
  "language_info": {
   "codemirror_mode": {
    "name": "ipython",
    "version": 3
   },
   "file_extension": ".py",
   "mimetype": "text/x-python",
   "name": "python",
   "nbconvert_exporter": "python",
   "pygments_lexer": "ipython3",
   "version": "3.9.13"
  }
 },
 "nbformat": 4,
 "nbformat_minor": 1
}
